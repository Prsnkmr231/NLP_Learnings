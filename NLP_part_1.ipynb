{
  "nbformat": 4,
  "nbformat_minor": 0,
  "metadata": {
    "colab": {
      "provenance": []
    },
    "kernelspec": {
      "name": "python3",
      "display_name": "Python 3"
    },
    "language_info": {
      "name": "python"
    }
  },
  "cells": [
    {
      "cell_type": "code",
      "execution_count": null,
      "metadata": {
        "colab": {
          "base_uri": "https://localhost:8080/"
        },
        "id": "5ouNncQGZD-h",
        "outputId": "d56377a6-35d7-4f5b-f46b-c4f26d40d946",
        "collapsed": true
      },
      "outputs": [
        {
          "output_type": "stream",
          "name": "stdout",
          "text": [
            "Requirement already satisfied: nltk in /usr/local/lib/python3.10/dist-packages (3.8.1)\n",
            "Requirement already satisfied: click in /usr/local/lib/python3.10/dist-packages (from nltk) (8.1.7)\n",
            "Requirement already satisfied: joblib in /usr/local/lib/python3.10/dist-packages (from nltk) (1.4.2)\n",
            "Requirement already satisfied: regex>=2021.8.3 in /usr/local/lib/python3.10/dist-packages (from nltk) (2024.5.15)\n",
            "Requirement already satisfied: tqdm in /usr/local/lib/python3.10/dist-packages (from nltk) (4.66.4)\n"
          ]
        }
      ],
      "source": []
    },
    {
      "cell_type": "code",
      "source": [
        "!pip install nltk\n",
        "import nltk\n",
        "nltk.download('punkt')\n",
        "nltk.download('stopwords')\n",
        "nltk.download('wordnet')\n",
        "nltk.download('maxent_ne_chunker')\n",
        "nltk.download('words')\n"
      ],
      "metadata": {
        "colab": {
          "base_uri": "https://localhost:8080/"
        },
        "id": "67WYngvQZWc0",
        "outputId": "eabbc9b4-29a6-4e65-a507-ce2195c15ed9"
      },
      "execution_count": null,
      "outputs": [
        {
          "output_type": "stream",
          "name": "stderr",
          "text": [
            "[nltk_data] Downloading package punkt to /root/nltk_data...\n",
            "[nltk_data]   Unzipping tokenizers/punkt.zip.\n",
            "[nltk_data] Downloading package stopwords to /root/nltk_data...\n",
            "[nltk_data]   Unzipping corpora/stopwords.zip.\n"
          ]
        },
        {
          "output_type": "execute_result",
          "data": {
            "text/plain": [
              "True"
            ]
          },
          "metadata": {},
          "execution_count": 3
        }
      ]
    },
    {
      "cell_type": "markdown",
      "source": [
        "**Word and Sentence Tokenization**"
      ],
      "metadata": {
        "id": "hjGTl6D7jPkj"
      }
    },
    {
      "cell_type": "markdown",
      "source": [
        "Tokenization is a fundamental process in natural language processing (NLP) that involves breaking down a sequence of text into individual units called tokens.Tokens can be words, subwords, or characters, depending on the level of granularity desired. This process is essential for various NLP tasks, including machine translation, sentiment analysis, and text classification. Hugging Face Transformers provides powerful tools for tokenization, allowing researchers and developers to easily work with pre-trained models and build applications for a wide range of language-related tasks."
      ],
      "metadata": {
        "id": "g3i7KCBJACY0"
      }
    },
    {
      "cell_type": "code",
      "source": [
        "paragraph =\"\"\"Tokenization is a fundamental process in natural language processing (NLP) that involves breaking down a sequence of text into individual units called tokens. Tokens can be words, subwords, or characters, depending on the level of granularity desired. This process is essential for various NLP tasks, including machine translation, sentiment analysis, and text classification. Hugging Face Transformers provides powerful tools for tokenization, allowing researchers and developers to easily work with pre-trained models and build applications for a wide range of language-related tasks.\"\"\"\n",
        "sentences = nltk.sent_tokenize(paragraph)\n",
        "words = nltk.word_tokenize(paragraph)\n",
        "\n",
        "print(sentences)\n",
        "print(words)\n",
        "print(f\"length of the sentences list is: {len(sentences)}\")\n",
        "print(f\"length of the words list is: {len(words)}\")"
      ],
      "metadata": {
        "id": "XQgKA8e4fcsh",
        "colab": {
          "base_uri": "https://localhost:8080/"
        },
        "outputId": "24d56ccc-1e0a-47fb-a506-565c7b5f8cf0"
      },
      "execution_count": null,
      "outputs": [
        {
          "output_type": "stream",
          "name": "stdout",
          "text": [
            "['Tokenization is a fundamental process in natural language processing (NLP) that involves breaking down a sequence of text into individual units called tokens.', 'Tokens can be words, subwords, or characters, depending on the level of granularity desired.', 'This process is essential for various NLP tasks, including machine translation, sentiment analysis, and text classification.', 'Hugging Face Transformers provides powerful tools for tokenization, allowing researchers and developers to easily work with pre-trained models and build applications for a wide range of language-related tasks.']\n",
            "['Tokenization', 'is', 'a', 'fundamental', 'process', 'in', 'natural', 'language', 'processing', '(', 'NLP', ')', 'that', 'involves', 'breaking', 'down', 'a', 'sequence', 'of', 'text', 'into', 'individual', 'units', 'called', 'tokens', '.', 'Tokens', 'can', 'be', 'words', ',', 'subwords', ',', 'or', 'characters', ',', 'depending', 'on', 'the', 'level', 'of', 'granularity', 'desired', '.', 'This', 'process', 'is', 'essential', 'for', 'various', 'NLP', 'tasks', ',', 'including', 'machine', 'translation', ',', 'sentiment', 'analysis', ',', 'and', 'text', 'classification', '.', 'Hugging', 'Face', 'Transformers', 'provides', 'powerful', 'tools', 'for', 'tokenization', ',', 'allowing', 'researchers', 'and', 'developers', 'to', 'easily', 'work', 'with', 'pre-trained', 'models', 'and', 'build', 'applications', 'for', 'a', 'wide', 'range', 'of', 'language-related', 'tasks', '.']\n",
            "length of the sentences list is: 4\n",
            "length of the words list is: 94\n"
          ]
        }
      ]
    },
    {
      "cell_type": "markdown",
      "source": [
        "**Unigrams,Bigrams,Trigrms,Ngrams**\n",
        "\n",
        "**Unigrams**:\n",
        "\n",
        " tokens of single consecutive written words are known as unigrams.\n",
        "\n",
        "ex:\"This is a sentence\", unigrams = \"This\",\"is\",\"a\",\"sentence\"\n",
        "\n",
        "**Bigrams**:\n",
        "\n",
        "  Tokens of two consecutive written words are known as bigrams.\n",
        "\n",
        "ex: \"This is a sentence\" Bigrams= \"this is\",\"is a\",\"a sentence\"\n",
        "\n",
        "**Trigrams**:\n",
        "  \n",
        "  Tokens of three consecutive written words are known as trigrams.\n",
        "\n",
        "  ex: \"This is a sentence\" Bigrams= \"this is a\",\"is a sentence\" sentence\"\n",
        "\n",
        "**Ngram**s:\n",
        "\n",
        "  Tokens of any number of consecutive written words are known as ngrams.\n",
        "\n",
        "   n = 4\n",
        "\n",
        "   ex: \"This is a sentence\" Bigrams= \"this is a sentence\"\n"
      ],
      "metadata": {
        "id": "UWh-JpkopPEu"
      }
    },
    {
      "cell_type": "code",
      "source": [
        "from nltk.util import bigrams,trigrams,ngrams\n",
        "\n",
        "string = \"\"\"ONCE upon a time, many years ago when our grandfathers were little\n",
        "children—there was a doctor; and his name was Dolittle—John Dolittle,\n",
        "M.D. \"M.D.\" means that he was a proper doctor and knew a whole lot.\n",
        "He lived in a little town called, Puddleby-on-the-Marsh. All the folks,\n",
        "young and old, knew him well by sight. And whenever he walked down\n",
        "the street in his high hat everyone would say, \"There goes the Doctor!—\n",
        "He's a clever man.\" And the dogs and the children would all run up and\n",
        "follow behind him; and even the crows that lived in the church-tower\n",
        "would caw and nod their heads.\"\"\"\n",
        "\n",
        "unigrams = nltk.word_tokenize(string)\n",
        "bigrams = list(bigrams(unigrams))\n",
        "trigrams = list(trigrams(unigrams))\n",
        "ngrams = list(ngrams(unigrams,4))\n",
        "print(unigrams)\n",
        "print(bigrams)\n",
        "print(trigrams)\n",
        "print(ngrams)"
      ],
      "metadata": {
        "colab": {
          "base_uri": "https://localhost:8080/"
        },
        "id": "77LAgpo2q7c-",
        "outputId": "33a7413a-91f4-4997-d702-f40a8b1b03f2"
      },
      "execution_count": 56,
      "outputs": [
        {
          "output_type": "stream",
          "name": "stdout",
          "text": [
            "['ONCE', 'upon', 'a', 'time', ',', 'many', 'years', 'ago', 'when', 'our', 'grandfathers', 'were', 'little', 'children—there', 'was', 'a', 'doctor', ';', 'and', 'his', 'name', 'was', 'Dolittle—John', 'Dolittle', ',', 'M.D', '.', '``', 'M.D', '.', \"''\", 'means', 'that', 'he', 'was', 'a', 'proper', 'doctor', 'and', 'knew', 'a', 'whole', 'lot', '.', 'He', 'lived', 'in', 'a', 'little', 'town', 'called', ',', 'Puddleby-on-the-Marsh', '.', 'All', 'the', 'folks', ',', 'young', 'and', 'old', ',', 'knew', 'him', 'well', 'by', 'sight', '.', 'And', 'whenever', 'he', 'walked', 'down', 'the', 'street', 'in', 'his', 'high', 'hat', 'everyone', 'would', 'say', ',', '``', 'There', 'goes', 'the', 'Doctor', '!', '—', 'He', \"'s\", 'a', 'clever', 'man', '.', \"''\", 'And', 'the', 'dogs', 'and', 'the', 'children', 'would', 'all', 'run', 'up', 'and', 'follow', 'behind', 'him', ';', 'and', 'even', 'the', 'crows', 'that', 'lived', 'in', 'the', 'church-tower', 'would', 'caw', 'and', 'nod', 'their', 'heads', '.']\n",
            "[('ONCE', 'upon'), ('upon', 'a'), ('a', 'time'), ('time', ','), (',', 'many'), ('many', 'years'), ('years', 'ago'), ('ago', 'when'), ('when', 'our'), ('our', 'grandfathers'), ('grandfathers', 'were'), ('were', 'little'), ('little', 'children—there'), ('children—there', 'was'), ('was', 'a'), ('a', 'doctor'), ('doctor', ';'), (';', 'and'), ('and', 'his'), ('his', 'name'), ('name', 'was'), ('was', 'Dolittle—John'), ('Dolittle—John', 'Dolittle'), ('Dolittle', ','), (',', 'M.D'), ('M.D', '.'), ('.', '``'), ('``', 'M.D'), ('M.D', '.'), ('.', \"''\"), (\"''\", 'means'), ('means', 'that'), ('that', 'he'), ('he', 'was'), ('was', 'a'), ('a', 'proper'), ('proper', 'doctor'), ('doctor', 'and'), ('and', 'knew'), ('knew', 'a'), ('a', 'whole'), ('whole', 'lot'), ('lot', '.'), ('.', 'He'), ('He', 'lived'), ('lived', 'in'), ('in', 'a'), ('a', 'little'), ('little', 'town'), ('town', 'called'), ('called', ','), (',', 'Puddleby-on-the-Marsh'), ('Puddleby-on-the-Marsh', '.'), ('.', 'All'), ('All', 'the'), ('the', 'folks'), ('folks', ','), (',', 'young'), ('young', 'and'), ('and', 'old'), ('old', ','), (',', 'knew'), ('knew', 'him'), ('him', 'well'), ('well', 'by'), ('by', 'sight'), ('sight', '.'), ('.', 'And'), ('And', 'whenever'), ('whenever', 'he'), ('he', 'walked'), ('walked', 'down'), ('down', 'the'), ('the', 'street'), ('street', 'in'), ('in', 'his'), ('his', 'high'), ('high', 'hat'), ('hat', 'everyone'), ('everyone', 'would'), ('would', 'say'), ('say', ','), (',', '``'), ('``', 'There'), ('There', 'goes'), ('goes', 'the'), ('the', 'Doctor'), ('Doctor', '!'), ('!', '—'), ('—', 'He'), ('He', \"'s\"), (\"'s\", 'a'), ('a', 'clever'), ('clever', 'man'), ('man', '.'), ('.', \"''\"), (\"''\", 'And'), ('And', 'the'), ('the', 'dogs'), ('dogs', 'and'), ('and', 'the'), ('the', 'children'), ('children', 'would'), ('would', 'all'), ('all', 'run'), ('run', 'up'), ('up', 'and'), ('and', 'follow'), ('follow', 'behind'), ('behind', 'him'), ('him', ';'), (';', 'and'), ('and', 'even'), ('even', 'the'), ('the', 'crows'), ('crows', 'that'), ('that', 'lived'), ('lived', 'in'), ('in', 'the'), ('the', 'church-tower'), ('church-tower', 'would'), ('would', 'caw'), ('caw', 'and'), ('and', 'nod'), ('nod', 'their'), ('their', 'heads'), ('heads', '.')]\n",
            "[('ONCE', 'upon', 'a'), ('upon', 'a', 'time'), ('a', 'time', ','), ('time', ',', 'many'), (',', 'many', 'years'), ('many', 'years', 'ago'), ('years', 'ago', 'when'), ('ago', 'when', 'our'), ('when', 'our', 'grandfathers'), ('our', 'grandfathers', 'were'), ('grandfathers', 'were', 'little'), ('were', 'little', 'children—there'), ('little', 'children—there', 'was'), ('children—there', 'was', 'a'), ('was', 'a', 'doctor'), ('a', 'doctor', ';'), ('doctor', ';', 'and'), (';', 'and', 'his'), ('and', 'his', 'name'), ('his', 'name', 'was'), ('name', 'was', 'Dolittle—John'), ('was', 'Dolittle—John', 'Dolittle'), ('Dolittle—John', 'Dolittle', ','), ('Dolittle', ',', 'M.D'), (',', 'M.D', '.'), ('M.D', '.', '``'), ('.', '``', 'M.D'), ('``', 'M.D', '.'), ('M.D', '.', \"''\"), ('.', \"''\", 'means'), (\"''\", 'means', 'that'), ('means', 'that', 'he'), ('that', 'he', 'was'), ('he', 'was', 'a'), ('was', 'a', 'proper'), ('a', 'proper', 'doctor'), ('proper', 'doctor', 'and'), ('doctor', 'and', 'knew'), ('and', 'knew', 'a'), ('knew', 'a', 'whole'), ('a', 'whole', 'lot'), ('whole', 'lot', '.'), ('lot', '.', 'He'), ('.', 'He', 'lived'), ('He', 'lived', 'in'), ('lived', 'in', 'a'), ('in', 'a', 'little'), ('a', 'little', 'town'), ('little', 'town', 'called'), ('town', 'called', ','), ('called', ',', 'Puddleby-on-the-Marsh'), (',', 'Puddleby-on-the-Marsh', '.'), ('Puddleby-on-the-Marsh', '.', 'All'), ('.', 'All', 'the'), ('All', 'the', 'folks'), ('the', 'folks', ','), ('folks', ',', 'young'), (',', 'young', 'and'), ('young', 'and', 'old'), ('and', 'old', ','), ('old', ',', 'knew'), (',', 'knew', 'him'), ('knew', 'him', 'well'), ('him', 'well', 'by'), ('well', 'by', 'sight'), ('by', 'sight', '.'), ('sight', '.', 'And'), ('.', 'And', 'whenever'), ('And', 'whenever', 'he'), ('whenever', 'he', 'walked'), ('he', 'walked', 'down'), ('walked', 'down', 'the'), ('down', 'the', 'street'), ('the', 'street', 'in'), ('street', 'in', 'his'), ('in', 'his', 'high'), ('his', 'high', 'hat'), ('high', 'hat', 'everyone'), ('hat', 'everyone', 'would'), ('everyone', 'would', 'say'), ('would', 'say', ','), ('say', ',', '``'), (',', '``', 'There'), ('``', 'There', 'goes'), ('There', 'goes', 'the'), ('goes', 'the', 'Doctor'), ('the', 'Doctor', '!'), ('Doctor', '!', '—'), ('!', '—', 'He'), ('—', 'He', \"'s\"), ('He', \"'s\", 'a'), (\"'s\", 'a', 'clever'), ('a', 'clever', 'man'), ('clever', 'man', '.'), ('man', '.', \"''\"), ('.', \"''\", 'And'), (\"''\", 'And', 'the'), ('And', 'the', 'dogs'), ('the', 'dogs', 'and'), ('dogs', 'and', 'the'), ('and', 'the', 'children'), ('the', 'children', 'would'), ('children', 'would', 'all'), ('would', 'all', 'run'), ('all', 'run', 'up'), ('run', 'up', 'and'), ('up', 'and', 'follow'), ('and', 'follow', 'behind'), ('follow', 'behind', 'him'), ('behind', 'him', ';'), ('him', ';', 'and'), (';', 'and', 'even'), ('and', 'even', 'the'), ('even', 'the', 'crows'), ('the', 'crows', 'that'), ('crows', 'that', 'lived'), ('that', 'lived', 'in'), ('lived', 'in', 'the'), ('in', 'the', 'church-tower'), ('the', 'church-tower', 'would'), ('church-tower', 'would', 'caw'), ('would', 'caw', 'and'), ('caw', 'and', 'nod'), ('and', 'nod', 'their'), ('nod', 'their', 'heads'), ('their', 'heads', '.')]\n",
            "[('ONCE', 'upon', 'a', 'time'), ('upon', 'a', 'time', ','), ('a', 'time', ',', 'many'), ('time', ',', 'many', 'years'), (',', 'many', 'years', 'ago'), ('many', 'years', 'ago', 'when'), ('years', 'ago', 'when', 'our'), ('ago', 'when', 'our', 'grandfathers'), ('when', 'our', 'grandfathers', 'were'), ('our', 'grandfathers', 'were', 'little'), ('grandfathers', 'were', 'little', 'children—there'), ('were', 'little', 'children—there', 'was'), ('little', 'children—there', 'was', 'a'), ('children—there', 'was', 'a', 'doctor'), ('was', 'a', 'doctor', ';'), ('a', 'doctor', ';', 'and'), ('doctor', ';', 'and', 'his'), (';', 'and', 'his', 'name'), ('and', 'his', 'name', 'was'), ('his', 'name', 'was', 'Dolittle—John'), ('name', 'was', 'Dolittle—John', 'Dolittle'), ('was', 'Dolittle—John', 'Dolittle', ','), ('Dolittle—John', 'Dolittle', ',', 'M.D'), ('Dolittle', ',', 'M.D', '.'), (',', 'M.D', '.', '``'), ('M.D', '.', '``', 'M.D'), ('.', '``', 'M.D', '.'), ('``', 'M.D', '.', \"''\"), ('M.D', '.', \"''\", 'means'), ('.', \"''\", 'means', 'that'), (\"''\", 'means', 'that', 'he'), ('means', 'that', 'he', 'was'), ('that', 'he', 'was', 'a'), ('he', 'was', 'a', 'proper'), ('was', 'a', 'proper', 'doctor'), ('a', 'proper', 'doctor', 'and'), ('proper', 'doctor', 'and', 'knew'), ('doctor', 'and', 'knew', 'a'), ('and', 'knew', 'a', 'whole'), ('knew', 'a', 'whole', 'lot'), ('a', 'whole', 'lot', '.'), ('whole', 'lot', '.', 'He'), ('lot', '.', 'He', 'lived'), ('.', 'He', 'lived', 'in'), ('He', 'lived', 'in', 'a'), ('lived', 'in', 'a', 'little'), ('in', 'a', 'little', 'town'), ('a', 'little', 'town', 'called'), ('little', 'town', 'called', ','), ('town', 'called', ',', 'Puddleby-on-the-Marsh'), ('called', ',', 'Puddleby-on-the-Marsh', '.'), (',', 'Puddleby-on-the-Marsh', '.', 'All'), ('Puddleby-on-the-Marsh', '.', 'All', 'the'), ('.', 'All', 'the', 'folks'), ('All', 'the', 'folks', ','), ('the', 'folks', ',', 'young'), ('folks', ',', 'young', 'and'), (',', 'young', 'and', 'old'), ('young', 'and', 'old', ','), ('and', 'old', ',', 'knew'), ('old', ',', 'knew', 'him'), (',', 'knew', 'him', 'well'), ('knew', 'him', 'well', 'by'), ('him', 'well', 'by', 'sight'), ('well', 'by', 'sight', '.'), ('by', 'sight', '.', 'And'), ('sight', '.', 'And', 'whenever'), ('.', 'And', 'whenever', 'he'), ('And', 'whenever', 'he', 'walked'), ('whenever', 'he', 'walked', 'down'), ('he', 'walked', 'down', 'the'), ('walked', 'down', 'the', 'street'), ('down', 'the', 'street', 'in'), ('the', 'street', 'in', 'his'), ('street', 'in', 'his', 'high'), ('in', 'his', 'high', 'hat'), ('his', 'high', 'hat', 'everyone'), ('high', 'hat', 'everyone', 'would'), ('hat', 'everyone', 'would', 'say'), ('everyone', 'would', 'say', ','), ('would', 'say', ',', '``'), ('say', ',', '``', 'There'), (',', '``', 'There', 'goes'), ('``', 'There', 'goes', 'the'), ('There', 'goes', 'the', 'Doctor'), ('goes', 'the', 'Doctor', '!'), ('the', 'Doctor', '!', '—'), ('Doctor', '!', '—', 'He'), ('!', '—', 'He', \"'s\"), ('—', 'He', \"'s\", 'a'), ('He', \"'s\", 'a', 'clever'), (\"'s\", 'a', 'clever', 'man'), ('a', 'clever', 'man', '.'), ('clever', 'man', '.', \"''\"), ('man', '.', \"''\", 'And'), ('.', \"''\", 'And', 'the'), (\"''\", 'And', 'the', 'dogs'), ('And', 'the', 'dogs', 'and'), ('the', 'dogs', 'and', 'the'), ('dogs', 'and', 'the', 'children'), ('and', 'the', 'children', 'would'), ('the', 'children', 'would', 'all'), ('children', 'would', 'all', 'run'), ('would', 'all', 'run', 'up'), ('all', 'run', 'up', 'and'), ('run', 'up', 'and', 'follow'), ('up', 'and', 'follow', 'behind'), ('and', 'follow', 'behind', 'him'), ('follow', 'behind', 'him', ';'), ('behind', 'him', ';', 'and'), ('him', ';', 'and', 'even'), (';', 'and', 'even', 'the'), ('and', 'even', 'the', 'crows'), ('even', 'the', 'crows', 'that'), ('the', 'crows', 'that', 'lived'), ('crows', 'that', 'lived', 'in'), ('that', 'lived', 'in', 'the'), ('lived', 'in', 'the', 'church-tower'), ('in', 'the', 'church-tower', 'would'), ('the', 'church-tower', 'would', 'caw'), ('church-tower', 'would', 'caw', 'and'), ('would', 'caw', 'and', 'nod'), ('caw', 'and', 'nod', 'their'), ('and', 'nod', 'their', 'heads'), ('nod', 'their', 'heads', '.')]\n"
          ]
        }
      ]
    },
    {
      "cell_type": "markdown",
      "source": [
        "**Printing the stop words in english**"
      ],
      "metadata": {
        "id": "t7ykVWpVQa7s"
      }
    },
    {
      "cell_type": "code",
      "source": [
        "\n",
        "from nltk.stem import PorterStemmer\n",
        "from nltk.corpus import stopwords\n",
        "\n",
        "print(stopwords.words('english'))"
      ],
      "metadata": {
        "colab": {
          "base_uri": "https://localhost:8080/"
        },
        "id": "AOGTz1bRA_Kt",
        "outputId": "7ac70f08-2e7c-4d50-ef9e-6a6db52a3ee8"
      },
      "execution_count": null,
      "outputs": [
        {
          "output_type": "stream",
          "name": "stdout",
          "text": [
            "['i', 'me', 'my', 'myself', 'we', 'our', 'ours', 'ourselves', 'you', \"you're\", \"you've\", \"you'll\", \"you'd\", 'your', 'yours', 'yourself', 'yourselves', 'he', 'him', 'his', 'himself', 'she', \"she's\", 'her', 'hers', 'herself', 'it', \"it's\", 'its', 'itself', 'they', 'them', 'their', 'theirs', 'themselves', 'what', 'which', 'who', 'whom', 'this', 'that', \"that'll\", 'these', 'those', 'am', 'is', 'are', 'was', 'were', 'be', 'been', 'being', 'have', 'has', 'had', 'having', 'do', 'does', 'did', 'doing', 'a', 'an', 'the', 'and', 'but', 'if', 'or', 'because', 'as', 'until', 'while', 'of', 'at', 'by', 'for', 'with', 'about', 'against', 'between', 'into', 'through', 'during', 'before', 'after', 'above', 'below', 'to', 'from', 'up', 'down', 'in', 'out', 'on', 'off', 'over', 'under', 'again', 'further', 'then', 'once', 'here', 'there', 'when', 'where', 'why', 'how', 'all', 'any', 'both', 'each', 'few', 'more', 'most', 'other', 'some', 'such', 'no', 'nor', 'not', 'only', 'own', 'same', 'so', 'than', 'too', 'very', 's', 't', 'can', 'will', 'just', 'don', \"don't\", 'should', \"should've\", 'now', 'd', 'll', 'm', 'o', 're', 've', 'y', 'ain', 'aren', \"aren't\", 'couldn', \"couldn't\", 'didn', \"didn't\", 'doesn', \"doesn't\", 'hadn', \"hadn't\", 'hasn', \"hasn't\", 'haven', \"haven't\", 'isn', \"isn't\", 'ma', 'mightn', \"mightn't\", 'mustn', \"mustn't\", 'needn', \"needn't\", 'shan', \"shan't\", 'shouldn', \"shouldn't\", 'wasn', \"wasn't\", 'weren', \"weren't\", 'won', \"won't\", 'wouldn', \"wouldn't\"]\n"
          ]
        }
      ]
    },
    {
      "cell_type": "markdown",
      "source": [
        "**STEMMING**"
      ],
      "metadata": {
        "id": "beVv6fLljaYi"
      }
    },
    {
      "cell_type": "markdown",
      "source": [
        "Stemming and lemmatization are both text preprocessing techniques used in natural language processing (NLP) to reduce inflected word forms to a common base word or dictionary form.\n",
        "\n",
        "The practical distinction between stemming and lemmatization is that, where stemming merely removes common suffixes from the end of word tokens, lemmatization ensures the output word is an existing normalized form of the word (for example, lemma) that can be found in the dictionary"
      ],
      "metadata": {
        "id": "gOazU1iiCt2D"
      }
    },
    {
      "cell_type": "code",
      "source": [
        "\n",
        "from nltk.stem import PorterStemmer\n",
        "from nltk.corpus import stopwords\n",
        "\n",
        "\n",
        "stem_sentences = []\n",
        "stem = PorterStemmer()\n",
        "for sentence in sentences:\n",
        "      word_stems = [stem.stem(word) for word in nltk.word_tokenize(sentence) if word not in stopwords.words('english')]\n",
        "      stem_sentences.append(\" \".join(word_stems))\n",
        "\n",
        "print(f\"sentences is:\")\n",
        "print(sentences)\n",
        "print(f\"stem-sentences is:\")\n",
        "print(stem_sentences)\n",
        "\n",
        "\n"
      ],
      "metadata": {
        "colab": {
          "base_uri": "https://localhost:8080/"
        },
        "id": "WL7RmkwFgieX",
        "outputId": "e7ce1fb7-1181-42aa-b874-1905bf1cb8ec"
      },
      "execution_count": null,
      "outputs": [
        {
          "output_type": "stream",
          "name": "stdout",
          "text": [
            "sentences is:\n",
            "['Tokenization is a fundamental process in natural language processing (NLP) that involves breaking down a sequence of text into individual units called tokens.', 'Tokens can be words, subwords, or characters, depending on the level of granularity desired.', 'This process is essential for various NLP tasks, including machine translation, sentiment analysis, and text classification.', 'Hugging Face Transformers provides powerful tools for tokenization, allowing researchers and developers to easily work with pre-trained models and build applications for a wide range of language-related tasks.']\n",
            "stem-sentences is:\n",
            "['token fundament process natur languag process ( nlp ) involv break sequenc text individu unit call token .', 'token word , subword , charact , depend level granular desir .', 'thi process essenti variou nlp task , includ machin translat , sentiment analysi , text classif .', 'hug face transform provid power tool token , allow research develop easili work pre-train model build applic wide rang language-rel task .']\n"
          ]
        }
      ]
    },
    {
      "cell_type": "markdown",
      "source": [
        "**Lemmatization**"
      ],
      "metadata": {
        "id": "C21TAXxCFk3S"
      }
    },
    {
      "cell_type": "code",
      "source": [
        "import nltk\n",
        "\n",
        "from nltk.stem import PorterStemmer\n",
        "from nltk.corpus import stopwords\n",
        "from nltk.stem import WordNetLemmatizer\n",
        "\n",
        "\n",
        "lemmatizer = WordNetLemmatizer()\n",
        "lemmatize_sentences = []\n",
        "for sentence in sentences:\n",
        "      word_lemmatizers = [lemmatizer.lemmatize(word) for word in nltk.word_tokenize(sentence) if word not in stopwords.words('english')]\n",
        "      lemmatize_sentences.append(\" \".join(word_lemmatizers))\n",
        "\n",
        "print(f\"sentences is:\")\n",
        "print(sentences)\n",
        "print(f\"slemmatize_sentences is:\")\n",
        "print(lemmatize_sentences)\n"
      ],
      "metadata": {
        "colab": {
          "base_uri": "https://localhost:8080/"
        },
        "id": "4qbSV3abgjoJ",
        "outputId": "1136a8b4-1a29-4812-ccc4-f5d7c6e4e394"
      },
      "execution_count": null,
      "outputs": [
        {
          "output_type": "stream",
          "name": "stderr",
          "text": [
            "[nltk_data] Downloading package wordnet to /root/nltk_data...\n"
          ]
        },
        {
          "output_type": "stream",
          "name": "stdout",
          "text": [
            "sentences is:\n",
            "['Tokenization is a fundamental process in natural language processing (NLP) that involves breaking down a sequence of text into individual units called tokens.', 'Tokens can be words, subwords, or characters, depending on the level of granularity desired.', 'This process is essential for various NLP tasks, including machine translation, sentiment analysis, and text classification.', 'Hugging Face Transformers provides powerful tools for tokenization, allowing researchers and developers to easily work with pre-trained models and build applications for a wide range of language-related tasks.']\n",
            "slemmatize_sentences is:\n",
            "['Tokenization fundamental process natural language processing ( NLP ) involves breaking sequence text individual unit called token .', 'Tokens word , subwords , character , depending level granularity desired .', 'This process essential various NLP task , including machine translation , sentiment analysis , text classification .', 'Hugging Face Transformers provides powerful tool tokenization , allowing researcher developer easily work pre-trained model build application wide range language-related task .']\n"
          ]
        }
      ]
    },
    {
      "cell_type": "markdown",
      "source": [
        "**Most Commonly used regular expressions**\n",
        "\n",
        "There are certain elements  used to write regular expressions as mentioned below:\n",
        "\n",
        "**1. Repeaters (  *, +, and { } )**\n",
        "\n",
        "These symbols act as repeaters and tell the computer that the preceding character is to be used for more than just one time.\n",
        "\n",
        "**2. The asterisk symbol ( * )**\n",
        "\n",
        "It tells the computer to match the preceding character (or set of characters) for 0 or more times (upto infinite).\n",
        "\n",
        "Example : The regular expression ab*c will give ac, abc, abbc, abbbc….and so on\n",
        "\n",
        "**3. The Plus symbol ( + )**\n",
        "\n",
        "It tells the computer to repeat the preceding character (or set of characters) at atleast one or more times(up to infinite).\n",
        "\n",
        "Example : The regular expression ab+c will give abc, abbc,\n",
        "abbbc, … and so on.\n",
        "\n",
        "**4. The curly braces { … }**\n",
        "\n",
        "It tells the computer to repeat the preceding character (or set of characters) for as many times as the value inside this bracket.\n",
        "\n",
        "Example : {2} means that the preceding character is to be repeated 2\n",
        "times, {min,} means the preceding character is matches min or  more\n",
        "times. {min,max} means that the preceding character is repeated at\n",
        "least min & at most max times.\n",
        "\n",
        "**5. Wildcard ( . )**\n",
        "The dot symbol can take the place of any other symbol, that is why it is called the wildcard character.\n",
        "\n",
        "Example :\n",
        "The Regular expression .* will tell the computer that any character\n",
        "can be used any number of times.\n",
        "\n",
        "**6. Optional character ( ? )**\n",
        "\n",
        "This symbol tells the computer that the preceding character may or may not be present in the string to be matched.\n",
        "\n",
        "Example :\n",
        "We may write the format for document file as – “docx?”\n",
        "The ‘?’ tells the computer that x may or may not be\n",
        "present in the name of file format.\n",
        "\n",
        "**7. The caret ( ^ ) symbol ( Setting position for the match )**\n",
        "\n",
        "The caret symbol tells the computer that the match must start at the beginning of the string or line.\n",
        "\n",
        "Example : ^\\d{3} will match with patterns like \"901\" in \"901-333-\".\n",
        "\n",
        "**8.  The dollar ( $ ) symbol**\n",
        "\n",
        "It tells the computer that the match must occur at the end of the string or before \\n at the end of the line or string.\n",
        "\n",
        "Example : -\\d{3}$  will match with patterns like \"-333\" in \"-901-333\".\n",
        "\n",
        "**9. Character Classes**\n",
        "\n",
        "A character class matches any one of a set of characters. It is used to match the most basic element of a language like a letter, a digit, a space, a symbol, etc.\n",
        "\n",
        "\\s: matches any whitespace characters such as space and tab.\n",
        "\\S: matches any non-whitespace characters.\n",
        "\\d: matches any digit character.\n",
        "\\D: matches any non-digit characters.\n",
        "\\w : matches any word character (basically alpha-numeric)\n",
        "\\W: matches any non-word character.\n",
        "\\b: matches any word boundary (this would include spaces, dashes, commas, semi-colons, etc.\n",
        "\n",
        "**[set_of_characters]: Matches any single character in set_of_characters. By default, the match is case-sensitive.**\n",
        "\n",
        "Example : [abc] will match characters a,b and c in any string.\n",
        "\n",
        "**10. [^set_of_characters] Negation:**\n",
        "\n",
        "Matches any single character that is not in set_of_characters. By default, the match is case-sensitive.\n",
        "\n",
        "Example : [^abc] will match any character except a,b,c .\n",
        "\n",
        "**11. [first-last] Character range:**\n",
        "\n",
        "Matches any single character in the range from first to last.\n",
        "\n",
        "Example : [a-zA-z] will match any character from a to z or A to Z.\n",
        "\n",
        "**12. The Escape Symbol (  \\  )**\n",
        "\n",
        "If you want to match for the actual ‘+’, ‘.’ etc characters, add a backslash( \\ ) before that character. This will tell the computer to treat the following character as a search character and consider it for a matching pattern.\n",
        "\n",
        "Example : \\d+[\\+-x\\*]\\d+ will match patterns like \"2+2\"\n",
        "and \"3*9\" in \"(2+2) * 3*9\".\n",
        "\n",
        "**13. Grouping Characters ( )**\n",
        "\n",
        "A set of different symbols of a regular expression can be grouped together to act as a single unit and behave as a block, for this, you need to wrap the regular expression in the parenthesis( ).\n",
        "\n",
        "Example : ([A-Z]\\w+) contains two different elements of the regular\n",
        "expression combined together. This expression will match any pattern\n",
        "containing uppercase letter followed by any character.\n",
        "\n",
        "**14. Vertical Bar (  |  )**\n",
        "\n",
        "Matches any one element separated by the vertical bar (|) character.\n",
        "\n",
        "Example :  th(e|is|at) will match words - the, this and that.\n",
        "\n",
        "**15. \\number**\n",
        "\n",
        "Backreference: allows a previously matched sub-expression(expression captured or enclosed within circular brackets ) to be identified subsequently in the same regular expression. \\n means that group enclosed within the n-th bracket will be repeated at current position.\n",
        "\n",
        "Example : ([a-z])\\1 will match “ee” in Geek because the character\n",
        "at second position is same as character at position 1 of the match.\n",
        "\n",
        "**16. Comment ( ?# comment )**\n",
        "\n",
        "Inline comment: The comment ends at the first closing parenthesis.\n",
        "\n",
        "Example : \\bA(?#This is an inline comment)\\w+\\b\n",
        "\n",
        "**17. # [to end of line]**\n",
        "\n",
        "X-mode comment. The comment starts at an unescaped # and continues to the end of the line.\n",
        "\n",
        "Example :  (?x)\\bA\\w+\\b#Matches words starting with A\n",
        "\n",
        "\n"
      ],
      "metadata": {
        "id": "WvsP9lkemV4m"
      }
    },
    {
      "cell_type": "markdown",
      "source": [
        "**re.search()**: Find the first match.\n",
        "\n",
        "Purpose: Searches for the first occurrence of a pattern in a string.  \n",
        "Returns: A match object if the pattern is found; otherwise, None.  \n",
        "\n",
        "**re.match()**: Match at the beginning of the string.\n",
        "\n",
        "Purpose: Checks for a match only at the beginning of the string.  \n",
        "Returns: A match object if the pattern matches the beginning of the string; otherwise, None   \n",
        "\n",
        "**re.fullmatch()**: Match the entire string.\n",
        "\n",
        "Purpose: Checks if the entire string matches the pattern.\n",
        "Returns: A match object if the entire string matches the pattern; otherwise, None.\n",
        "\n",
        "\n",
        "**re.findall()**: Find all matches.   \n",
        "\n",
        "Purpose: Returns all non-overlapping matches of the pattern in a string as a list.\n",
        "Returns: A list of strings that match the pattern.\n",
        "\n",
        "**re.finditer()**: Iterate over all matches.\n",
        "\n",
        "Purpose: Returns an iterator yielding match objects for all non-overlapping matches of the pattern in a string.   \n",
        "Returns: An iterator of match objects    \n",
        "\n",
        "**re.sub()**: Replace matches.\n",
        "\n",
        "Purpose: Replaces occurrences of the pattern in a string with a replacement string.\n",
        "Returns: The modified string with replacements\n",
        "\n",
        "**re.split()**: Split the string by matches.\n",
        "\n",
        "Purpose: Splits the string by occurrences of the pattern.\n",
        "Returns: A list of substrings.\n",
        "\n",
        "**re.compile()**  : Compile a regex pattern.   \n",
        "\n",
        "Purpose: Compiles a regular expression pattern into a regex object, which can be used for repeated matching operations.\n",
        "Returns: A regex object.\n",
        "\n"
      ],
      "metadata": {
        "id": "hZ43YeD4Qfc6"
      }
    },
    {
      "cell_type": "code",
      "source": [
        "import re\n",
        "text = \"123 abc\\t\\n\"\n",
        "print(re.findall('\\d+', text))  # Matches ['123']\n",
        "print(re.findall('\\w+', text))  # Matches ['123', 'abc']\n",
        "print(re.findall('\\s+', text))  # Matches [' ', '\\t', '\\n']\n",
        "\n",
        "#example for re.search operation\n",
        "\n",
        "pattern = r'\\d+'  # Pattern to find one or more digits\n",
        "text = \"There are 42 apples\"\n",
        "\n",
        "match = re.search(pattern, text)\n",
        "if match:\n",
        "    print(\"Found:\", match.group())\n",
        "\n",
        "\n",
        "#Example for re.match operation\n",
        "\n",
        "pattern = r'\\d+'\n",
        "text = \"42 apples\"\n",
        "\n",
        "match = re.match(pattern, text)\n",
        "if match:\n",
        "    print(\"Matched:\", match.group())\n",
        "\n",
        "\n",
        "#example for re.fullmatch operation\n",
        "\n",
        "pattern = r'\\d+'\n",
        "text = \"42\"\n",
        "\n",
        "match = re.fullmatch(pattern, text)\n",
        "if match:\n",
        "    print(\"Full match:\", match.group())\n",
        "\n",
        "\n",
        "#Example for re.findall operation\n",
        "\n",
        "pattern = r'\\d+'\n",
        "text = \"There are 42 apples and 17 oranges\"\n",
        "\n",
        "matches = re.findall(pattern, text)\n",
        "print(\"Matches:\", matches)\n",
        "\n",
        "#example for re.finditer operation\n",
        "\n",
        "pattern = r'\\d+'\n",
        "text = \"There are 42 apples and 17 oranges\"\n",
        "\n",
        "for match in re.finditer(pattern, text):\n",
        "    print(\"Found:\", match.group())\n",
        "\n",
        "\n",
        "#example for  re.sub operation\n",
        "\n",
        "pattern = r'\\d+'\n",
        "text = \"There are 42 apples and 17 oranges\"\n",
        "\n",
        "replaced_text = re.sub(pattern, 'number', text)\n",
        "print(\"Replaced:\", replaced_text)\n",
        "\n",
        "\n",
        "#example for re.splitt operation\n",
        "\n",
        "pattern = r'\\s+'\n",
        "text = \"Split this text by spaces\"\n",
        "\n",
        "parts = re.split(pattern, text)\n",
        "print(\"Parts:\", parts)\n",
        "\n",
        "#example for re.compile operation\n",
        "\n",
        "\n",
        "pattern = re.compile(r'\\d+')\n",
        "text = \"There are 42 apples and 17 oranges\"\n",
        "\n",
        "matches = pattern.findall(text)\n",
        "print(\"Matches:\", matches)\n"
      ],
      "metadata": {
        "colab": {
          "base_uri": "https://localhost:8080/"
        },
        "collapsed": true,
        "id": "u12Wz48Wm-wQ",
        "outputId": "ebe09eb3-d10f-4ca6-9a0f-cc019a3ce7e7"
      },
      "execution_count": 20,
      "outputs": [
        {
          "output_type": "stream",
          "name": "stdout",
          "text": [
            "['123']\n",
            "['123', 'abc']\n",
            "[' ', '\\t\\n']\n",
            "Found: 42\n",
            "Matched: 42\n",
            "Full match: 42\n",
            "Matches: ['42', '17']\n",
            "Found: 42\n",
            "Found: 17\n",
            "Replaced: There are number apples and number oranges\n",
            "Parts: ['Split', 'this', 'text', 'by', 'spaces']\n",
            "Matches: ['42', '17']\n"
          ]
        }
      ]
    },
    {
      "cell_type": "markdown",
      "source": [
        "**Bag of Words**\n",
        "\n",
        "The bag of words model is a simple document embedding technique based on word frequency. Conceptually, we think of the whole document as a “bag” of words, rather than a sequence. We represent the document simply by the frequency of each word\n",
        "\n",
        "\n",
        "\n",
        "sent 1 - He is a good  boy     \n",
        "sent 2 - she is a good girl       \n",
        "sent 3 - Boy and girl are good\n",
        "\n",
        "this is our data set, containing text, we are not able to give these sentences directly to the machine learning model.it cannot undestand the text.So for this reason we need to convert this words into numerical representation.Before that you need to preprocess the words by lowering the sentences and also removing the stopwords from the sentences.\n",
        "\n",
        "After lowering the sentences and removing stopwords the sentences are\n",
        "\n",
        "sent 1 - good boy.   \n",
        "sent 2 - good girl.  \n",
        "sent 3 - boy girl good.\n",
        "\n",
        "words   freq\n",
        "\n",
        "good    3  \n",
        "boy     2  \n",
        "girl    2  \n",
        "\n",
        "            good   boy    girl\n",
        "\n",
        "sent -1      1      1      0   \n",
        "sent -2      1      0      1   \n",
        "sent -3      1      1      1\n",
        "\n",
        "\n",
        "This is how the bag of words are represented,but the main drawback in this is here every token is considered as equal weight and it also the vector does not have any semantic meaning about the word.To overcome this TF-IDF(Term Frequency Inverse Document Frequency) and word2vec comes into picture.\n",
        "\n",
        "\n",
        "\n",
        "\n",
        "\n",
        "\n",
        "\n",
        "\n",
        "\n",
        "\n",
        "\n",
        "\n",
        "\n",
        "\n"
      ],
      "metadata": {
        "id": "5FTIYP01QsFr"
      }
    },
    {
      "cell_type": "code",
      "source": [
        "import nltk\n",
        "import re\n",
        "from nltk.corpus import stopwords\n",
        "from nltk.stem import PorterStemmer\n",
        "from nltk.stem import WordNetLemmatizer\n",
        "from sklearn.feature_extraction.text import CountVectorizer\n",
        "\n",
        "\n",
        "\n",
        "paragraph  = \"\"\"Elon Musk has defended his stance on diversity and free speech in a tense interview with the former CNN anchor Don Lemon.\n",
        "\n",
        "The Tesla chief executive was openly irritated by Lemon’s line of questioning during the hour-long video interview, published on Monday.\n",
        "\n",
        "Responding to a question about his prescription for ketamine, Musk said: “It’s pretty private to ask somebody about a medical prescription.” He said he took the drug to address “a negative chemical state in my in my brain, like depression”.\n",
        "\n",
        "Asked if he abused the drug, which is commonly used as an anaesthetic, he said: “I don’t think so. If you use too much ketamine you can’t really get work done. I have a lot of work.”\n",
        "\n",
        "Musk, who cancelled a deal between his X platform and Lemon after the interview was taped earlier this month, was asked about his criticism of diversity, equity and inclusion (DEI) schemes including his support for a thread on X by Ben Shapiro, a conservative pundit, claiming that DEI was endangering medical patients.\n",
        "\n",
        "Lemon told Musk there was “no evidence” that DEI schemes were lowering the standards for medical practice, prompting the billionaire to say the response to the interview by X users would help them “make their own decision” on the issue.\n",
        "\n",
        "Asked if he believed in DEI, Musk said: “I think we should … treat people according to their skills and integrity.” \"\"\"\n",
        "\n",
        "\n",
        "stem = PorterStemmer()\n",
        "lematizer = WordNetLemmatizer()\n",
        "\n",
        "sentences = nltk.sent_tokenize(paragraph)\n",
        "corpus = []\n",
        "\n",
        "print(len(sentences))\n",
        "\n",
        "for sentence in sentences:\n",
        "\n",
        "   sent = re.sub(\"[^a-zA-Z]\",\" \",sentence)\n",
        "   lower_sent = sent.lower()\n",
        "   stem_words = [lematizer.lemmatize(word) for word in nltk.word_tokenize(lower_sent) if  not word in set(stopwords.words('english'))]\n",
        "   corpus.append(\" \".join(stem_words))\n",
        "\n",
        "\n",
        "print(corpus)\n",
        "\n",
        "cv=CountVectorizer(max_features=1500)\n",
        "X = cv.fit_transform(corpus).toarray()\n",
        "\n",
        "\n",
        "\n",
        "\n",
        "# for sentence in\n",
        "\n",
        "\n"
      ],
      "metadata": {
        "colab": {
          "base_uri": "https://localhost:8080/"
        },
        "id": "aSeqmhWbYnBN",
        "outputId": "60a05ae8-21fc-4717-f2db-b9433a3fe73b",
        "collapsed": true
      },
      "execution_count": null,
      "outputs": [
        {
          "output_type": "stream",
          "name": "stdout",
          "text": [
            "8\n",
            "['elon musk defended stance diversity free speech tense interview former cnn anchor lemon', 'tesla chief executive openly irritated lemon line questioning hour long video interview published monday', 'responding question prescription ketamine musk said pretty private ask somebody medical prescription said took drug address negative chemical state brain like depression', 'asked abused drug commonly used anaesthetic said think', 'use much ketamine really get work done', 'lot work musk cancelled deal x platform lemon interview taped earlier month asked criticism diversity equity inclusion dei scheme including support thread x ben shapiro conservative pundit claiming dei endangering medical patient', 'lemon told musk evidence dei scheme lowering standard medical practice prompting billionaire say response interview x user would help make decision issue', 'asked believed dei musk said think treat people according skill integrity']\n"
          ]
        }
      ]
    },
    {
      "cell_type": "markdown",
      "source": [
        "**Term Frequency-Inverse Document Frequency**\n",
        "\n",
        "Term Frequency Inverse Document Frequency model is for creating vectors for sequence of texts or documents based on the term frequncy and inverse document frequency of that word.The vectors that are generated from the TF-IDF model holds semantic meaning about the word.\n",
        "\n",
        "\n",
        "After lowering the sentences and removing the stop words, the sentences are as follows.\n",
        "\n",
        "sent 1 - good boy.  \n",
        "sent 2 - good girl.  \n",
        "sent 3 - boy girl good.  \n",
        "\n",
        "\n",
        "                     number of times word repeated in the sentence\n",
        "  term_frequency =  -----------------------------------------------\n",
        "                    number of unique words present in the sentence\n",
        "\n",
        "\n",
        " term frequency table\n",
        "         \n",
        "           sent-1    sent-2   sent-3\n",
        "\n",
        " good       1/2      1/2       1/3\n",
        "\n",
        " boy        1/2       0        1/3\n",
        "\n",
        " girl       0         1/2      1/3\n",
        "\n",
        "\n",
        "                                 number of sequences or documents present in the corpus\n",
        " Inverse document frequency  = ----------------------------------------------\n",
        "                                 number of documents or sequences contains that word\n",
        "\n",
        "\n",
        "  words     IDF\n",
        "      \n",
        "  good       log(3/3)\n",
        "  \n",
        "  boy       log(3/2)\n",
        "\n",
        "  girl      log(3/2)\n",
        "\n",
        "\n",
        "  TF IDF of word = TF_word * IDF_word\n",
        "\n",
        "\n",
        "  vectors\n",
        "            \n",
        "            good                  boy               girl\n",
        "\n",
        "  sent1     1/2*log(3/3)=0      1/2*log(3/2)      0\n",
        "\n",
        "  sent2      0                  0                    1/2*log(3/2)\n",
        "\n",
        "  sent3      0                1/3*log(3/2)           1/3*log(3/2)\n",
        "\n",
        "\n",
        "\n"
      ],
      "metadata": {
        "id": "iBxpkMqy_ReJ"
      }
    },
    {
      "cell_type": "code",
      "source": [
        "import nltk\n",
        "\n",
        "nltk.download('punkt')\n",
        "nltk.download('stopwords')\n",
        "nltk.download('wordnet')\n",
        "import re\n",
        "from nltk.corpus import stopwords\n",
        "from nltk.stem import PorterStemmer\n",
        "from nltk.stem import WordNetLemmatizer\n",
        "from sklearn.feature_extraction.text import TfidfVectorizer\n",
        "\n",
        "\n",
        "paragraph  = \"\"\"Elon Musk has defended his stance on diversity and free speech in a tense interview with the former CNN anchor Don Lemon.\n",
        "\n",
        "The Tesla chief executive was openly irritated by Lemon’s line of questioning during the hour-long video interview, published on Monday.\n",
        "\n",
        "Responding to a question about his prescription for ketamine, Musk said: “It’s pretty private to ask somebody about a medical prescription.” He said he took the drug to address “a negative chemical state in my in my brain, like depression”.\n",
        "\n",
        "Asked if he abused the drug, which is commonly used as an anaesthetic, he said: “I don’t think so. If you use too much ketamine you can’t really get work done. I have a lot of work.”\n",
        "\n",
        "Musk, who cancelled a deal between his X platform and Lemon after the interview was taped earlier this month, was asked about his criticism of diversity, equity and inclusion (DEI) schemes including his support for a thread on X by Ben Shapiro, a conservative pundit, claiming that DEI was endangering medical patients.\n",
        "\n",
        "Lemon told Musk there was “no evidence” that DEI schemes were lowering the standards for medical practice, prompting the billionaire to say the response to the interview by X users would help them “make their own decision” on the issue.\n",
        "\n",
        "Asked if he believed in DEI, Musk said: “I think we should … treat people according to their skills and integrity.” \"\"\"\n",
        "\n",
        "\n",
        "stem = PorterStemmer()\n",
        "lematizer = WordNetLemmatizer()\n",
        "\n",
        "sentences = nltk.sent_tokenize(paragraph)\n",
        "corpus = []\n",
        "\n",
        "print(len(sentences))\n",
        "\n",
        "for sentence in sentences:\n",
        "\n",
        "   sent = re.sub(\"[^a-zA-Z]\",\" \",sentence)\n",
        "   lower_sent = sent.lower()\n",
        "   stem_words = [lematizer.lemmatize(word) for word in nltk.word_tokenize(lower_sent) if  not word in set(stopwords.words('english'))]\n",
        "   corpus.append(\" \".join(stem_words))\n",
        "\n",
        "\n",
        "print(corpus)\n",
        "\n",
        "tfv=TfidfVectorizer()\n",
        "X = tfv.fit_transform(corpus).toarray()\n",
        "\n",
        "print(X.shape)\n",
        "# print(X)"
      ],
      "metadata": {
        "id": "mZOZdmI9kN5n",
        "colab": {
          "base_uri": "https://localhost:8080/"
        },
        "outputId": "eff1ccc3-682d-4d13-f1e8-269744f2b8aa",
        "collapsed": true
      },
      "execution_count": null,
      "outputs": [
        {
          "output_type": "stream",
          "name": "stdout",
          "text": [
            "8\n",
            "['elon musk defended stance diversity free speech tense interview former cnn anchor lemon', 'tesla chief executive openly irritated lemon line questioning hour long video interview published monday', 'responding question prescription ketamine musk said pretty private ask somebody medical prescription said took drug address negative chemical state brain like depression', 'asked abused drug commonly used anaesthetic said think', 'use much ketamine really get work done', 'lot work musk cancelled deal x platform lemon interview taped earlier month asked criticism diversity equity inclusion dei scheme including support thread x ben shapiro conservative pundit claiming dei endangering medical patient', 'lemon told musk evidence dei scheme lowering standard medical practice prompting billionaire say response interview x user would help make decision issue', 'asked believed dei musk said think treat people according skill integrity']\n",
            "(8, 99)\n"
          ]
        },
        {
          "output_type": "stream",
          "name": "stderr",
          "text": [
            "[nltk_data] Downloading package punkt to /root/nltk_data...\n",
            "[nltk_data]   Package punkt is already up-to-date!\n",
            "[nltk_data] Downloading package stopwords to /root/nltk_data...\n",
            "[nltk_data]   Package stopwords is already up-to-date!\n",
            "[nltk_data] Downloading package wordnet to /root/nltk_data...\n",
            "[nltk_data]   Package wordnet is already up-to-date!\n"
          ]
        }
      ]
    },
    {
      "cell_type": "markdown",
      "source": [
        "**Building a Spam Classifier**"
      ],
      "metadata": {
        "id": "bkVRpGRjZA5c"
      }
    },
    {
      "cell_type": "code",
      "source": [
        "#importing all the required libraries\n",
        "\n",
        "\n",
        "import nltk\n",
        "import pandas as pd\n",
        "nltk.download('punkt')\n",
        "nltk.download('wordnet')\n",
        "nltk.download('stopwords')\n",
        "import re\n",
        "from nltk.corpus import stopwords\n",
        "from nltk.stem import PorterStemmer\n",
        "from nltk.stem import WordNetLemmatizer\n",
        "import re\n",
        "from sklearn.feature_extraction.text import CountVectorizer\n",
        "from sklearn.feature_extraction.text import TfidfVectorizer\n",
        "\n",
        "from sklearn.model_selection import train_test_split\n",
        "from sklearn.naive_bayes import MultinomialNB\n",
        "\n",
        "from sklearn.metrics import confusion_matrix\n",
        "from sklearn.metrics import accuracy_score\n",
        "\n",
        "\n",
        "#Reading the data from the csv file\n",
        "\n",
        "messages = pd.read_csv(\"/content/spam.csv\", encoding='ISO-8859-1')\n",
        "messages = messages.drop(columns= [\"Unnamed: 2\",\"Unnamed: 3\",\"Unnamed: 4\"],axis=1)\n",
        "messages.columns = [\"label\",\"message\"]\n",
        "\n",
        "\n",
        "#Data Cleaning and preprocessing\n",
        "\n",
        "corpus = []\n",
        "ps = PorterStemmer()\n",
        "wl = WordNetLemmatizer()\n",
        "for index in range(len(messages)):\n",
        "  sent = re.sub(\"[^a-zA-Z]\",\" \",messages[\"message\"][index])\n",
        "  sent = sent.lower()\n",
        "  words = [wl.lemmatize(word) for word in nltk.word_tokenize(sent) if word not in set(stopwords.words('english'))]\n",
        "  # words = [ps.stem(word) for word in nltk.word_tokenize(sent) if word not in set(stopwords.words('english'))]\n",
        "\n",
        "  stem_sent = \" \".join(words)\n",
        "  corpus.append(stem_sent)\n",
        "# messages.head()\n",
        "\n",
        "# cv = CountVectorizer(max_features=2500)\n",
        "# X = cv.fit_transform(corpus).toarray()\n",
        "\n",
        "termv = TfidfVectorizer(max_features=2500)\n",
        "X = termv.fit_transform(corpus).toarray()\n",
        "\n",
        "Y= pd.get_dummies(messages[\"label\"])\n",
        "Y=Y.iloc[:,1].values\n",
        "\n",
        "X_train,X_test,y_train,y_test = train_test_split(X,Y,test_size=0.2,random_state=0)\n",
        "\n",
        "print(X_train.shape)\n",
        "print(X_test.shape)\n",
        "\n",
        "Spam_classifier = MultinomialNB()\n",
        "Spam_classifier.fit(X_train,y_train)\n",
        "\n",
        "y_pred = Spam_classifier.predict(X_test)\n",
        "\n",
        "\n",
        "confusion = confusion_matrix(y_test,y_pred)\n",
        "accuracy = accuracy_score(y_test,y_pred)\n",
        "\n",
        "print(confusion)\n",
        "print(accuracy)\n",
        "\n",
        "\n",
        "\n",
        "\n",
        "\n",
        "\n",
        "\n",
        "\n",
        "\n",
        "\n",
        "\n",
        "\n"
      ],
      "metadata": {
        "colab": {
          "base_uri": "https://localhost:8080/"
        },
        "id": "LKJM5wmHZEsx",
        "outputId": "891721d0-422c-4762-a5ee-9ab182c572f8",
        "collapsed": true
      },
      "execution_count": null,
      "outputs": [
        {
          "output_type": "stream",
          "name": "stderr",
          "text": [
            "[nltk_data] Downloading package punkt to /root/nltk_data...\n",
            "[nltk_data]   Package punkt is already up-to-date!\n",
            "[nltk_data] Downloading package wordnet to /root/nltk_data...\n",
            "[nltk_data]   Package wordnet is already up-to-date!\n",
            "[nltk_data] Downloading package stopwords to /root/nltk_data...\n",
            "[nltk_data]   Package stopwords is already up-to-date!\n"
          ]
        },
        {
          "output_type": "stream",
          "name": "stdout",
          "text": [
            "(4457, 2500)\n",
            "(1115, 2500)\n",
            "[[949   0]\n",
            " [ 28 138]]\n",
            "0.9748878923766816\n"
          ]
        }
      ]
    },
    {
      "cell_type": "markdown",
      "source": [
        "**WORD2VE**C\n",
        "\n",
        "\n",
        "Bag of words Model generate the vector for each sentence based on the count of that word presence in the sentence.   \n",
        "\n",
        "Tf-IDF model generated the vector for the sentence or sequence of text based on the term - frequency of that word and inverse document frequency for that vector.\n",
        "\n",
        "Both the above mentioned models are used to generate the vector representation of words.But the problem with the these two models are they does not contain any semantic meaning about the words,for that reason  models may get overfitted.\n",
        "\n",
        "\n",
        "In word2vec model, each word is basically represented as vector of 32 dimensions or more rather than a single number.In this model the semantic information and relationship between the different words are preserved."
      ],
      "metadata": {
        "id": "4TIuK4f0Cxj3"
      }
    },
    {
      "cell_type": "code",
      "source": [
        "!pip install gensim"
      ],
      "metadata": {
        "id": "beBn5Hr6dZ-o"
      },
      "execution_count": null,
      "outputs": []
    },
    {
      "cell_type": "code",
      "source": [
        "import nltk\n",
        "# nltk.download(\"punkt\")\n",
        "# nltk.download(\"wordnet\")\n",
        "# nltk.download(\"stopwords\")\n",
        "import pandas as pd\n",
        "from nltk.corpus import stopwords\n",
        "from nltk.stem import PorterStemmer\n",
        "from gensim.models import Word2Vec\n",
        "from nltk.stem import WordNetLemmatizer\n",
        "\n",
        "file = open(\"/content/Doctor_Story.txt\",\"r\")\n",
        "lines =file.readlines()\n",
        "data = file.read()\n",
        "# print(len(lines))\n",
        "# print(lines)\n",
        "corpus =[]\n",
        "wl = WordNetLemmatizer()\n",
        "for line in lines:\n",
        "  line = re.sub(\"[^\\w+\\s+]\", \"\",line)\n",
        "  # line = re.sub(\"[?,:;.'\"!]\",\" \",line)\n",
        "  line = line.lower()\n",
        "  line = re.sub(\"\\d+\",\" \",line)\n",
        "\n",
        "  words = [wl.lemmatize(word) for word in nltk.word_tokenize(line) if word not in set(stopwords.words('english')) and len(word)>1]\n",
        "  # if len(\" \".join(words))>1:\n",
        "  #    corpus.append(\" \".join(words))\n",
        "  corpus.append(words)\n",
        "print(len(corpus))\n",
        "\n",
        "print(corpus)\n",
        "\n",
        "model = Word2Vec(corpus,min_count=1)\n",
        "\n",
        "vocabulary = list(model.wv.index_to_key)\n",
        "\n",
        "print(\"Vocabulary:\", vocabulary)\n",
        "print(len(vocabulary))\n",
        "\n",
        "word = model.wv[\"doctor\"]\n",
        "\n",
        "print(model.wv.most_similar(\"doctor\"))\n",
        "\n",
        "\n"
      ],
      "metadata": {
        "colab": {
          "base_uri": "https://localhost:8080/"
        },
        "id": "gvHozNHwC7Lj",
        "outputId": "7764c181-3ca6-4801-e94b-05dd551c556c",
        "collapsed": true
      },
      "execution_count": 51,
      "outputs": [
        {
          "output_type": "stream",
          "name": "stdout",
          "text": [
            "2293\n",
            "[['story', 'doctor'], ['dolittle'], [], [], ['hugh', 'lofting'], [], ['story', 'doctor', 'dolittle'], ['first', 'chapter'], ['puddleby'], ['upon', 'time', 'many', 'year', 'ago', 'grandfather', 'little'], ['childrenthere', 'doctor', 'name', 'dolittlejohn', 'dolittle'], ['md', 'md', 'mean', 'proper', 'doctor', 'knew', 'whole', 'lot'], ['lived', 'little', 'town', 'called', 'puddlebyonthemarsh', 'folk'], ['young', 'old', 'knew', 'well', 'sight', 'whenever', 'walked'], ['street', 'high', 'hat', 'everyone', 'would', 'say', 'go', 'doctor'], ['he', 'clever', 'man', 'dog', 'child', 'would', 'run'], ['follow', 'behind', 'even', 'crow', 'lived', 'churchtower'], ['would', 'caw', 'nod', 'head'], ['house', 'lived', 'edge', 'town', 'quite', 'small'], ['garden', 'large', 'wide', 'lawn', 'stone', 'seat'], ['weepingwillows', 'hanging', 'sister', 'sarah', 'dolittle'], ['housekeeper', 'doctor', 'looked', 'garden'], ['fond', 'animal', 'kept', 'many', 'kind', 'pet', 'besides'], ['goldfish', 'pond', 'bottom', 'garden', 'rabbit'], ['pantry', 'white', 'mouse', 'piano', 'squirrel', 'linen', 'closet'], ['hedgehog', 'cellar', 'cow', 'calf', 'old', 'lame'], ['horsetwentyfive', 'year', 'ageand', 'chicken', 'pigeon', 'two'], ['lamb', 'many', 'animal', 'favorite', 'pet', 'dabdab'], ['duck', 'jip', 'dog', 'gubgub', 'baby', 'pig', 'polynesia', 'parrot'], ['owl', 'tootoo'], ['sister', 'used', 'grumble', 'animal', 'said', 'made'], ['house', 'untidy', 'one', 'day', 'old', 'lady', 'rheumatism', 'came'], ['see', 'doctor', 'sat', 'hedgehog', 'sleeping', 'sofa'], ['never', 'came', 'see', 'drove', 'every', 'saturday'], ['way', 'oxenthorpe', 'another', 'town', 'ten', 'mile', 'see', 'different', 'doctor'], ['sister', 'sarah', 'dolittle', 'came', 'said'], ['john', 'expect', 'sick', 'people', 'come', 'see'], ['keep', 'animal', 'house', 'fine', 'doctor', 'would'], [], ['parlor', 'full', 'hedgehog', 'mouse', 'thats', 'fourth', 'personage'], ['animal', 'driven', 'away', 'squire', 'jenkins', 'parson', 'say'], ['wouldnt', 'come', 'near', 'house', 'againno', 'matter', 'sick'], ['getting', 'poorer', 'every', 'day', 'go', 'like', 'none', 'best'], ['people', 'doctor'], ['like', 'animal', 'better', 'best', 'people', 'said', 'doctor'], ['ridiculous', 'said', 'sister', 'walked', 'room'], ['time', 'went', 'doctor', 'got', 'animal'], ['people', 'came', 'see', 'got', 'le', 'le', 'till', 'last', 'one'], ['leftexcept', 'catsmeatman', 'didnt', 'mind', 'kind', 'animal'], ['catsmeat', 'man', 'wasnt', 'rich', 'got', 'sick'], ['yearat', 'christmastime', 'used', 'give', 'doctor', 'sixpence'], ['bottle', 'medicine'], ['sixpence', 'year', 'wasnt', 'enough', 'live', 'oneven', 'day', 'long', 'ago'], ['doctor', 'hadnt', 'money', 'saved', 'moneybox'], ['one', 'know', 'would', 'happened'], ['kept', 'getting', 'still', 'pet', 'course', 'cost', 'lot', 'feed'], ['money', 'saved', 'grew', 'littler', 'littler'], ['sold', 'piano', 'let', 'mouse', 'live', 'bureaudrawer'], ['money', 'got', 'began', 'go', 'sold', 'brown', 'suit', 'wore'], ['sunday', 'went', 'becoming', 'poorer', 'poorer'], ['walked', 'street', 'high', 'hat', 'people'], ['would', 'say', 'one', 'another', 'go', 'john', 'dolittle', 'md'], ['time', 'best', 'known', 'doctor', 'west', 'countrylook'], ['nowhe', 'hasnt', 'money', 'stocking', 'full', 'hole'], ['dog', 'cat', 'child', 'still', 'ran', 'followed'], ['townthe', 'done', 'rich'], [], ['second', 'chapter'], ['animal', 'language'], ['happened', 'one', 'day', 'doctor', 'sitting', 'kitchen', 'talking'], ['catsmeatman', 'come', 'see', 'stomachache'], ['dont', 'give', 'people', 'doctor', 'animaldoctor', 'asked', 'catsmeatman'], ['parrot', 'polynesia', 'sitting', 'window', 'looking', 'rain'], ['singing', 'sailorsong', 'stopped', 'singing', 'started'], ['listen'], ['see', 'doctor', 'catsmeatman', 'went', 'know'], ['animalsmuch', 'vet', 'book'], ['wroteabout', 'cat', 'wonderful', 'cant', 'read', 'write', 'myselfor'], ['maybe', 'id', 'write', 'book', 'wife', 'theodosia', 'shes', 'scholar'], ['read', 'book', 'well', 'wonderfulthats'], ['saidwonderful', 'might', 'cat', 'know'], ['way', 'think', 'listen', 'make', 'lot', 'money', 'doctoring'], ['animal', 'know', 'see', 'id', 'send', 'old', 'woman'], ['sick', 'cat', 'dog', 'didnt', 'get', 'sick', 'fast', 'enough'], ['could', 'put', 'something', 'meat', 'sell', 'em', 'make', 'em', 'sick', 'see'], ['oh', 'said', 'doctor', 'quickly', 'mustnt', 'wouldnt'], ['right'], ['oh', 'didnt', 'mean', 'real', 'sick', 'answered', 'catsmeatman', 'little'], ['something', 'make', 'droopylike', 'reference'], ['say', 'maybe', 'aint', 'quite', 'fair', 'animal', 'theyll', 'get', 'sick'], ['anyway', 'old', 'woman', 'always', 'give', 'em', 'much', 'eat'], ['look', 'farmer', 'round', 'lame', 'horse', 'weak'], ['lambstheyd', 'come', 'animaldoctor'], ['catsmeatman', 'gone', 'parrot', 'flew', 'window'], ['doctor', 'table', 'said'], ['man', 'got', 'sense', 'thats', 'ought', 'animaldoctor'], ['give', 'silly', 'people', 'upif', 'havent', 'brain', 'enough', 'see', 'youre'], [], ['best', 'doctor', 'world', 'take', 'care', 'animal', 'insteadtheyll', 'soon'], ['find', 'animaldoctor'], ['oh', 'plenty', 'animaldoctors', 'said', 'john', 'dolittle', 'putting'], ['flowerpot', 'outside', 'windowsill', 'get', 'rain'], ['yes', 'plenty', 'said', 'polynesia', 'none', 'good'], ['listen', 'doctor', 'ill', 'tell', 'something', 'know'], ['animal', 'talk'], ['knew', 'parrot', 'talk', 'said', 'doctor'], ['oh', 'parrot', 'talk', 'two', 'languagespeoples', 'language', 'birdlanguage', 'said', 'polynesia', 'proudly', 'say', 'polly', 'want', 'cracker'], ['understand', 'hear', 'kaka', 'oiee', 'feefee'], ['good', 'gracious', 'cried', 'doctor', 'mean'], ['mean', 'porridge', 'hot', 'yetin', 'birdlanguage'], ['dont', 'say', 'said', 'doctor', 'never', 'talked', 'way'], [], ['would', 'good', 'said', 'polynesia', 'dusting'], ['crackercrumbs', 'left', 'wing', 'wouldnt', 'understood'], [], ['tell', 'said', 'doctor', 'excited', 'rushed'], ['dresserdrawer', 'came', 'back', 'butcher', 'book', 'pencil'], ['dont', 'go', 'fastand', 'ill', 'write', 'interestingvery'], ['interestingsomething', 'quite', 'new', 'give', 'bird', 'abc', 'first'], ['slowly'], ['way', 'doctor', 'came', 'know', 'animal'], ['language', 'could', 'talk', 'one', 'another'], ['afternoon', 'raining', 'polynesia', 'sat', 'kitchen', 'table', 'giving'], ['bird', 'word', 'put', 'book'], ['teatime', 'dog', 'jip', 'came', 'parrot', 'said', 'doctor'], ['see', 'he', 'talking'], ['look', 'though', 'scratching', 'ear', 'said', 'doctor'], [], ['animal', 'dont', 'always', 'speak', 'mouth', 'said', 'parrot'], ['high', 'voice', 'raising', 'eyebrow', 'talk', 'ear'], ['foot', 'tailswith', 'everything', 'sometimes', 'dont', 'want'], ['make', 'noise', 'see', 'way', 'he', 'twitching', 'one', 'side'], ['nose'], ['whats', 'mean', 'asked', 'doctor'], ['mean', 'cant', 'see', 'stopped', 'raining', 'polynesia'], ['answered', 'asking', 'question', 'dog', 'nearly', 'always', 'use'], ['nose', 'asking', 'question'], ['parrot', 'help', 'doctor', 'got', 'learn', 'language'], ['animal', 'well', 'could', 'talk', 'understand'], ['everything', 'said', 'gave', 'people', 'doctor'], ['altogether'], ['soon', 'catsmeatman', 'told', 'every', 'one', 'john', 'dolittle'], ['going', 'become', 'animaldoctor', 'old', 'lady', 'began', 'bring'], ['pet', 'pug', 'poodle', 'eaten', 'much', 'cake', 'farmer', 'came'], ['many', 'mile', 'show', 'sick', 'cow', 'sheep'], ['one', 'day', 'plowhorse', 'brought', 'poor', 'thing'], ['terribly', 'glad', 'find', 'man', 'could', 'talk', 'horselanguage'], ['know', 'doctor', 'said', 'horse', 'vet', 'hill', 'know', 'nothing'], ['treating', 'six', 'week', 'nowfor', 'spavin', 'need'], ['spectacle', 'going', 'blind', 'one', 'eye', 'there', 'reason'], ['horse', 'shouldnt', 'wear', 'glass', 'people', 'stupid', 'man'], ['hill', 'never', 'even', 'looked', 'eye', 'kept', 'giving', 'big'], ['pill', 'tried', 'tell', 'couldnt', 'understand', 'word', 'horselanguage', 'need', 'spectacle'], ['courseof', 'course', 'said', 'doctor', 'ill', 'get'], ['would', 'like', 'pair', 'like', 'said', 'horseonly', 'green', 'theyll', 'keep'], ['sun', 'eye', 'im', 'plowing', 'fiftyacre', 'field'], ['certainly', 'said', 'doctor', 'green', 'one', 'shall'], ['know', 'trouble', 'sir', 'said', 'plowhorse', 'doctor', 'opened'], ['front', 'door', 'let', 'outthe', 'trouble', 'anybody', 'think'], [], ['doctor', 'animalsjust', 'animal', 'dont', 'complain'], ['matter', 'fact', 'take', 'much', 'cleverer', 'man', 'really', 'good', 'animaldoctor', 'good', 'people', 'doctor', 'farmer', 'boy', 'think'], ['know', 'horse', 'wish', 'could', 'see', 'himhis', 'face', 'fat'], ['look', 'though', 'eyesand', 'got', 'much', 'brain'], ['potatobug', 'tried', 'put', 'mustardplaster', 'last', 'week'], ['put', 'asked', 'doctor'], ['oh', 'didnt', 'put', 'anywhereon', 'said', 'horse', 'tried'], ['kicked', 'duckpond'], ['well', 'well', 'said', 'doctor'], ['im', 'pretty', 'quiet', 'creature', 'rule', 'said', 'horsevery', 'patient'], ['peopledont', 'make', 'much', 'fuss', 'bad', 'enough', 'vet'], ['giving', 'wrong', 'medicine', 'redfaced', 'booby', 'started'], ['monkey', 'couldnt', 'bear'], ['hurt', 'boy', 'much', 'asked', 'doctor'], ['oh', 'said', 'horse', 'kicked', 'right', 'place', 'vet'], ['looking', 'glass', 'ready'], ['ill', 'next', 'week', 'said', 'doctor', 'come'], ['tuesdaygood', 'morning'], ['john', 'dolittle', 'got', 'fine', 'big', 'pair', 'green', 'spectacle', 'plowhorse', 'stopped', 'going', 'blind', 'one', 'eye', 'could', 'see', 'well', 'ever'], ['soon', 'became', 'common', 'sight', 'see', 'farmanimals', 'wearing'], ['glass', 'country', 'round', 'puddleby', 'blind', 'horse', 'thing'], ['unknown'], ['animal', 'brought'], ['soon', 'found', 'could', 'talk', 'language', 'told'], ['pain', 'felt', 'course', 'easy'], ['cure'], ['animal', 'went', 'back', 'told', 'brother', 'friend'], ['doctor', 'little', 'house', 'big', 'garden', 'really'], ['doctor', 'whenever', 'creature', 'got', 'sicknot', 'horse'], [], ['cow', 'dogsbut', 'little', 'thing', 'field', 'like', 'harvestmice', 'watervoles', 'badger', 'bat', 'came', 'house'], ['edge', 'town', 'big', 'garden', 'nearly', 'always'], ['crowded', 'animal', 'trying', 'get', 'see'], ['many', 'came', 'special', 'door', 'made'], ['different', 'kind', 'wrote', 'horse', 'front', 'door', 'cow'], ['side', 'door', 'sheep', 'kitchen', 'door', 'kind'], ['animal', 'separate', 'dooreven', 'mouse', 'tiny', 'tunnel', 'made'], ['cellar', 'waited', 'patiently', 'row', 'doctor'], ['come', 'round'], ['year', 'time', 'every', 'living', 'thing', 'mile', 'mile', 'got'], ['know', 'john', 'dolittle', 'md', 'bird', 'flew'], ['country', 'winter', 'told', 'animal', 'foreign', 'land'], ['wonderful', 'doctor', 'puddlebyonthemarsh', 'could', 'understand'], ['talk', 'help', 'trouble', 'way', 'became', 'famous'], ['among', 'animalsall', 'worldbetter', 'known', 'even'], ['among', 'folk', 'west', 'country', 'happy', 'liked'], ['life', 'much'], ['one', 'afternoon', 'doctor', 'busy', 'writing', 'book', 'polynesia'], ['sat', 'windowas', 'nearly', 'always', 'didlooking', 'leaf'], ['blowing', 'garden', 'presently', 'laughed', 'aloud'], ['polynesia', 'asked', 'doctor', 'looking', 'book'], ['thinking', 'said', 'parrot', 'went', 'looking'], ['leaf'], ['thinking'], ['thinking', 'people', 'said', 'polynesia', 'people', 'make', 'sick'], ['think', 'theyre', 'wonderful', 'world', 'going'], ['thousand', 'year', 'hasnt', 'thing', 'animallanguage'], ['people', 'learned', 'understand', 'dog', 'wag'], ['tail', 'mean', 'im', 'gladits', 'funny', 'isnt', 'first', 'man'], ['talk', 'like', 'u', 'oh', 'sometimes', 'people', 'annoy', 'dreadfullysuch', 'air'], ['put', 'ontalking', 'dumb', 'animal', 'dumbhuh', 'knew'], [], ['macaw', 'could', 'say', 'good', 'morning', 'seven', 'different', 'way'], ['without', 'opening', 'mouth', 'could', 'talk', 'every', 'languageand'], ['greek', 'old', 'professor', 'gray', 'beard', 'bought', 'didnt'], ['stay', 'said', 'old', 'man', 'didnt', 'talk', 'greek', 'right', 'couldnt', 'stand'], ['listening', 'teach', 'language', 'wrong', 'often', 'wonder', 'whats'], ['become', 'bird', 'knew', 'geography', 'people', 'ever'], ['knowpeople', 'golly', 'suppose', 'people', 'ever', 'learn', 'flylike'], ['common', 'hedgesparrowwe', 'shall', 'never', 'hear', 'end'], ['youre', 'wise', 'old', 'bird', 'said', 'doctor', 'old', 'really'], ['know', 'parrot', 'elephant', 'sometimes', 'live', 'old'], ['never', 'quite', 'sure', 'age', 'said', 'polynesia', 'either'], ['hundred', 'eightythree', 'hundred', 'eightytwo', 'know'], ['first', 'came', 'africa', 'king', 'charles', 'still', 'hiding'], ['oaktreebecause', 'saw', 'looked', 'scared', 'death'], [], ['third', 'chapter'], ['money', 'trouble'], ['soon', 'doctor', 'began', 'make', 'money', 'sister'], ['sarah', 'bought', 'new', 'dress', 'happy', 'animal'], ['came', 'see', 'sick', 'stay', 'doctor', 'house'], ['week', 'getting', 'better', 'used', 'sit', 'chair'], ['lawn'], ['often', 'even', 'got', 'well', 'want', 'go', 'awaythey'], ['liked', 'doctor', 'house', 'much', 'never', 'heart'], ['refuse', 'asked', 'could', 'stay', 'way'], ['went', 'getting', 'pet'], ['sitting', 'garden', 'wall', 'smoking', 'pipe'], ['evening', 'italian', 'organgrinder', 'came', 'round', 'monkey'], ['string', 'doctor', 'saw', 'monkey', 'collar', 'tight'], ['dirty', 'unhappy', 'took', 'monkey', 'away'], ['italian', 'gave', 'man', 'shilling', 'told', 'go', 'organgrinder'], ['got', 'awfully', 'angry', 'said', 'wanted', 'keep', 'monkey'], ['doctor', 'told', 'didnt', 'go', 'away', 'would', 'punch'], ['nose', 'john', 'dolittle', 'strong', 'man', 'though', 'wasnt', 'tall'], ['italian', 'went', 'away', 'saying', 'rude', 'thing', 'monkey', 'stayed'], ['doctor', 'dolittle', 'good', 'home', 'animal', 'house'], ['called', 'cheecheewhich', 'common', 'word', 'monkeylanguage', 'meaning', 'ginger'], ['another', 'time', 'circus', 'came', 'puddleby', 'crocodile'], ['bad', 'toothache', 'escaped', 'night', 'came', 'doctor'], ['garden', 'doctor', 'talked', 'crocodilelanguage', 'took'], ['house', 'made', 'tooth', 'better', 'crocodile', 'saw'], ['nice', 'house', 'waswith', 'different', 'place', 'different'], ['kind', 'animalshe', 'wanted', 'live', 'doctor', 'asked'], ['couldnt', 'sleep', 'fishpond', 'bottom', 'garden'], ['promised', 'eat', 'fish', 'circusmen', 'came', 'take', 'back'], ['got', 'wild', 'savage', 'frightened', 'away', 'every'], ['one', 'house', 'always', 'gentle', 'kitten'], [], ['old', 'lady', 'grew', 'afraid', 'send', 'lapdog', 'doctor'], ['dolittle', 'crocodile', 'farmer', 'wouldnt', 'believe'], ['would', 'eat', 'lamb', 'sick', 'calf', 'brought', 'cured'], ['doctor', 'went', 'crocodile', 'told', 'must', 'go', 'back'], ['circus', 'wept', 'big', 'tear', 'begged', 'hard', 'allowed'], ['stay', 'doctor', 'hadnt', 'heart', 'turn'], ['doctor', 'sister', 'came', 'said', 'john', 'must', 'send'], ['creature', 'away', 'farmer', 'old', 'lady', 'afraid'], ['send', 'animal', 'youjust', 'beginning', 'well'], ['shall', 'ruined', 'entirely', 'last', 'straw'], ['longer', 'housekeeper', 'dont', 'send', 'away', 'alligator'], ['isnt', 'alligator', 'said', 'doctorits', 'crocodile'], ['dont', 'care', 'call', 'said', 'sister', 'nasty', 'thing', 'find'], ['bed', 'wont', 'house'], ['promised', 'doctor', 'answered', 'bite'], ['one', 'doesnt', 'like', 'circus', 'havent', 'money', 'send'], ['back', 'africa', 'come', 'mind', 'business'], ['whole', 'well', 'behaved', 'dont', 'fussy'], ['tell', 'around', 'said', 'sarah', 'eats'], ['linoleum', 'dont', 'send', 'away', 'minute', 'illill', 'go', 'get'], ['married'], ['right', 'said', 'doctor', 'go', 'get', 'married', 'cant', 'helped'], ['took', 'hat', 'went', 'garden'], ['sarah', 'dolittle', 'packed', 'thing', 'went', 'doctor'], ['left', 'alone', 'animal', 'family'], ['soon', 'poorer', 'ever'], ['mouth', 'fill', 'house', 'look', 'one'], ['mending', 'money', 'coming', 'pay', 'butcher', 'bill', 'thing'], ['began', 'look', 'difficult', 'doctor', 'didnt', 'worry'], ['money', 'nuisance', 'used', 'say', 'wed', 'much', 'better'], ['never', 'invented', 'money', 'matter', 'long'], ['happy'], [], ['soon', 'animal', 'began', 'get', 'worried', 'one', 'evening'], ['doctor', 'asleep', 'chair', 'kitchenfire'], ['began', 'talking', 'among', 'whisper', 'owl', 'tootoo', 'good', 'arithmetic', 'figured'], ['money', 'enough', 'left', 'last', 'another', 'weekif', 'one', 'meal'], ['day'], ['parrot', 'said', 'think', 'ought', 'housework'], ['least', 'much', 'sake'], ['old', 'man', 'find', 'lonely', 'poor'], ['agreed', 'monkey', 'cheechee', 'cooking'], ['mending', 'dog', 'sweep', 'floor', 'duck', 'dust'], ['make', 'bed', 'owl', 'tootoo', 'keep', 'account', 'pig'], ['gardening', 'made', 'polynesia', 'parrot', 'housekeeper'], ['laundress', 'oldest'], ['course', 'first', 'found', 'new', 'job', 'hard', 'doall'], ['except', 'cheechee', 'hand', 'could', 'thing', 'like', 'man'], ['soon', 'got', 'used', 'used', 'think', 'great', 'fun', 'watch', 'jip'], ['dog', 'sweeping', 'tail', 'floor', 'rag', 'tied', 'onto'], ['broom', 'little', 'got', 'work', 'well', 'doctor', 'said'], ['never', 'house', 'kept', 'tidy', 'clean'], ['way', 'thing', 'went', 'along', 'right', 'without', 'money'], ['found', 'hard'], ['animal', 'made', 'vegetable', 'flower', 'stall', 'outside', 'gardengate', 'sold', 'radish', 'rose', 'people', 'passed', 'along'], ['road'], ['still', 'didnt', 'seem', 'make', 'enough', 'money', 'pay', 'bill'], ['still', 'doctor', 'wouldnt', 'worry', 'parrot', 'came'], ['told', 'fishmonger', 'wouldnt', 'give', 'fish', 'said'], ['never', 'mind', 'long', 'hen', 'lay', 'egg', 'cow', 'give', 'milk'], ['omelette', 'junket', 'plenty', 'vegetable', 'left'], ['garden', 'winter', 'still', 'long', 'way', 'dont', 'fuss'], [], ['trouble', 'sarahshe', 'would', 'fuss', 'wonder', 'sarah', 'getting'], ['excellent', 'womanin', 'wayswell', 'well'], ['snow', 'came', 'earlier', 'usual', 'year', 'although', 'old'], ['lame', 'horse', 'hauled', 'plenty', 'wood', 'forest', 'outside', 'town'], ['could', 'big', 'fire', 'kitchen', 'vegetable'], ['garden', 'gone', 'rest', 'covered', 'snow', 'many'], ['animal', 'really', 'hungry'], [], ['fourth', 'chapter'], ['message', 'africa'], ['winter', 'cold', 'one', 'one', 'night', 'december'], ['sitting', 'round', 'warm', 'fire', 'kitchen', 'doctor'], ['reading', 'aloud', 'book', 'written'], ['animallanguage', 'owl', 'tootoo', 'suddenly', 'said', 'sh', 'whats'], ['noise', 'outside'], ['listened', 'presently', 'heard', 'sound', 'one'], ['running', 'door', 'flew', 'open', 'monkey', 'cheechee', 'ran'], ['badly', 'breath'], ['doctor', 'cried', 'ive', 'message', 'cousin', 'mine'], ['africa', 'terrible', 'sickness', 'among', 'monkey'], ['catching', 'itand', 'dying', 'hundred', 'heard'], ['beg', 'come', 'africa', 'stop', 'sickness'], ['brought', 'message', 'asked', 'doctor', 'taking', 'spectacle'], ['laying', 'book'], ['swallow', 'said', 'cheechee', 'outside', 'rainbutt'], ['bring', 'fire', 'said', 'doctor', 'must', 'perished'], ['cold', 'swallow', 'flew', 'south', 'six', 'week', 'ago'], ['swallow', 'brought', 'huddled', 'shivering', 'although'], ['little', 'afraid', 'first', 'soon', 'got', 'warmed', 'sat'], ['edge', 'mantelpiece', 'began', 'talk'], ['finished', 'doctor', 'said'], ['would', 'gladly', 'go', 'africaespecially', 'bitter', 'weather', 'im'], ['afraid', 'havent', 'money', 'enough', 'buy', 'ticket', 'get', 'moneybox', 'cheechee'], ['monkey', 'climbed', 'got', 'top', 'shelf', 'dresser'], ['nothing', 'itnot', 'one', 'single', 'penny'], ['felt', 'sure', 'twopence', 'left', 'said', 'doctor'], [], ['said', 'owl', 'spent', 'rattle', 'badger'], ['baby', 'teething'], ['said', 'doctordear', 'dear', 'nuisance', 'money'], ['sure', 'well', 'never', 'mind', 'perhaps', 'go', 'seaside', 'shall'], ['able', 'borrow', 'boat', 'take', 'u', 'africa', 'knew', 'seaman'], ['brought', 'baby', 'measles', 'maybe', 'hell', 'lend', 'u'], ['boatthe', 'baby', 'got', 'well'], ['early', 'next', 'morning', 'doctor', 'went', 'seashore'], ['came', 'back', 'told', 'animal', 'rightthe', 'sailor'], ['going', 'lend', 'boat'], ['crocodile', 'monkey', 'parrot', 'glad'], ['began', 'sing', 'going', 'back', 'africa', 'real', 'home'], ['doctor', 'said'], ['shall', 'able', 'take', 'threewith', 'jip', 'dog', 'dabdab'], ['duck', 'gubgub', 'pig', 'owl', 'tootoo', 'rest', 'animal'], ['like', 'dormouse', 'watervoles', 'bat', 'go'], ['back', 'live', 'field', 'born', 'till', 'come', 'home'], ['sleep', 'winter', 'wont', 'mind'], ['thatand', 'besides', 'wouldnt', 'good', 'go', 'africa'], ['parrot', 'long', 'seavoyages', 'began'], ['telling', 'doctor', 'thing', 'would', 'take'], ['ship'], ['must', 'plenty', 'pilotbread', 'saidhard', 'tack', 'call'], ['must', 'beef', 'cansand', 'anchor'], ['expect', 'ship', 'anchor', 'said', 'doctor'], ['well', 'make', 'sure', 'said', 'polynesia', 'important', 'cant'], ['stop', 'havent', 'got', 'anchor', 'youll', 'need', 'bell'], ['whats', 'asked', 'doctor'], ['tell', 'time', 'said', 'parrot', 'go', 'ring', 'every', 'halfhour'], ['know', 'time', 'bring', 'whole', 'lot', 'ropeit'], ['always', 'come', 'handy', 'voyage'], [], ['began', 'wonder', 'going', 'get', 'money'], ['buy', 'thing', 'needed'], ['oh', 'bother', 'money', 'cried', 'doctor', 'goodness', 'shall'], ['glad', 'get', 'africa', 'dont', 'ill', 'go', 'ask'], ['grocer', 'wait', 'money', 'till', 'get', 'backno', 'ill', 'send', 'sailor'], ['ask'], ['sailor', 'went', 'see', 'grocer', 'presently', 'came', 'back'], ['thing', 'wanted'], ['animal', 'packed', 'turned', 'water'], ['pipe', 'wouldnt', 'freeze', 'put', 'shutter', 'closed', 'house'], ['gave', 'key', 'old', 'horse', 'lived', 'stable'], ['seen', 'plenty', 'hay', 'loft', 'last', 'horse'], ['winter', 'carried', 'luggage', 'seashore'], ['got', 'boat'], ['catsmeatman', 'see', 'brought', 'large'], ['suetpudding', 'present', 'doctor', 'said'], ['told', 'couldnt', 'get', 'suetpuddings', 'foreign', 'part'], ['soon', 'ship', 'gubgub', 'pig', 'asked'], ['bed', 'four', 'oclock', 'afternoon', 'wanted'], ['nap', 'polynesia', 'took', 'downstairs', 'inside', 'ship'], ['showed', 'bed', 'set', 'top', 'one', 'another', 'like', 'bookshelf'], ['wall'], ['isnt', 'bed', 'cried', 'gubgub', 'thats', 'shelf'], ['bed', 'always', 'like', 'ship', 'said', 'parrot', 'isnt', 'shelf'], ['climb', 'go', 'sleep', 'thats', 'call', 'bunk'], ['dont', 'think', 'ill', 'go', 'bed', 'yet', 'said', 'gubgub', 'im', 'excited', 'want'], ['go', 'upstairs', 'see', 'start'], ['well', 'first', 'trip', 'said', 'polynesia', 'get', 'used', 'life'], ['went', 'back', 'stair', 'ship', 'humming'], ['song'], ['ive', 'seen', 'black', 'sea', 'red', 'sea'], [], ['rounded', 'isle', 'wight'], ['discovered', 'yellow', 'river'], ['orange', 'night'], ['greenland', 'drop', 'behind'], ['sail', 'ocean', 'blue'], ['im', 'tired', 'color', 'jane'], ['im', 'coming', 'back'], ['going', 'start', 'journey', 'doctor', 'said'], ['would', 'go', 'back', 'ask', 'sailor', 'way', 'africa'], ['swallow', 'said', 'country', 'many', 'time'], ['would', 'show', 'get'], ['doctor', 'told', 'cheechee', 'pull', 'anchor', 'voyage'], ['began'], [], ['fifth', 'chapter'], ['great', 'journey'], ['six', 'whole', 'week', 'went', 'sailing', 'rolling'], ['sea', 'following', 'swallow', 'flew', 'ship', 'show'], ['way', 'night', 'carried', 'tiny', 'lantern', 'miss'], ['dark', 'people', 'ship', 'passed', 'said', 'light'], ['must', 'shooting', 'star'], ['sailed', 'south', 'got', 'warmer'], ['warmer', 'polynesia', 'cheechee', 'crocodile', 'enjoyed', 'hot', 'sun'], ['end', 'ran', 'laughing', 'looking', 'side', 'ship'], ['see', 'could', 'see', 'africa', 'yet'], ['pig', 'dog', 'owl', 'tootoo', 'could', 'nothing'], ['weather', 'sat', 'end', 'ship', 'shade', 'big', 'barrel'], ['tongue', 'hanging', 'drinking', 'lemonade'], ['dabdab', 'duck', 'used', 'keep', 'cool', 'jumping', 'sea'], ['swimming', 'behind', 'ship', 'every'], ['top', 'head', 'got', 'hot', 'would', 'dive', 'ship', 'come'], ['side', 'way', 'used', 'catch', 'herring'], ['tuesday', 'fridayswhen', 'everybody', 'boat', 'ate', 'fish', 'make'], ['beef', 'last', 'longer'], ['got', 'near', 'equator', 'saw', 'flyingfishes', 'coming'], ['towards', 'fish', 'asked', 'parrot', 'doctor'], ['dolittles', 'ship', 'told', 'said', 'glad'], ['monkey', 'africa', 'getting', 'worried', 'would'], ['never', 'come', 'polynesia', 'asked', 'many', 'mile', 'yet', 'go'], ['flyingfishes', 'said', 'fiftyfive', 'mile', 'coast'], ['africa'], ['another', 'time', 'whole', 'school', 'porpoise', 'came', 'dancing'], ['wave', 'asked', 'polynesia', 'ship', 'famous'], ['doctor', 'heard', 'asked', 'parrot'], ['doctor', 'wanted', 'anything', 'journey'], ['polynesia', 'said', 'yes', 'run', 'short', 'onion'], [], ['island', 'far', 'said', 'porpoise'], ['wild', 'onion', 'grow', 'tall', 'strong', 'keep', 'straight', 'onwe', 'get'], ['catch'], ['porpoise', 'dashed', 'away', 'sea', 'soon', 'parrot'], ['saw', 'coming', 'behind', 'dragging', 'onion'], ['wave', 'big', 'net', 'made', 'seaweed'], ['next', 'evening', 'sun', 'going', 'doctor', 'said'], ['get', 'telescope', 'cheechee', 'journey', 'nearly', 'ended'], ['soon', 'able', 'see', 'shore', 'africa'], ['half', 'hour', 'later', 'sure', 'enough', 'thought', 'could', 'see'], ['something', 'front', 'might', 'land', 'began', 'get', 'darker'], ['darker', 'couldnt', 'sure', 'great', 'storm', 'came'], ['thunder', 'lightning', 'wind', 'howled', 'rain', 'came'], ['torrent', 'wave', 'got', 'high', 'splashed', 'right', 'boat'], ['presently', 'big', 'bang', 'ship', 'stopped', 'rolled'], ['side'], ['whats', 'happened', 'asked', 'doctor', 'coming', 'downstairs'], ['im', 'sure', 'said', 'parrot', 'think', 'shipwrecked', 'tell'], ['duck', 'get', 'see'], ['dabdab', 'dived', 'right', 'wave', 'came'], ['said', 'struck', 'rock', 'big', 'hole', 'bottom'], ['ship', 'water', 'coming', 'sinking', 'fast'], ['must', 'run', 'africa', 'said', 'doctor', 'dear', 'dear'], ['wellwe', 'must', 'swim', 'land'], ['cheechee', 'gubgub', 'know', 'swim'], ['get', 'rope', 'said', 'polynesia', 'told', 'would', 'come', 'handy'], ['wheres', 'duck', 'come', 'dabdab', 'take', 'end', 'rope', 'fly'], ['shore', 'tie', 'palmtree', 'well', 'hold', 'end'], ['ship', 'cant', 'swim', 'must', 'climb', 'along', 'rope', 'till'], ['reach', 'land', 'thats', 'call', 'lifeline'], [], ['got', 'safely', 'shoresome', 'swimming', 'flying'], ['climbed', 'along', 'rope', 'brought', 'doctor', 'trunk'], ['handbag'], ['ship', 'good', 'morewith', 'big', 'hole', 'bottom'], ['presently', 'rough', 'sea', 'beat', 'piece', 'rock', 'timber'], ['floated', 'away'], ['took', 'shelter', 'nice', 'dry', 'cave', 'found', 'high'], ['cliff', 'till', 'storm'], ['sun', 'came', 'next', 'morning', 'went', 'sandy'], ['beach', 'dry'], ['dear', 'old', 'africa', 'sighed', 'polynesia', 'good', 'get', 'back', 'think'], ['itll', 'hundred', 'sixtynine', 'year', 'tomorrow', 'since'], ['hasnt', 'changed', 'bit', 'old', 'palmtrees', 'old', 'red', 'earth'], ['old', 'black', 'ant', 'there', 'place', 'like', 'home'], ['others', 'noticed', 'tear', 'eyesshe', 'pleased'], ['see', 'country'], ['doctor', 'missed', 'high', 'hat', 'blown', 'sea'], ['storm', 'dabdab', 'went', 'look', 'presently'], ['saw', 'long', 'way', 'floating', 'water', 'like', 'toyboat'], ['flew', 'get', 'found', 'one', 'white', 'mouse'], ['frightened', 'sitting', 'inside'], ['asked', 'duck', 'told', 'stay'], ['behind', 'puddleby'], ['didnt', 'want', 'left', 'behind', 'said', 'mouse', 'wanted', 'see'], ['africa', 'likei', 'relative', 'hid', 'baggage'], ['brought', 'ship', 'hardtack', 'ship', 'sank'], ['terribly', 'frightenedbecause', 'swim', 'far', 'swam', 'long'], ['could', 'soon', 'got', 'exhausted', 'thought', 'going', 'sink'], ['moment', 'old', 'man', 'hat', 'came', 'floating', 'got'], ['want', 'drowned'], ['duck', 'took', 'hat', 'mouse', 'brought'], ['doctor', 'shore', 'gathered', 'round', 'look'], [], ['thats', 'call', 'stowaway', 'said', 'parrot'], ['presently', 'looking', 'place', 'trunk'], ['white', 'mouse', 'could', 'travel', 'comfortably', 'monkey', 'cheechee'], ['suddenly', 'said'], ['sh', 'hear', 'footstep', 'jungle'], ['stopped', 'talking', 'listened', 'soon', 'black', 'man', 'came'], ['wood', 'asked'], ['name', 'john', 'dolittlem', 'said', 'doctor', 'asked'], ['come', 'africa', 'cure', 'monkey', 'sick'], ['must', 'come', 'king', 'said', 'black', 'man'], ['king', 'asked', 'doctor', 'didnt', 'want', 'waste', 'time'], ['king', 'jolliginki', 'man', 'answered', 'land', 'belong'], ['stranger', 'must', 'brought', 'follow'], ['gathered', 'baggage', 'went', 'following', 'man'], ['jungle'], [], ['sixth', 'chapter'], ['polynesia', 'king'], ['gone', 'little', 'way', 'thick', 'forest', 'came'], ['wide', 'clear', 'space', 'saw', 'king', 'palace', 'made'], ['mud'], ['king', 'lived', 'queen', 'ermintrude'], ['son', 'prince', 'bumpo', 'prince', 'away', 'fishing', 'salmon', 'river'], ['king', 'queen', 'sitting', 'umbrella'], ['palace', 'door', 'queen', 'ermintrude', 'asleep'], ['doctor', 'come', 'palace', 'king', 'asked'], ['business', 'doctor', 'told', 'come', 'africa'], ['may', 'travel', 'land', 'said', 'king', 'many', 'year', 'ago'], ['white', 'man', 'came', 'shore', 'kind'], ['dug', 'hole', 'ground', 'get', 'gold', 'killed'], ['elephant', 'get', 'ivory', 'tusk', 'went', 'away', 'secretly', 'ship'], ['without', 'much', 'saying', 'thank', 'never', 'shall', 'white', 'man'], ['travel', 'land', 'jolliginki'], ['king', 'turned', 'black', 'men', 'standing', 'near'], ['said', 'take', 'away', 'medicinemanwith', 'animal', 'lock'], ['strongest', 'prison'], ['six', 'black', 'men', 'led', 'doctor', 'pet', 'away', 'shut'], ['stone', 'dungeon', 'dungeon', 'one', 'little', 'window'], ['high', 'wall', 'bar', 'door', 'strong', 'thick'], ['grew', 'sad', 'gubgub', 'pig', 'began', 'cry'], ['cheechee', 'said', 'would', 'spank', 'didnt', 'stop', 'horrible', 'noise'], ['kept', 'quiet'], ['asked', 'doctor', 'got', 'used', 'dim'], ['light'], ['yes', 'think', 'said', 'duck', 'started', 'count'], ['wheres', 'polynesia', 'asked', 'crocodile', 'isnt'], [], ['sure', 'said', 'doctor', 'look', 'polynesia', 'polynesia'], [], ['suppose', 'escaped', 'grumbled', 'crocodile', 'well', 'thats', 'like'], ['hersneaked', 'jungle', 'soon', 'friend', 'got', 'trouble'], ['im', 'kind', 'bird', 'said', 'parrot', 'climbing', 'pocket'], ['tail', 'doctor', 'coat', 'see', 'im', 'small', 'enough', 'get'], ['bar', 'window', 'afraid', 'would', 'put', 'cage'], ['instead', 'king', 'busy', 'talking', 'hid', 'doctor'], ['pocketand', 'thats', 'call', 'ruse', 'said'], ['smoothing', 'feather', 'beak'], ['good', 'gracious', 'cried', 'doctor', 'youre', 'lucky', 'didnt', 'sit'], ['listen', 'said', 'polynesia', 'tonight', 'soon', 'get', 'dark'], ['going', 'creep', 'bar', 'window', 'fly'], ['palace', 'thenyoull', 'seeill', 'soon', 'find', 'way', 'make', 'king', 'let'], ['u', 'prison'], ['oh', 'said', 'gubgub', 'turning', 'nose'], ['beginning', 'cry', 'youre', 'bird'], ['quite', 'true', 'said', 'parrot', 'forget', 'although'], ['bird', 'talk', 'like', 'manand', 'know', 'people'], ['night', 'moon', 'shining', 'palmtrees'], ['king', 'men', 'asleep', 'parrot', 'slipped', 'bar'], ['prison', 'flew', 'across', 'palace', 'pantry', 'window'], ['broken', 'tennis', 'ball', 'week', 'polynesia', 'popped'], ['hole', 'glass'], ['heard', 'prince', 'bumpo', 'snoring', 'bedroom', 'back'], ['palace', 'tiptoed', 'stair', 'till', 'came', 'king'], ['bedroom', 'opened', 'door', 'gently', 'peeped'], ['queen', 'away', 'dance', 'night', 'cousin', 'king'], ['bed', 'fast', 'asleep'], ['polynesia', 'crept', 'softly', 'got', 'bed'], [], ['coughedjust', 'way', 'doctor', 'dolittle', 'used', 'cough'], ['polynesia', 'could', 'mimic', 'one'], ['king', 'opened', 'eye', 'said', 'sleepily', 'ermintrude'], ['thought', 'queen', 'come', 'back', 'dance'], ['parrot', 'coughed', 'againloud', 'like', 'man', 'king', 'sat'], ['wide', 'awake', 'said', 'who'], ['doctor', 'dolittle', 'said', 'parrotjust', 'way', 'doctor', 'would'], ['said'], ['bedroom', 'cried', 'king', 'dare'], ['get', 'prison', 'youi', 'dont', 'see'], ['parrot', 'laugheda', 'long', 'deep', 'jolly', 'laugh', 'like', 'doctor'], ['stop', 'laughing', 'come', 'see', 'said', 'king'], ['foolish', 'king', 'answered', 'polynesia', 'forgotten'], ['talking', 'john', 'dolittle', 'mdthe', 'wonderful', 'man', 'earth'], ['course', 'see', 'made', 'invisible', 'nothing'], ['listen', 'come', 'tonight', 'warn'], ['dont', 'let', 'animal', 'travel', 'kingdom', 'make'], ['people', 'sick', 'like', 'monkey', 'make', 'people'], ['well', 'make', 'people', 'illjust', 'raising', 'little', 'finger', 'send'], ['soldier', 'open', 'dungeon', 'door', 'shall'], ['mumps', 'morning', 'sun', 'risen', 'hill', 'jolliginki'], ['king', 'began', 'tremble', 'much', 'afraid'], ['doctor', 'cried', 'shall', 'say', 'raise', 'little', 'finger'], ['please', 'jumped', 'bed', 'ran', 'tell', 'soldier', 'open'], ['prison', 'door'], ['soon', 'gone', 'polynesia', 'crept', 'downstairs', 'left', 'palace'], ['pantry', 'window'], ['queen', 'letting', 'backdoor'], ['latchkey', 'saw', 'parrot', 'getting', 'broken', 'glass'], ['king', 'came', 'back', 'bed', 'told', 'seen'], [], ['king', 'understood', 'tricked'], ['dreadfully', 'angry', 'hurried', 'back', 'prison'], ['late', 'door', 'stood', 'open', 'dungeon', 'empty'], ['doctor', 'animal', 'gone'], [], ['seventh', 'chapter'], ['bridge', 'ape'], ['queen', 'ermintrude', 'never', 'life', 'seen', 'husband'], ['terrible', 'got', 'night', 'gnashed', 'teeth', 'rage', 'called'], ['everybody', 'fool', 'threw', 'toothbrush', 'palace', 'cat', 'rushed'], ['round', 'nightshirt', 'woke', 'army', 'sent'], ['jungle', 'catch', 'doctor', 'made', 'servant', 'go', 'toohis'], ['cook', 'gardener', 'barber', 'prince', 'bumpos', 'tutoreven'], ['queen', 'tired', 'dancing', 'pair', 'tight', 'shoe'], ['packed', 'help', 'soldier', 'search'], ['time', 'doctor', 'animal', 'running', 'forest'], ['towards', 'land', 'monkey', 'fast', 'could', 'go'], ['gubgub', 'short', 'leg', 'soon', 'got', 'tired', 'doctor', 'carry'], ['himwhich', 'made', 'pretty', 'hard', 'trunk', 'handbag', 'well'], ['king', 'jolliginki', 'thought', 'would', 'easy', 'army', 'find'], ['doctor', 'strange', 'land', 'would', 'know'], ['way', 'wrong', 'monkey', 'cheechee', 'knew'], ['path', 'junglebetter', 'even', 'king', 'men'], ['led', 'doctor', 'pet', 'thickest', 'part', 'foresta', 'place'], ['man', 'ever', 'beforeand', 'hid', 'big', 'hollow'], ['tree', 'high', 'rock'], ['better', 'wait', 'said', 'cheechee', 'till', 'soldier', 'gone'], ['back', 'bed', 'go', 'land', 'monkey'], ['stayed', 'whole', 'night'], ['often', 'heard', 'king', 'men', 'searching', 'talking', 'jungle'], ['round', 'quite', 'safe', 'one', 'knew', 'hidingplace', 'cheecheenot', 'even', 'monkey'], ['last', 'daylight', 'began', 'come', 'thick', 'leaf', 'overhead'], ['heard', 'queen', 'ermintrude', 'saying', 'tired', 'voice'], ['use', 'looking', 'morethat', 'might', 'well', 'go', 'back', 'get'], ['sleep'], [], ['soon', 'soldier', 'gone', 'home', 'cheechee', 'brought'], ['doctor', 'animal', 'hidingplace', 'set'], ['land', 'monkey'], ['long', 'long', 'way', 'often', 'got', 'tiredespecially', 'gubgub', 'cried', 'gave', 'milk', 'cocoanut'], ['fond'], ['always', 'plenty', 'eat', 'drink', 'cheechee'], ['polynesia', 'knew', 'different', 'kind', 'fruit', 'vegetable', 'grow'], ['jungle', 'find', 'themlike', 'date', 'fig', 'groundnut', 'ginger', 'yam', 'used', 'make', 'lemonade'], ['juice', 'wild', 'orange', 'sweetened', 'honey', 'got'], ['bee', 'nest', 'hollow', 'tree', 'matter', 'asked', 'cheechee', 'polynesia', 'always', 'seemed', 'able', 'get', 'themor'], ['something', 'like', 'even', 'got', 'doctor', 'tobacco', 'one', 'day'], ['finished', 'brought', 'wanted', 'smoke'], ['night', 'slept', 'tent', 'made', 'palmleaves', 'thick', 'soft', 'bed'], ['dried', 'grass', 'got', 'used', 'walking', 'lot'], ['get', 'tired', 'enjoyed', 'life', 'travel', 'much'], ['always', 'glad', 'night', 'came', 'stopped'], ['restingtime', 'doctor', 'used', 'make', 'little', 'fire', 'stick'], ['supper', 'would', 'sit', 'round', 'ring'], ['listening', 'polynesia', 'singing', 'song', 'sea', 'cheechee'], ['telling', 'story', 'jungle'], ['many', 'tale', 'cheechee', 'told', 'interesting'], ['although', 'monkey', 'historybooks'], ['doctor', 'dolittle', 'came', 'write', 'remember', 'everything'], ['happens', 'telling', 'story', 'child', 'cheechee', 'spoke'], ['many', 'thing', 'grandmother', 'told', 'himtales', 'long', 'long', 'long'], ['ago', 'noah', 'floodof', 'day', 'men', 'dressed', 'bearskin', 'lived', 'hole', 'rock', 'ate', 'mutton', 'raw'], ['know', 'cooking', 'washaving', 'never', 'seen', 'fire'], ['told', 'great', 'mammoth', 'lizard', 'long', 'train'], ['wandered', 'mountain', 'time', 'nibbling', 'tree'], [], ['top', 'often', 'got', 'interested', 'listening'], ['finished', 'found', 'fire', 'gone', 'right', 'scurry'], ['round', 'get', 'stick', 'build', 'new', 'one'], ['king', 'army', 'gone', 'back', 'told', 'king'], ['couldnt', 'find', 'doctor', 'king', 'sent', 'told'], ['must', 'stay', 'jungle', 'till', 'caught', 'time'], ['doctor', 'animal', 'going', 'along', 'towards', 'land'], ['monkey', 'thinking', 'quite', 'safe', 'still', 'followed'], ['king', 'men', 'cheechee', 'known', 'would', 'likely'], ['hidden', 'didnt', 'know'], ['one', 'day', 'cheechee', 'climbed', 'high', 'rock', 'looked'], ['treetop', 'came', 'said', 'quite', 'close'], ['land', 'monkey', 'would', 'soon'], ['evening', 'sure', 'enough', 'saw', 'cheechees', 'cousin'], ['lot', 'monkey', 'yet', 'got', 'sick', 'sitting', 'tree'], ['edge', 'swamp', 'looking', 'waiting', 'saw'], ['famous', 'doctor', 'really', 'come', 'monkey', 'made', 'tremendous'], ['noise', 'cheering', 'waving', 'leaf', 'swinging', 'branch'], ['greet'], ['wanted', 'carry', 'bag', 'trunk', 'everything', 'hadand'], ['one', 'bigger', 'one', 'even', 'carried', 'gubgub', 'got', 'tired'], ['two', 'rushed', 'front', 'tell', 'sick', 'monkey'], ['great', 'doctor', 'come', 'last'], ['king', 'men', 'still', 'following', 'heard', 'noise'], ['monkey', 'cheering', 'last', 'knew', 'doctor'], ['hastened', 'catch'], ['big', 'monkey', 'carrying', 'gubgub', 'coming', 'along', 'behind', 'slowly'], ['saw', 'captain', 'army', 'sneaking', 'tree'], ['hurried', 'doctor', 'told', 'run'], ['ran', 'harder', 'ever', 'run', 'life'], ['king', 'men', 'coming', 'began', 'run', 'captain', 'ran'], ['hardest'], [], ['doctor', 'tripped', 'medicinebag', 'fell'], ['mud', 'captain', 'thought', 'would', 'surely', 'catch', 'time'], ['captain', 'long', 'earsthough', 'hair', 'short'], ['sprang', 'forward', 'take', 'hold', 'doctor', 'one', 'ear'], ['caught', 'fast', 'tree', 'rest', 'army', 'stop', 'help'], ['time', 'doctor', 'picked', 'went'], ['running', 'running', 'cheechee', 'shouted'], ['right', 'havent', 'far', 'go'], ['could', 'get', 'land', 'monkey', 'came'], ['steep', 'cliff', 'river', 'flowing', 'end', 'kingdom'], ['jolliginki', 'land', 'monkey', 'sideacross'], ['river'], ['jip', 'dog', 'looked', 'edge', 'steep', 'steep', 'cliff'], ['said'], ['golly', 'ever', 'going', 'get', 'across'], ['oh', 'dear', 'said', 'gubgub', 'king', 'men', 'quite', 'close', 'nowlook'], ['afraid', 'going', 'taken', 'back', 'prison'], ['began', 'weep'], ['big', 'monkey', 'carrying', 'pig', 'dropped'], ['ground', 'cried', 'monkey'], ['boysa', 'bridge', 'quickmake', 'bridge', 'weve', 'minute'], ['theyve', 'got', 'captain', 'loose', 'he', 'coming', 'like', 'deer', 'get', 'lively'], ['bridge', 'bridge'], ['doctor', 'began', 'wonder', 'going', 'make', 'bridge'], ['gazed', 'around', 'see', 'board', 'hidden', 'place'], ['looked', 'back', 'cliff', 'hanging', 'across', 'river'], ['bridge', 'ready', 'himmade', 'living', 'monkey', 'back'], ['turned', 'monkeysquick', 'flashhad', 'made'], ['bridge', 'holding', 'hand', 'foot'], ['big', 'one', 'shouted', 'doctor', 'walk', 'walk', 'overall'], ['youhurry'], [], ['gubgub', 'bit', 'scared', 'walking', 'narrow', 'bridge'], ['dizzy', 'height', 'river', 'got', 'right'], [], ['john', 'dolittle', 'last', 'cross', 'getting'], ['side', 'king', 'men', 'came', 'rushing', 'edge', 'cliff'], ['shook', 'fist', 'yelled', 'rage', 'saw'], ['late', 'doctor', 'animal', 'safe', 'land'], ['monkey', 'bridge', 'pulled', 'across', 'side'], ['cheechee', 'turned', 'doctor', 'said'], ['many', 'great', 'explorer', 'graybearded', 'naturalist', 'lain', 'long'], ['week', 'hidden', 'jungle', 'waiting', 'see', 'monkey', 'trick'], ['never', 'let', 'white', 'man', 'get', 'glimpse', 'first'], ['see', 'famous', 'bridge', 'ape'], ['doctor', 'felt', 'pleased'], [], ['eighth', 'chapter'], ['leader', 'lion'], ['john', 'dolittle', 'became', 'dreadfully', 'awfully', 'busy', 'found'], ['hundred', 'thousand', 'monkey', 'sickgorillas', 'orangoutangs'], ['chimpanzee', 'dogfaced', 'baboon', 'marmosettes', 'gray', 'monkey', 'red'], ['onesall', 'kind', 'many', 'died'], ['first', 'thing', 'separate', 'sick', 'one', 'well', 'one'], ['got', 'cheechee', 'cousin', 'build', 'little', 'house'], ['grass', 'next', 'thing', 'made', 'monkey', 'still', 'well', 'come'], ['vaccinated'], ['three', 'day', 'three', 'night', 'monkey', 'kept', 'coming'], ['jungle', 'valley', 'hill', 'little', 'house', 'grass'], ['doctor', 'sat', 'day', 'night', 'vaccinating', 'vaccinating'], ['another', 'house', 'madea', 'big', 'one', 'lot', 'bed'], ['put', 'sick', 'one', 'house'], ['many', 'sick', 'enough', 'well', 'one'], ['nursing', 'sent', 'message', 'animal', 'like', 'lion'], ['leopard', 'antelope', 'come', 'help', 'nursing'], ['leader', 'lion', 'proud', 'creature'], ['came', 'doctor', 'big', 'house', 'full', 'bed', 'seemed', 'angry'], ['scornful'], ['dare', 'ask', 'sir', 'said', 'glaring', 'doctor'], ['dare', 'ask', 'meme', 'king', 'beast', 'wait', 'lot', 'dirty'], ['monkey', 'wouldnt', 'even', 'eat', 'meal'], ['although', 'lion', 'looked', 'terrible', 'doctor', 'tried', 'hard', 'seem'], ['afraid'], ['didnt', 'ask', 'eat', 'said', 'quietly', 'besides', 'theyre'], ['dirty', 'theyve', 'bath', 'morning', 'coat', 'look', 'though'], ['needed', 'brushingbadly', 'listen', 'ill', 'tell', 'something', 'day'], ['may', 'come', 'lion', 'get', 'sick', 'dont', 'help'], ['animal', 'lion', 'may', 'find', 'left', 'alone'], ['trouble', 'often', 'happens', 'proud', 'people'], [], ['lion', 'never', 'troublethey', 'make', 'trouble', 'said'], ['leader', 'turning', 'nose', 'stalked', 'away', 'jungle', 'feeling'], ['rather', 'smart', 'clever'], ['leopard', 'got', 'proud', 'said', 'wouldnt', 'help'], ['course', 'antelopesalthough', 'shy', 'timid'], ['rude', 'doctor', 'like', 'lionthey', 'pawed', 'ground', 'smiled'], ['foolishly', 'said', 'never', 'nurse'], ['poor', 'doctor', 'worried', 'frantic', 'wondering'], ['could', 'get', 'help', 'enough', 'take', 'care', 'thousand', 'monkey'], ['bed'], ['leader', 'lion', 'got', 'back', 'den', 'saw', 'wife'], ['queen', 'lioness', 'come', 'running', 'meet', 'hair', 'untidy'], ['one', 'cub', 'wont', 'eat', 'said', 'dont', 'know'], ['hasnt', 'taken', 'thing', 'since', 'last', 'night'], ['began', 'cry', 'shake', 'nervousnessfor', 'good'], ['mother', 'even', 'though', 'lioness'], ['leader', 'went', 'den', 'looked', 'childrentwo'], ['cunning', 'little', 'cub', 'lying', 'floor', 'one', 'seemed', 'quite'], ['poorly'], ['lion', 'told', 'wife', 'quite', 'proudly', 'said'], ['doctor', 'got', 'angry', 'nearly', 'drove', 'den'], ['never', 'grain', 'sense', 'screamed', 'animal'], ['indian', 'ocean', 'talking', 'wonderful', 'man'], ['cure', 'kind', 'sickness', 'kind', 'isthe', 'man'], ['whole', 'world', 'talk', 'language', 'animal'], ['nowwhen', 'sick', 'baby', 'hand', 'must', 'go'], ['offend', 'great', 'booby', 'nobody', 'fool', 'ever', 'rude', 'good'], ['doctor', 'started', 'pulling', 'husband', 'hair'], ['go', 'back', 'white', 'man', 'yelled', 'tell', 'youre'], ['sorry', 'take', 'emptyheaded', 'lion', 'youand'], ['stupid', 'leopard', 'antelope', 'everything', 'doctor', 'tell'], [], ['work', 'hard', 'perhaps', 'kind', 'enough', 'come', 'see'], ['cub', 'later', 'hurry', 'tell', 'youre', 'fit', 'father'], ['went', 'den', 'next', 'door', 'another', 'motherlion', 'lived'], ['told'], ['leader', 'lion', 'went', 'back', 'doctor', 'said', 'happened'], ['passing', 'way', 'thought', 'id', 'look', 'got', 'help', 'yet'], ['said', 'doctor', 'havent', 'im', 'dreadfully', 'worried'], ['help', 'pretty', 'hard', 'get', 'day', 'said', 'lion', 'animal', 'dont', 'seem'], ['want', 'work', 'cant', 'blame', 'themin', 'way', 'well'], ['seeing', 'youre', 'difficulty', 'dont', 'mind', 'canjust'], ['oblige', 'youso', 'long', 'dont', 'wash', 'creature'], ['told', 'hunting', 'animal', 'come', 'share'], ['leopard', 'minute', 'oh', 'way', 'weve'], ['got', 'sick', 'cub', 'home', 'dont', 'think', 'there', 'much', 'matter'], ['wife', 'anxious', 'around', 'way', 'evening'], ['might', 'take', 'look'], ['doctor', 'happy', 'lion', 'leopard'], ['antelope', 'giraffe', 'zebrasall', 'animal'], ['forest', 'mountain', 'plainscame', 'help', 'work'], ['many', 'send', 'away'], ['kept', 'cleverest'], ['soon', 'monkey', 'began', 'get', 'better', 'end'], ['week', 'big', 'house', 'full', 'bed', 'half', 'empty', 'end'], ['second', 'week', 'last', 'monkey', 'got', 'well'], ['doctor', 'work', 'done', 'tired', 'went', 'bed'], ['slept', 'three', 'day', 'without', 'even', 'turning'], [], ['ninth', 'chapter'], ['monkey', 'council'], ['cheechee', 'stood', 'outside', 'doctor', 'door', 'keeping', 'everybody', 'away'], ['till', 'woke', 'john', 'dolittle', 'told', 'monkey', 'must'], ['go', 'back', 'puddleby'], ['surprised', 'thought', 'going'], ['stay', 'forever', 'night', 'monkey', 'got', 'together'], ['jungle', 'talk'], ['chief', 'chimpanzee', 'rose', 'said'], ['good', 'man', 'going', 'away', 'happy', 'u'], ['none', 'could', 'answer'], ['grand', 'gorilla', 'got', 'said'], ['think', 'go', 'ask', 'stay', 'perhaps', 'make'], ['new', 'house', 'bigger', 'bed', 'promise', 'plenty', 'monkeyservants', 'work', 'make', 'life', 'pleasant', 'himperhaps'], ['wish', 'go'], ['cheechee', 'got', 'others', 'whispered', 'sh', 'look', 'cheechee', 'great', 'traveler', 'speak'], ['cheechee', 'said', 'monkey'], ['friend', 'afraid', 'useless', 'ask', 'doctor', 'stay', 'owes'], ['money', 'puddleby', 'say', 'must', 'go', 'back', 'pay'], ['monkey', 'asked', 'money'], ['cheechee', 'told', 'land', 'white', 'men', 'could'], ['get', 'nothing', 'without', 'money', 'could', 'nothing', 'without', 'money'], ['almost', 'impossible', 'live', 'without', 'money'], ['asked', 'even', 'eat', 'drink', 'without'], ['paying'], ['cheechee', 'shook', 'head', 'told', 'even'], ['organgrinder', 'made', 'ask', 'child'], ['money'], [], ['chief', 'chimpanzee', 'turned', 'oldest', 'orangoutang', 'said'], ['cousin', 'surely', 'men', 'strange', 'creature', 'would', 'wish', 'live'], ['land', 'gracious', 'paltry'], ['cheechee', 'said'], ['coming', 'boat', 'cross', 'sea'], ['money', 'buy', 'food', 'eat', 'journey', 'man', 'lent', 'u', 'biscuit'], ['said', 'would', 'pay', 'came', 'back', 'borrowed'], ['boat', 'sailor', 'broken', 'rock', 'reached'], ['shore', 'africa', 'doctor', 'say', 'must', 'go', 'back', 'get', 'sailor'], ['another', 'boatbecause', 'man', 'poor', 'ship'], ['monkey', 'silent', 'sitting', 'quite', 'still', 'upon'], ['ground', 'thinking', 'hard'], ['last', 'biggest', 'baboon', 'got', 'said'], ['think', 'ought', 'let', 'good', 'man', 'leave', 'land', 'till'], ['given', 'fine', 'present', 'take', 'may', 'know'], ['grateful', 'done', 'u'], ['little', 'tiny', 'red', 'monkey', 'sitting', 'tree', 'shouted'], ['think'], ['cried', 'making', 'great', 'noise', 'yes', 'yes', 'let', 'u', 'give'], ['finest', 'present', 'white', 'man', 'ever'], ['began', 'wonder', 'ask', 'one', 'another', 'would', 'best'], ['thing', 'give', 'one', 'said', 'fifty', 'bag', 'cocoanut'], ['anothera', 'hundred', 'bunch', 'banana', 'least', 'shall'], ['buy', 'fruit', 'land', 'pay', 'eat'], ['cheechee', 'told', 'thing', 'would', 'heavy'], ['carry', 'far', 'would', 'go', 'bad', 'half', 'eaten'], ['want', 'please', 'said', 'give', 'animal', 'may'], ['sure', 'kind', 'give', 'rare', 'animal', 'got'], ['menagerie'], ['monkey', 'asked', 'menagerie'], [], ['cheechee', 'explained', 'menagerie', 'place'], ['land', 'white', 'men', 'animal', 'put', 'cage', 'people'], ['come', 'look', 'monkey', 'shocked', 'said', 'one'], ['another'], ['men', 'like', 'thoughtless', 'young', 'onesstupid', 'easily', 'amused'], ['sh', 'prison', 'mean'], ['asked', 'cheechee', 'rare', 'animal', 'could'], ['give', 'doctorone', 'white', 'men', 'seen'], ['major', 'marmosettes', 'asked'], ['iguana'], ['cheechee', 'said', 'yes', 'one', 'london', 'zoo'], ['another', 'asked', 'okapi'], ['cheechee', 'said', 'yes', 'belgium', 'organgrinder', 'took'], ['five', 'year', 'ago', 'okapi', 'big', 'city', 'call', 'antwerp'], ['another', 'asked', 'pushmipullyu'], ['cheechee', 'said', 'white', 'man', 'ever', 'seen', 'pushmipullyu', 'let', 'u', 'give'], [], ['tenth', 'chapter'], ['rarest', 'animal'], ['pushmipullyus', 'extinct', 'mean', 'arent'], ['long', 'ago', 'doctor', 'dolittle', 'alive'], ['still', 'left', 'deepest', 'jungle', 'africa', 'even'], ['scarce', 'tail', 'head', 'end', 'sharp', 'horn'], ['head', 'shy', 'terribly', 'hard', 'catch', 'black', 'men'], ['get', 'animal', 'sneaking', 'behind'], ['looking', 'could', 'pushmipullyubecause'], ['matter', 'way', 'came', 'towards', 'always', 'facing'], ['besides', 'one', 'half', 'slept', 'time', 'head'], ['always', 'awakeand', 'watching', 'never', 'caught'], ['never', 'seen', 'zoo', 'though', 'many', 'greatest', 'huntsman'], ['cleverest', 'menageriekeepers', 'spent', 'year', 'life', 'searching'], ['jungle', 'weather', 'pushmipullyus', 'single', 'one', 'ever'], ['caught', 'even', 'year', 'ago', 'animal', 'world'], ['two', 'head'], ['well', 'monkey', 'set', 'hunting', 'animal', 'forest'], ['gone', 'good', 'many', 'mile', 'one', 'found', 'peculiar'], ['footprint', 'near', 'edge', 'river', 'knew', 'pushmipullyu'], ['must', 'near', 'spot'], ['went', 'along', 'bank', 'river', 'little', 'way', 'saw'], ['place', 'grass', 'high', 'thick', 'guessed'], [], ['joined', 'hand', 'made', 'great', 'circle', 'round', 'high', 'grass'], ['pushmipullyu', 'heard', 'coming', 'tried', 'hard', 'break'], ['ring', 'monkey', 'couldnt', 'saw'], ['use', 'trying', 'escape', 'sat', 'waited', 'see'], ['wanted'], ['asked', 'would', 'go', 'doctor', 'dolittle', 'put', 'show'], ['land', 'white', 'men'], ['shook', 'head', 'hard', 'said', 'certainly'], [], ['explained', 'would', 'shut', 'menagerie'], ['would', 'looked', 'told', 'doctor', 'kind'], ['man', 'hadnt', 'money', 'people', 'would', 'pay', 'see', 'twoheaded'], ['animal', 'doctor', 'would', 'get', 'rich', 'could', 'pay', 'boat'], ['borrowed', 'come', 'africa'], ['answered', 'know', 'shy', 'ami', 'hate', 'stared'], ['almost', 'began', 'cry'], ['three', 'day', 'tried', 'persuade'], ['end', 'third', 'day', 'said', 'would', 'come'], ['see', 'kind', 'man', 'doctor', 'first'], ['monkey', 'traveled', 'back', 'pushmipullyu'], ['came', 'doctor', 'little', 'house', 'grass', 'knocked'], ['door'], ['duck', 'packing', 'trunk', 'said', 'come'], ['cheechee', 'proudly', 'took', 'animal', 'inside', 'showed'], ['doctor'], ['world', 'asked', 'john', 'dolittle', 'gazing', 'strange'], ['creature'], ['lord', 'save', 'u', 'cried', 'duck', 'make', 'mind'], ['doesnt', 'look', 'though', 'said', 'jip', 'dog'], ['doctor', 'said', 'cheechee', 'pushmipullyuthe', 'rarest', 'animal'], ['african', 'jungle', 'twoheaded', 'beast', 'world', 'take'], ['home', 'fortune', 'made', 'people', 'pay', 'money'], ['see'], ['dont', 'want', 'money', 'said', 'doctor'], ['yes', 'said', 'dabdab', 'duck', 'dont', 'remember'], ['pinch', 'scrape', 'pay', 'butcher', 'bill', 'puddleby'], ['going', 'get', 'sailor', 'new', 'boat', 'spoke', 'ofunless'], ['money', 'buy'], ['going', 'make', 'one', 'said', 'doctor'], [], ['oh', 'sensible', 'cried', 'dabdab', 'would', 'get', 'wood'], ['nail', 'make', 'one', 'withand', 'besides', 'going', 'live'], ['shall', 'poorer', 'ever', 'get', 'back', 'cheechees'], ['perfectly', 'right', 'take', 'funnylooking', 'thing', 'along'], ['well', 'perhaps', 'something', 'say', 'murmured'], ['doctor', 'certainly', 'would', 'make', 'nice', 'new', 'kind', 'pet'], ['erwhatdoyoucallit', 'really', 'want', 'go', 'abroad'], ['yes', 'ill', 'go', 'said', 'pushmipullyu', 'saw', 'doctor'], ['face', 'man', 'trusted', 'kind'], ['animal', 'hereand', 'monkey', 'tell', 'one'], ['must', 'promise', 'like', 'land'], ['white', 'men', 'send', 'back'], ['certainlyof', 'course', 'course', 'said', 'doctor', 'excuse'], ['surely', 'related', 'deer', 'family'], ['yes', 'said', 'pushmipullyuto', 'abyssinian', 'gazelle'], ['asiatic', 'chamoison', 'mother', 'side', 'father', 'greatgrandfather'], ['last', 'unicorn'], ['interesting', 'murmured', 'doctor', 'took', 'book'], ['trunk', 'dabdab', 'packing', 'began', 'turning', 'page', 'let', 'u'], ['see', 'buffon', 'say', 'anything'], ['notice', 'said', 'duck', 'talk', 'one', 'mouth'], ['cant', 'head', 'talk', 'well'], ['oh', 'yes', 'said', 'pushmipullyu', 'keep', 'mouth'], ['eatingmostly', 'way', 'talk', 'eating', 'without'], ['rude', 'people', 'always', 'polite'], ['packing', 'finished', 'everything', 'ready', 'start'], ['monkey', 'gave', 'grand', 'party', 'doctor', 'animal'], ['jungle', 'came', 'pineapple', 'mango', 'honey'], ['sort', 'good', 'thing', 'eat', 'drink'], ['finished', 'eating', 'doctor', 'got', 'said'], ['friend', 'clever', 'speaking', 'long', 'word', 'dinner', 'like'], ['men', 'eaten', 'many', 'fruit', 'much', 'honey', 'wish'], [], ['tell', 'sad', 'leaving', 'beautiful', 'country'], ['thing', 'land', 'white', 'men', 'must', 'go'], ['gone', 'remember', 'never', 'let', 'fly', 'settle', 'food', 'eat'], ['sleep', 'ground', 'rain', 'coming', 'ier'], ['eri', 'hope', 'live', 'happily', 'ever'], ['doctor', 'stopped', 'speaking', 'sat', 'monkey'], ['clapped', 'hand', 'long', 'time', 'said', 'one', 'another', 'let'], ['remembered', 'always', 'among', 'people', 'sat', 'ate', 'u'], ['tree', 'surely', 'greatest', 'men'], ['grand', 'gorilla', 'strength', 'seven', 'horse'], ['hairy', 'arm', 'rolled', 'great', 'rock', 'head', 'table', 'said'], ['stone', 'time', 'shall', 'mark', 'spot'], ['even', 'day', 'heart', 'jungle', 'stone', 'still'], ['monkeymothers', 'passing', 'forest', 'family'], ['still', 'point', 'branch', 'whisper', 'child'], ['sh', 'islookwhere', 'good', 'white', 'man', 'sat', 'ate', 'food'], ['u', 'year', 'great', 'sickness'], ['party', 'doctor', 'pet', 'started', 'go'], ['back', 'seashore', 'monkey', 'went', 'far'], ['edge', 'country', 'carrying', 'trunk', 'bag', 'see'], [], ['eleventh', 'chapter'], ['black', 'prince'], ['edge', 'river', 'stopped', 'said', 'farewell'], ['took', 'long', 'time', 'thousand', 'monkey', 'wanted'], ['shake', 'john', 'dolittle', 'hand'], ['afterwards', 'doctor', 'pet', 'going', 'alone'], ['polynesia', 'said'], ['must', 'tread', 'softly', 'talk', 'low', 'go', 'land'], ['jolliginki', 'king', 'hear', 'u', 'send', 'soldier', 'catch', 'u'], ['sure', 'still', 'angry', 'trick', 'played'], ['wondering', 'said', 'doctor', 'going', 'get'], ['another', 'boat', 'go', 'home', 'oh', 'well', 'perhaps', 'well', 'find', 'one', 'lying'], ['beach', 'nobody', 'using', 'never', 'lift', 'foot', 'till'], ['come', 'stile'], ['one', 'day', 'passing', 'thick', 'part', 'forest'], ['cheechee', 'went', 'ahead', 'look', 'cocoanut'], ['away', 'doctor', 'rest', 'animal', 'know'], ['junglepaths', 'well', 'got', 'lost', 'deep', 'wood', 'wandered', 'around'], ['around', 'could', 'find', 'way', 'seashore'], ['cheechee', 'could', 'see', 'anywhere', 'terribly', 'upset'], ['climbed', 'high', 'tree', 'looked', 'top', 'branch', 'try'], ['see', 'doctor', 'high', 'hat', 'waved', 'shouted', 'called'], ['animal', 'name', 'use', 'seemed', 'disappeared'], ['altogether'], ['indeed', 'lost', 'way', 'badly', 'strayed', 'long', 'way'], ['path', 'jungle', 'thick', 'bush', 'creeper'], ['vine', 'sometimes', 'could', 'hardly', 'move', 'doctor'], ['take', 'pocketknife', 'cut', 'way', 'along', 'stumbled'], ['wet', 'boggy', 'place', 'got', 'tangled', 'thick', 'convolvulusrunners'], ['scratched', 'thorn', 'twice', 'nearly', 'lost'], ['medicinebag', 'underbrush', 'seemed', 'end', 'trouble'], ['nowhere', 'could', 'come', 'upon', 'path'], [], ['last', 'blundering', 'like', 'many', 'day', 'getting'], ['clothes', 'torn', 'face', 'covered', 'mud', 'walked', 'right'], ['king', 'backgarden', 'mistake', 'king', 'men', 'came', 'running'], ['caught'], ['polynesia', 'flew', 'tree', 'garden', 'without', 'anybody', 'seeing'], ['hid', 'doctor', 'rest', 'taken', 'king'], ['ha', 'ha', 'cried', 'king', 'caught', 'time', 'shall'], ['escape', 'take', 'back', 'prison', 'put', 'double', 'lock'], ['door', 'white', 'man', 'shall', 'scrub', 'kitchenfloor', 'rest'], ['life'], ['doctor', 'pet', 'led', 'back', 'prison', 'locked'], ['doctor', 'told', 'morning', 'must', 'begin', 'scrubbing'], ['kitchenfloor'], ['unhappy'], ['great', 'nuisance', 'said', 'doctor', 'really', 'must', 'get', 'back'], ['puddleby', 'poor', 'sailor', 'think', 'ive', 'stolen', 'ship', 'dont', 'get'], ['home', 'soon', 'wonder', 'hinge', 'loose'], ['door', 'strong', 'firmly', 'locked', 'seemed'], ['chance', 'getting', 'gubgub', 'began', 'cry'], ['time', 'polynesia', 'still', 'sitting', 'tree', 'palacegarden'], ['saying', 'nothing', 'blinking', 'eye'], ['always', 'bad', 'sign', 'polynesia', 'whenever', 'said'], ['nothing', 'blinked', 'eye', 'meant', 'somebody', 'making'], ['trouble', 'thinking', 'way', 'put', 'thing', 'right', 'people'], ['made', 'trouble', 'polynesia', 'friend', 'nearly', 'always', 'sorry'], ['afterwards'], ['presently', 'spied', 'cheechee', 'swinging', 'tree', 'still', 'looking'], ['doctor', 'cheechee', 'saw', 'came', 'tree'], ['asked', 'become'], ['doctor', 'animal', 'caught', 'king', 'men'], ['locked', 'whispered', 'polynesia', 'lost', 'way', 'jungle'], ['blundered', 'palacegarden', 'mistake'], [], ['couldnt', 'guide', 'asked', 'cheechee', 'began', 'scold'], ['parrot', 'letting', 'get', 'lost', 'away', 'looking'], ['cocoanut'], ['stupid', 'pig', 'fault', 'said', 'polynesia', 'would', 'keep'], ['running', 'path', 'hunting', 'gingerroot', 'kept', 'busy'], ['catching', 'bringing', 'back', 'turned', 'left', 'instead'], ['right', 'reached', 'swampshlook', 'there', 'prince'], ['bumpo', 'coming', 'garden', 'must', 'see', 'usdont', 'move'], ['whatever'], ['sure', 'enough', 'prince', 'bumpo', 'king', 'son', 'opening'], ['gardengate', 'carried', 'book', 'fairytale', 'arm', 'came'], ['strolling', 'gravelwalk', 'humming', 'sad', 'song', 'till', 'reached'], ['stone', 'seat', 'right', 'tree', 'parrot', 'monkey'], ['hiding', 'lay', 'seat', 'began', 'reading', 'fairystories'], [], ['cheechee', 'polynesia', 'watched', 'keeping', 'quiet', 'still'], ['king', 'son', 'laid', 'book', 'sighed', 'weary'], ['sigh'], ['white', 'prince', 'said', 'dreamy', 'faraway', 'look'], ['eye'], ['parrot', 'talking', 'small', 'high', 'voice', 'like', 'little', 'girl', 'said', 'aloud'], ['bumpo', 'one', 'might', 'turn', 'thee', 'white', 'prince', 'perchance'], ['king', 'son', 'started', 'seat', 'looked', 'around'], ['hear', 'cried', 'methought', 'sweet', 'music', 'fairy'], ['silver', 'voice', 'rang', 'yonder', 'bower', 'strange'], ['worthy', 'prince', 'said', 'polynesia', 'keeping', 'still', 'bumpo', 'couldnt'], ['see', 'thou', 'sayest', 'winged', 'word', 'truth', 'ti', 'tripsitinka'], ['queen', 'fairy', 'speak', 'thee', 'hiding', 'rosebud'], ['oh', 'tell', 'fairyqueen', 'cried', 'bumpo', 'clasping', 'hand', 'joy'], ['turn', 'white'], [], ['thy', 'father', 'prison', 'said', 'parrot', 'lie', 'famous', 'wizard', 'john'], ['dolittle', 'name', 'many', 'thing', 'know', 'medicine', 'magic'], ['mighty', 'deed', 'performed', 'yet', 'thy', 'kingly', 'father', 'leaf'], ['languishing', 'long', 'lingering', 'hour', 'go', 'brave', 'bumpo', 'secretly'], ['sun', 'set', 'behold', 'thou', 'shalt', 'made', 'whitest', 'prince'], ['ever', 'fair', 'lady', 'said', 'enough', 'must', 'go', 'back'], ['fairyland', 'farewell'], ['farewell', 'cried', 'prince', 'thousand', 'thanks', 'good', 'tripsitinka'], ['sat', 'seat', 'smile', 'upon', 'face', 'waiting'], ['sun', 'set'], [], ['twelfth', 'chapter'], ['medicine', 'magic'], ['quietly', 'making', 'sure', 'one', 'see', 'polynesia'], ['slipped', 'back', 'tree', 'flew', 'across', 'prison'], ['found', 'gubgub', 'poking', 'nose', 'bar', 'window'], ['trying', 'sniff', 'cookingsmells', 'came', 'palacekitchen'], ['told', 'pig', 'bring', 'doctor', 'window', 'wanted'], ['speak', 'gubgub', 'went', 'woke', 'doctor', 'taking'], ['nap'], ['listen', 'whispered', 'parrot', 'john', 'dolittles', 'face', 'appeared'], ['prince', 'bumpo', 'coming', 'tonight', 'see', 'youve', 'got'], ['find', 'way', 'turn', 'white', 'sure', 'make', 'promise'], ['first', 'open', 'prisondoor', 'find', 'ship', 'cross'], ['sea'], ['well', 'said', 'doctor', 'isnt', 'easy', 'turn', 'black'], ['man', 'white', 'speak', 'though', 'dress', 'redyed'], ['simple', 'shall', 'leopard', 'change', 'spot', 'ethiopian', 'skin'], ['know'], ['dont', 'know', 'anything', 'said', 'polynesia', 'impatiently'], ['must', 'turn', 'man', 'white', 'think', 'waythink', 'hard', 'youve', 'got'], ['plenty', 'medicine', 'left', 'bag', 'hell', 'anything'], ['change', 'color', 'chance', 'get', 'prison'], ['well', 'suppose', 'might', 'possible', 'said', 'doctor', 'let', 'see'], ['went', 'medicinebag', 'murmuring', 'something'], ['liberated', 'chlorine', 'animalpigmentperhaps', 'zincointment'], ['temporary', 'measure', 'spread', 'thick'], ['well', 'night', 'prince', 'bumpo', 'came', 'secretly', 'doctor', 'prison'], ['said'], ['white', 'man', 'unhappy', 'prince', 'year', 'ago', 'went', 'search'], ['sleeping', 'beauty', 'read', 'book', 'traveled'], ['world', 'many', 'day', 'last', 'found', 'kissed', 'lady'], ['gently', 'awaken', 'hera', 'book', 'said', 'ti', 'true', 'indeed'], [], ['awoke', 'saw', 'face', 'cried', 'oh', 'he', 'black'], ['ran', 'away', 'wouldnt', 'marry', 'mebut', 'went', 'sleep'], ['somewhere', 'else', 'came', 'back', 'full', 'sadness', 'father', 'kingdom'], ['hear', 'wonderful', 'magician', 'many', 'powerful'], ['potion', 'come', 'help', 'turn', 'white'], ['may', 'go', 'back', 'sleeping', 'beauty', 'give', 'half', 'kingdom'], ['anything', 'besides', 'ask'], ['prince', 'bumpo', 'said', 'doctor', 'looking', 'thoughtfully', 'bottle'], ['medicinebag', 'supposing', 'made', 'hair', 'nice', 'blonde', 'color'], ['would', 'instead', 'make', 'happy'], ['said', 'bumpo', 'nothing', 'else', 'satisfy', 'must', 'white'], ['prince'], ['know', 'hard', 'change', 'color', 'prince', 'said'], ['doctorone', 'hardest', 'thing', 'magician', 'want'], ['face', 'white'], ['yes', 'said', 'bumpo', 'shall', 'wear', 'shining', 'armor'], ['gauntlet', 'steel', 'like', 'white', 'prince', 'ride', 'horse'], ['must', 'face', 'white', 'asked', 'doctor'], ['yes', 'said', 'bumpoand', 'would', 'like', 'eye', 'blue'], ['suppose', 'would', 'hard'], ['yes', 'would', 'said', 'doctor', 'quickly', 'well'], ['patient', 'thoughyou', 'know'], ['medicine', 'never', 'sure', 'might', 'try', 'two', 'three'], ['time', 'strong', 'skinyes', 'well', 'thats', 'right', 'come'], ['lightoh', 'anything', 'must', 'first', 'go'], ['beach', 'get', 'ship', 'ready', 'food', 'take', 'across'], ['sea', 'speak', 'word', 'one', 'done'], ['ask', 'must', 'let', 'animal', 'prison', 'promiseby'], ['crown', 'jolliginki'], ['prince', 'promised', 'went', 'away', 'get', 'ship', 'ready'], ['seashore'], [], ['came', 'back', 'said', 'done', 'doctor', 'asked', 'dabdab', 'bring', 'basin', 'mixed', 'lot', 'medicine', 'basin'], ['told', 'bumpo', 'dip', 'face'], ['prince', 'leaned', 'put', 'face', 'inright', 'ear'], ['held', 'long', 'timeso', 'long', 'doctor', 'seemed', 'get'], ['dreadfully', 'anxious', 'fidgety', 'standing', 'first', 'one', 'leg'], ['looking', 'bottle', 'used', 'mixture', 'reading'], ['label', 'strong', 'smell', 'filled', 'prison', 'like'], ['smell', 'brown', 'paper', 'burning'], ['last', 'prince', 'lifted', 'face', 'basin', 'breathing', 'hard'], ['animal', 'cried', 'surprise'], ['prince', 'face', 'turned', 'white', 'snow', 'eye'], ['mudcolored', 'manly', 'gray'], ['john', 'dolittle', 'lent', 'little', 'lookingglass', 'see'], ['sang', 'joy', 'began', 'dancing', 'around', 'prison', 'doctor', 'asked'], ['make', 'much', 'noise', 'closed'], ['medicinebag', 'hurry', 'told', 'open', 'prisondoor'], ['bumpo', 'begged', 'might', 'keep', 'lookingglass'], ['one', 'kingdom', 'jolliginki', 'wanted', 'look'], ['day', 'long', 'doctor', 'said', 'needed', 'shave'], ['prince', 'taking', 'bunch', 'copper', 'key', 'pocket', 'undid'], ['great', 'double', 'lock', 'doctor', 'animal', 'ran', 'fast'], ['could', 'seashore', 'bumpo', 'leaned', 'wall'], ['empty', 'dungeon', 'smiling', 'happily', 'big', 'face', 'shining'], ['like', 'polished', 'ivory', 'light', 'moon'], ['came', 'beach', 'saw', 'polynesia', 'cheechee'], ['waiting', 'rock', 'near', 'ship'], ['feel', 'sorry', 'bumpo', 'said', 'doctor'], ['afraid', 'medicine', 'used', 'never', 'last', 'likely'], ['black', 'ever', 'wake', 'morningthats', 'one', 'reason'], ['didnt', 'like', 'leave', 'mirror', 'might', 'stay'], ['whitei', 'never', 'used', 'mixture', 'tell', 'truth'], [], ['surprised', 'worked', 'well', 'something'], ['didnt', 'ii', 'couldnt', 'possibly', 'scrub', 'king', 'kitchen', 'rest'], ['life', 'dirty', 'kitcheni', 'could', 'see', 'prisonwindowwell', 'wellpoor', 'bumpo'], ['oh', 'course', 'know', 'joking', 'said'], ['parrot'], ['business', 'lock', 'u', 'said', 'dabdab', 'waggling', 'tail'], ['angrily', 'never', 'harm', 'serve', 'right', 'turn'], ['black', 'hope', 'dark', 'black'], ['didnt', 'anything', 'said', 'doctor'], ['king', 'father', 'u', 'locked', 'upit', 'wasnt', 'bumpos', 'fault'], ['wonder', 'ought', 'go', 'back', 'apologizeoh', 'wellill', 'send'], ['candy', 'get', 'puddleby', 'knowshe', 'may', 'stay'], ['white'], ['sleeping', 'beauty', 'would', 'never', 'even', 'said', 'dabdab', 'looked', 'better', 'way', 'thought', 'hed', 'never'], ['anything', 'ugly', 'matter', 'color', 'made'], ['still', 'good', 'heart', 'said', 'doctorromantic', 'coursebut'], ['good', 'heart', 'handsome', 'handsome'], ['dont', 'believe', 'poor', 'booby', 'found', 'sleeping', 'beauty', 'said'], ['jip', 'dog', 'likely', 'kissed', 'farmer', 'fat', 'wife'], ['taking', 'snooze', 'appletree', 'cant', 'blame', 'getting', 'scared'], ['wonder', 'hell', 'go', 'kiss', 'time', 'silly', 'business'], ['pushmipullyu', 'white', 'mouse', 'gubgub', 'dabdab', 'jip'], ['owl', 'tootoo', 'went', 'ship', 'doctor', 'cheechee'], ['polynesia', 'crocodile', 'stayed', 'behind', 'africa'], ['proper', 'home', 'land', 'born'], ['doctor', 'stood', 'upon', 'boat', 'looked', 'side'], ['across', 'water', 'remembered', 'one'], ['guide', 'back', 'puddleby'], [], ['wide', 'wide', 'sea', 'looked', 'terribly', 'big', 'lonesome', 'moonlight'], ['began', 'wonder', 'would', 'lose', 'way', 'passed'], ['sight', 'land'], ['even', 'wondering', 'heard', 'strange', 'whispering'], ['noise', 'high', 'air', 'coming', 'night', 'animal'], ['stopped', 'saying', 'goodby', 'listened'], ['noise', 'grew', 'louder', 'bigger', 'seemed', 'coming', 'nearer'], ['thema', 'sound', 'like', 'autumn', 'wind', 'blowing', 'leaf'], ['poplartree', 'great', 'great', 'rain', 'beating', 'upon', 'roof'], ['jip', 'nose', 'pointing', 'tail', 'quite', 'straight', 'said'], ['birdsmillions', 'themflying', 'fastthats'], ['looked', 'streaming', 'across', 'face'], ['moon', 'like', 'huge', 'swarm', 'tiny', 'ant', 'could', 'see', 'thousand'], ['thousand', 'little', 'bird', 'soon', 'whole', 'sky', 'seemed', 'full'], ['still', 'kept', 'comingmore', 'many'], ['little', 'covered', 'whole', 'moon', 'could', 'shine', 'sea'], ['grew', 'dark', 'blacklike', 'stormcloud', 'pass', 'sun'], ['presently', 'bird', 'came', 'close', 'skimming', 'water'], ['land', 'nightsky', 'left', 'clear', 'moon'], ['shone', 'still', 'never', 'call', 'cry', 'song', 'madeno'], ['sound', 'great', 'rustling', 'feather', 'grew', 'greater'], ['ever', 'began', 'settle', 'sand', 'along', 'rope'], ['shipanywhere', 'everywhere', 'except', 'treesthe', 'doctor', 'could', 'see'], ['blue', 'wing', 'white', 'breast', 'short', 'feathered'], ['leg', 'soon', 'found', 'place', 'sit', 'suddenly'], ['noise', 'left', 'anywhereall', 'quiet', 'still'], ['silent', 'moonlight', 'john', 'dolittle', 'spoke'], ['idea', 'africa', 'long', 'nearly'], ['summer', 'get', 'home', 'swallow', 'going', 'back'], ['swallow', 'thank', 'waiting', 'u', 'thoughtful'], ['need', 'afraid', 'lose', 'way', 'upon', 'sea'], ['pull', 'anchor', 'set', 'sail'], [], ['ship', 'moved', 'upon', 'water', 'stayed', 'behind'], ['cheechee', 'polynesia', 'crocodile', 'grew', 'terribly', 'sad', 'never'], ['life', 'known', 'one', 'liked', 'well', 'doctor', 'john'], ['dolittle', 'puddlebyonthemarsh'], ['called', 'goodby'], ['still', 'stood', 'upon', 'rock', 'cry', 'bitterly', 'waving', 'till'], ['ship', 'sight'], [], ['thirteenth', 'chapter'], ['red', 'sail', 'blue', 'wing'], ['sailing', 'homeward', 'doctor', 'ship', 'pas', 'coast', 'barbary'], ['coast', 'seashore', 'great', 'desert', 'wild', 'lonely', 'place'], ['sand', 'stone', 'barbary', 'pirate', 'lived'], ['pirate', 'bad', 'lot', 'men', 'used', 'wait', 'sailor'], ['shipwrecked', 'shore', 'often', 'saw', 'boat', 'passing'], ['would', 'come', 'fast', 'sailingships', 'chase'], ['caught', 'boat', 'like', 'sea', 'would', 'steal', 'everything'], ['taken', 'people', 'would', 'sink', 'ship', 'sail', 'back'], ['barbary', 'singing', 'song', 'feeling', 'proud', 'mischief', 'done'], ['used', 'make', 'people', 'caught', 'write', 'home'], ['friend', 'money', 'friend', 'sent', 'money', 'pirate', 'often'], ['threw', 'people', 'sea'], ['one', 'sunshiny', 'day', 'doctor', 'dabdab', 'walking'], ['ship', 'exercise', 'nice', 'fresh', 'wind', 'blowing', 'boat'], ['along', 'everybody', 'happy', 'presently', 'dabdab', 'saw', 'sail'], ['another', 'ship', 'long', 'way', 'behind', 'edge', 'sea', 'red'], ['sail'], ['dont', 'like', 'look', 'sail', 'said', 'dabdab', 'feeling', 'isnt'], ['friendly', 'ship', 'afraid', 'trouble', 'coming', 'u'], ['jip', 'lying', 'near', 'taking', 'nap', 'sun', 'began', 'growl', 'talk'], ['sleep'], ['smell', 'roast', 'beef', 'cooking', 'mumbledunderdone', 'roast', 'beefwith'], ['brown', 'gravy'], ['good', 'gracious', 'cried', 'doctor', 'whats', 'matter', 'dog'], ['smelling', 'sleepas', 'well', 'talking'], ['suppose', 'said', 'dabdab', 'dog', 'smell', 'sleep'], ['smelling', 'asked', 'doctor'], ['roast', 'beef', 'cooking', 'ship', 'said', 'dabdab'], ['roast', 'beef', 'must', 'ship'], [], ['thats', 'ten', 'mile', 'away', 'said', 'doctor', 'couldnt', 'smell', 'far'], ['surely'], ['oh', 'yes', 'could', 'said', 'dabdab', 'ask'], ['jip', 'still', 'fast', 'asleep', 'began', 'growl', 'lip', 'curled'], ['angrily', 'showing', 'clean', 'white', 'teeth'], ['smell', 'bad', 'men', 'growledthe', 'worst', 'men', 'ever', 'smelt', 'smell'], ['trouble', 'smell', 'fightsix', 'bad', 'scoundrel', 'fighting', 'one', 'brave'], ['man', 'want', 'help', 'woofoowoof', 'barked', 'loud'], ['woke', 'surprised', 'look', 'face'], ['see', 'cried', 'dabdab', 'boat', 'nearer', 'count', 'three'], ['big', 'sailsall', 'red', 'whoever', 'coming', 'u', 'wonder'], [], ['bad', 'sailor', 'said', 'jip', 'ship', 'swift'], ['surely', 'pirate', 'barbary'], ['well', 'must', 'put', 'sail', 'boat', 'said', 'doctor'], ['go', 'faster', 'get', 'away', 'run', 'downstairs', 'jip', 'fetch'], ['sail', 'see'], ['dog', 'hurried', 'downstairs', 'dragged', 'every', 'sail', 'could', 'find'], ['even', 'put', 'mast', 'catch', 'wind'], ['boat', 'go', 'nearly', 'fast', 'pirateswhich', 'kept', 'coming'], ['behind', 'closer', 'closer'], ['poor', 'ship', 'prince', 'gave', 'u', 'said', 'gubgub', 'pigthe'], ['slowest', 'could', 'find', 'think', 'might', 'well', 'try', 'win', 'race'], ['souptureen', 'hope', 'get', 'away', 'old', 'barge', 'look'], ['near', 'see', 'mustache', 'face'], ['mensix', 'going'], ['doctor', 'asked', 'dabdab', 'fly', 'tell', 'swallow'], ['pirate', 'coming', 'swift', 'ship'], [], ['swallow', 'heard', 'came', 'doctor'], ['ship', 'told', 'unravel', 'piece', 'long', 'rope', 'make'], [], ['lot', 'thin', 'string', 'quickly', 'could', 'end'], ['string', 'tied', 'front', 'ship', 'swallow', 'took'], ['hold', 'string', 'foot', 'flew', 'pulling', 'boat', 'along'], ['although', 'swallow', 'strong', 'one', 'two'], ['different', 'great', 'lot', 'together'], ['tied', 'doctor', 'ship', 'thousand', 'string', 'two'], ['thousand', 'swallow', 'pulling', 'stringall', 'terribly', 'swift', 'flier'], ['moment', 'doctor', 'found', 'traveling', 'fast'], ['hold', 'hat', 'hand', 'felt', 'though', 'ship'], ['flying', 'wave', 'frothed', 'boiled', 'speed'], ['animal', 'ship', 'began', 'laugh', 'dance'], ['rushing', 'air', 'looked', 'back', 'pirate', 'ship', 'could'], ['see', 'growing', 'smaller', 'instead', 'bigger', 'red', 'sail'], ['left', 'far', 'far', 'behind'], [], ['fourteenth', 'chapter'], ['rat', 'warning'], ['dragging', 'ship', 'sea', 'hard', 'work', 'two', 'three'], ['hour', 'swallow', 'began', 'get', 'tired', 'wing', 'short', 'breath'], ['sent', 'message', 'doctor', 'say', 'would'], ['take', 'rest', 'soon', 'would', 'pull', 'boat'], ['island', 'far', 'hide', 'deep', 'bay', 'till', 'got', 'breath'], ['enough', 'go'], ['presently', 'doctor', 'saw', 'island', 'spoken'], ['beautiful', 'high', 'green', 'mountain', 'middle'], ['ship', 'sailed', 'safely', 'bay', 'could', 'seen'], ['open', 'sea', 'doctor', 'said', 'would', 'get', 'island'], ['look', 'waterbecause', 'none', 'left', 'drink', 'ship'], ['told', 'animal', 'get', 'romp', 'grass', 'stretch'], ['leg'], ['getting', 'doctor', 'noticed', 'whole', 'lot', 'rat'], ['coming', 'downstairs', 'leaving', 'ship', 'well', 'jip'], ['started', 'run', 'chasing', 'rat', 'always'], ['favorite', 'game', 'doctor', 'told', 'stop'], ['one', 'big', 'black', 'rat', 'seemed', 'want', 'say', 'something'], ['doctor', 'crept', 'forward', 'timidly', 'along', 'rail', 'watching', 'dog'], ['corner', 'eye', 'coughed', 'nervously', 'two'], ['three', 'time', 'cleaned', 'whisker', 'wiped', 'mouth', 'said'], ['ahemeryou', 'know', 'course', 'ship', 'rat'], ['doctor'], ['doctor', 'said', 'yes'], ['heard', 'rat', 'always', 'leave', 'sinking', 'ship'], ['yes', 'said', 'doctorso', 'ive', 'told'], ['people', 'said', 'rat', 'always', 'speak', 'sneeras', 'though'], ['something', 'disgraceful', 'cant', 'blame', 'u'], ['would', 'stay', 'sinking', 'ship', 'could', 'get'], [], ['natural', 'said', 'doctorvery', 'natural', 'quite', 'understand'], ['anything', 'else', 'wished', 'say'], ['yes', 'said', 'rat', 'ive', 'come', 'tell', 'leaving', 'one'], ['wanted', 'warn', 'go', 'bad', 'ship'], ['isnt', 'safe', 'side', 'arent', 'strong', 'enough', 'board', 'rotten'], ['tomorrow', 'night', 'sink', 'bottom', 'sea'], ['know', 'asked', 'doctor'], ['always', 'know', 'answered', 'rat', 'tip', 'tail', 'get', 'tingly'], ['feelinglike', 'foot', 'asleep', 'morning', 'six', 'oclock'], ['getting', 'breakfast', 'tail', 'suddenly', 'began', 'tingle', 'first'], ['thought', 'rheumatism', 'coming', 'back', 'went', 'asked'], ['aunt', 'feltyou', 'remember', 'herthe', 'long', 'piebald', 'rat', 'rather'], ['skinny', 'came', 'see', 'puddleby', 'last', 'spring', 'jaundice'], ['welland', 'said', 'tail', 'tingling', 'like', 'everything'], ['knew', 'sure', 'boat', 'going', 'sink', 'le', 'two', 'day'], ['made', 'mind', 'leave', 'soon', 'got', 'near', 'enough'], ['land', 'bad', 'ship', 'doctor', 'dont', 'sail', 'youll'], ['surely', 'drowned', 'goodby', 'going', 'look', 'good', 'place'], ['live', 'island'], ['goodby', 'said', 'doctor', 'thank', 'much', 'coming'], ['tell', 'considerate', 'youvery', 'give', 'regard', 'aunt'], ['remember', 'perfectly', 'leave', 'rat', 'alone', 'jip', 'come', 'lie'], [], ['doctor', 'animal', 'went', 'carrying', 'pail'], ['saucepan', 'look', 'water', 'island', 'swallow', 'took'], ['rest'], ['wonder', 'name', 'island', 'said', 'doctor'], ['climbing', 'mountainside', 'seems', 'pleasant', 'place', 'lot'], ['bird'], ['canary', 'island', 'said', 'dabdab', 'dont', 'hear'], ['canary', 'singing'], ['doctor', 'stopped', 'listened'], [], ['sureof', 'course', 'said', 'stupid', 'wonder'], ['tell', 'u', 'find', 'water'], ['presently', 'canary', 'heard', 'doctor', 'dolittle'], ['bird', 'passage', 'came', 'led', 'beautiful', 'spring', 'cool'], ['clear', 'water', 'canary', 'used', 'take', 'bath', 'showed'], ['lovely', 'meadow', 'birdseed', 'grew', 'sight'], ['island'], ['pushmipullyu', 'glad', 'come', 'liked'], ['green', 'grass', 'much', 'better', 'dried', 'apple', 'eating'], ['ship', 'gubgub', 'squeaked', 'joy', 'found', 'whole', 'valley'], ['full', 'wild', 'sugarcane'], ['little', 'later', 'plenty', 'eat', 'drink'], ['lying', 'back', 'canary', 'sang', 'two'], ['swallow', 'came', 'hurrying', 'flustered', 'excited'], ['doctor', 'cried', 'pirate', 'come', 'bay', 'theyve'], ['got', 'ship', 'downstairs', 'looking', 'thing', 'steal'], ['left', 'ship', 'nobody', 'hurry', 'come'], ['shore', 'get', 'shipwhich', 'fastand'], ['escape', 'youll', 'hurry'], ['thats', 'good', 'idea', 'said', 'doctorsplendid'], ['called', 'animal', 'together', 'said', 'goodby', 'canary'], ['ran', 'beach'], ['reached', 'shore', 'saw', 'pirateship', 'three', 'red'], ['sail', 'standing', 'water', 'andjust', 'swallow', 'saidthere'], ['nobody', 'pirate', 'downstairs', 'doctor', 'ship'], ['looking', 'thing', 'steal'], ['john', 'dolittle', 'told', 'animal', 'walk', 'softly', 'crept'], ['pirateship'], [], ['fifteenth', 'chapter'], ['barbary', 'dragon'], ['everything', 'would', 'gone', 'right', 'pig', 'caught'], ['cold', 'head', 'eating', 'damp', 'sugarcane', 'island'], ['happened'], ['pulled', 'anchor', 'without', 'sound', 'moving'], ['ship', 'carefully', 'bay', 'gubgub', 'suddenly', 'sneezed'], ['loud', 'pirate', 'ship', 'came', 'rushing', 'upstairs', 'see'], ['noise'], ['soon', 'saw', 'doctor', 'escaping', 'sailed'], ['boat', 'right', 'across', 'entrance', 'bay', 'doctor', 'could', 'get'], ['open', 'sea'], ['leader', 'bad', 'men', 'called', 'ben', 'ali'], ['dragon', 'shook', 'fist', 'doctor', 'shouted', 'across', 'water'], ['ha', 'ha', 'caught', 'fine', 'friend', 'going', 'run'], ['ship', 'eh', 'good', 'enough', 'sailor', 'beat', 'ben', 'ali'], ['barbary', 'dragon', 'want', 'duck', 'youve', 'gotand', 'pig', 'well'], ['porkchop', 'roast', 'duck', 'supper', 'tonight', 'let'], ['go', 'home', 'must', 'make', 'friend', 'send', 'trunkfull', 'gold'], ['poor', 'gubgub', 'began', 'weep', 'dabdab', 'made', 'ready', 'fly', 'save'], ['life', 'owl', 'tootoo', 'whispered', 'doctor'], ['keep', 'talking', 'doctor', 'pleasant', 'old', 'ship', 'bound'], ['sink', 'soonthe', 'rat', 'said', 'would', 'bottom', 'sea', 'tomorrow', 'nightand', 'rat', 'never', 'wrong', 'pleasant', 'till', 'ship'], ['sink', 'keep', 'talking'], ['tomorrow', 'night', 'said', 'doctor', 'well', 'ill', 'best'], ['let', 'see', 'shall', 'talk'], ['oh', 'let', 'come', 'said', 'jip', 'fight', 'dirty', 'rascal'], ['six', 'let', 'come', 'id', 'love', 'tell', 'collie', 'next'], ['door', 'get', 'home', 'bitten', 'real', 'pirate', 'let', 'em', 'come'], ['fight'], [], ['pistol', 'sword', 'said', 'doctor', 'would'], ['never', 'must', 'talk', 'look', 'ben', 'ali'], ['doctor', 'could', 'say', 'pirate', 'began', 'sail'], ['ship', 'nearer', 'laughing', 'glee', 'saying', 'one', 'another', 'shall'], ['first', 'catch', 'pig'], ['poor', 'gubgub', 'dreadfully', 'frightened', 'pushmipullyu', 'began'], ['sharpen', 'horn', 'fight', 'rubbing', 'mast', 'ship'], ['jip', 'kept', 'springing', 'air', 'barking', 'calling', 'ben', 'ali', 'bad'], ['name', 'doglanguage'], ['presently', 'something', 'seemed', 'go', 'wrong', 'pirate'], ['stopped', 'laughing', 'cracking', 'joke', 'looked', 'puzzled', 'something'], ['making', 'uneasy'], ['ben', 'ali', 'staring', 'foot', 'suddenly', 'bellowed'], ['thunder', 'lightningmen', 'boat', 'leaking'], ['pirate', 'peered', 'side', 'saw'], ['boat', 'indeed', 'getting', 'lower', 'lower', 'water', 'one'], ['said', 'ben', 'ali'], ['surely', 'old', 'boat', 'sinking', 'see', 'rat', 'leaving'], [], ['jip', 'shouted', 'across', 'ship'], ['great', 'duffer', 'rat', 'leave', 'left', 'two', 'hour'], ['ago', 'ha', 'ha', 'fine', 'friend'], ['course', 'men', 'understand', 'soon', 'front', 'end'], ['ship', 'began', 'go', 'faster', 'fastertill', 'boat', 'looked'], ['almost', 'though', 'standing', 'head', 'pirate'], ['cling', 'rail', 'mast', 'rope', 'anything', 'keep'], ['sliding', 'sea', 'rushed', 'roaring', 'window'], ['door', 'last', 'ship', 'plunged', 'right', 'bottom'], ['sea', 'making', 'dreadful', 'gurgling', 'sound', 'six', 'bad', 'men'], ['left', 'bobbing', 'deep', 'water', 'bay'], [], ['started', 'swim', 'shore', 'island', 'others'], ['came', 'tried', 'get', 'boat', 'doctor', 'jip', 'kept'], ['snapping', 'nose', 'afraid', 'climb', 'side'], ['ship'], ['suddenly', 'cried', 'great', 'fear'], ['shark', 'shark', 'coming', 'let', 'u', 'get', 'ship'], ['eat', 'u', 'help', 'helpthe', 'shark', 'shark'], ['doctor', 'could', 'see', 'bay', 'back', 'big', 'fish'], ['swimming', 'swiftly', 'water'], ['one', 'great', 'shark', 'came', 'near', 'ship', 'poking', 'nose'], ['water', 'said', 'doctor'], ['john', 'dolittle', 'famous', 'animaldoctor'], ['yes', 'said', 'doctor', 'dolittle', 'name'], ['well', 'said', 'shark', 'know', 'pirate', 'bad', 'lotespecially'], ['ben', 'ali', 'annoying', 'gladly', 'eat'], ['wont', 'troubled'], ['thank', 'said', 'doctor', 'really', 'attentive', 'dont'], ['think', 'necessary', 'eat', 'dont', 'let', 'reach'], ['shore', 'tell', 'youjust', 'keep', 'swimming'], ['please', 'make', 'ben', 'ali', 'swim', 'may', 'talk'], ['shark', 'went', 'chased', 'ben', 'ali', 'doctor'], ['listen', 'ben', 'ali', 'said', 'john', 'dolittle', 'leaning', 'side'], ['bad', 'man', 'understand', 'killed', 'many'], ['people', 'good', 'shark', 'offered', 'eat'], ['twould', 'indeed', 'good', 'thing', 'sea', 'rid'], ['promise', 'tell', 'well', 'let', 'go', 'safety'], ['must', 'asked', 'pirate', 'looking', 'sideways', 'big'], ['shark', 'smelling', 'leg', 'water'], ['must', 'kill', 'people', 'said', 'doctor', 'must', 'stop'], ['stealing', 'must', 'never', 'sink', 'another', 'ship', 'must', 'give'], ['pirate', 'altogether'], [], ['shall', 'asked', 'ben', 'ali', 'shall', 'live'], ['men', 'must', 'go', 'island', 'birdseedfarmers', 'doctor', 'answered', 'must', 'grow', 'birdseed'], ['canary'], ['barbary', 'dragon', 'turned', 'pale', 'anger', 'grow', 'birdseed'], ['groaned', 'disgust', 'cant', 'sailor'], ['said', 'doctor', 'sailor', 'long'], ['enoughand', 'sent', 'many', 'stout', 'ship', 'good', 'men', 'bottom'], ['sea', 'rest', 'life', 'must', 'la', 'peaceful', 'farmer', 'shark'], ['waiting', 'waste', 'time', 'make', 'mind'], ['thunder', 'lightning', 'ben', 'ali', 'mutteredbirdseed'], ['looked', 'water', 'saw', 'great', 'fish', 'smelling'], ['leg'], ['well', 'said', 'sadly', 'well', 'farmer'], ['remember', 'said', 'doctor', 'keep'], ['promiseif', 'start', 'killing', 'stealing', 'shall', 'hear'], ['canary', 'come', 'tell', 'sure', 'find'], ['way', 'punish', 'though', 'may', 'able', 'sail', 'ship', 'well'], ['long', 'bird', 'beast', 'fish', 'friend'], ['afraid', 'pirate', 'chiefeven', 'though', 'call'], ['dragon', 'barbary', 'go', 'good', 'farmer', 'live'], ['peace'], ['doctor', 'turned', 'big', 'shark', 'waving', 'hand', 'said'], ['right', 'let', 'swim', 'safely', 'land'], [], ['sixteenth', 'chapter'], ['tootoo', 'listener'], ['thanked', 'shark', 'kindness', 'doctor'], ['pet', 'set', 'journey', 'home', 'swift', 'ship'], ['three', 'red', 'sail'], ['moved', 'open', 'sea', 'animal', 'went', 'downstairs'], ['see', 'new', 'boat', 'like', 'inside', 'doctor', 'leant'], ['rail', 'back', 'ship', 'pipe', 'mouth', 'watching'], ['canary', 'island', 'fade', 'away', 'blue', 'dusk', 'evening'], ['standing', 'wondering', 'monkey', 'getting'], ['onand', 'garden', 'would', 'look', 'like', 'got', 'back'], ['puddleby', 'dabdab', 'came', 'tumbling', 'stair', 'smile', 'full'], ['news'], ['doctor', 'cried', 'ship', 'pirate', 'simply', 'beautiful'], ['absolutely', 'bed', 'downstairs', 'made', 'primrose', 'silkwith'], ['hundred', 'big', 'pillow', 'cushion', 'thick', 'soft', 'carpet'], ['floor', 'dish', 'made', 'silver', 'sort', 'good'], ['thing', 'eat', 'drinkspecial', 'thing', 'larderwell', 'like'], ['shop', 'thats', 'never', 'saw', 'anything', 'like', 'life', 'think'], ['kept', 'five', 'different', 'kind', 'sardine', 'men', 'come', 'look'], ['oh', 'found', 'little', 'room', 'door', 'locked'], ['crazy', 'get', 'see', 'whats', 'inside', 'jip', 'say', 'must'], ['pirate', 'kept', 'treasure', 'cant', 'open', 'door', 'come'], ['see', 'let', 'u'], ['doctor', 'went', 'downstairs', 'saw', 'indeed', 'beautiful'], ['ship', 'found', 'animal', 'gathered', 'round', 'little', 'door', 'talking'], ['trying', 'guess', 'inside', 'doctor', 'turned', 'handle'], ['wouldnt', 'open', 'started', 'hunt', 'key', 'looked'], ['mat', 'looked', 'carpet', 'looked'], ['cupboard', 'drawer', 'lockersin', 'big', 'chest', 'ship'], ['diningroom', 'looked', 'everywhere'], [], ['discovered', 'lot', 'new', 'wonderful'], ['thing', 'pirate', 'must', 'stolen', 'ship', 'kashmir'], ['shawl', 'thin', 'cobweb', 'embroidered', 'flower', 'gold', 'jar'], ['fine', 'tobacco', 'jamaica', 'carved', 'ivory', 'box', 'full', 'russian', 'tea', 'old'], ['violin', 'string', 'broken', 'picture', 'back', 'set', 'big', 'chessman', 'carved', 'coral', 'amber', 'walkingstick', 'sword'], ['inside', 'pulled', 'handle', 'six', 'wineglass', 'turquoise'], ['silver', 'round', 'rim', 'lovely', 'great', 'sugarbowl', 'made'], ['mother', 'pearl', 'nowhere', 'whole', 'boat', 'could', 'find', 'key'], ['fit', 'lock'], ['came', 'back', 'door', 'jip', 'peered', 'keyhole'], ['something', 'stood', 'wall', 'inside'], ['could', 'see', 'nothing'], ['standing', 'around', 'wondering'], ['owl', 'tootoo', 'suddenly', 'said'], ['shlisteni', 'believe', 'there', 'one'], ['kept', 'still', 'moment', 'doctor', 'said'], ['must', 'mistaken', 'tootoo', 'dont', 'hear', 'anything'], ['im', 'sure', 'said', 'owl', 'shthere', 'againdont', 'hear'], [], ['said', 'doctor', 'kind', 'sound'], ['hear', 'noise', 'one', 'putting', 'hand', 'pocket', 'said'], ['owl'], ['make', 'hardly', 'sound', 'said', 'doctor', 'couldnt'], ['hear'], ['pardon', 'said', 'tootoo', 'tell', 'one'], ['side', 'door', 'putting', 'hand', 'pocket', 'almost', 'everything'], ['make', 'noiseif', 'ear', 'sharp', 'enough', 'catch', 'bat'], ['hear', 'mole', 'walking', 'tunnel', 'earthand', 'think'], ['theyre', 'good', 'hearer', 'owl', 'tell', 'using', 'one', 'ear'], ['color', 'kitten', 'way', 'wink', 'dark'], [], ['well', 'well', 'said', 'doctor', 'surprise', 'thats', 'interesting'], ['listen', 'tell', 'he'], ['im', 'sure', 'yet', 'said', 'tootoo', 'man', 'maybe', 'woman'], ['lift', 'let', 'listen', 'keyhole', 'ill', 'soon', 'tell'], ['doctor', 'lifted', 'owl', 'held', 'close', 'lock'], ['door'], ['moment', 'tootoo', 'said'], ['he', 'rubbing', 'face', 'left', 'hand', 'small', 'hand'], ['small', 'face', 'might', 'womanno', 'push', 'hair', 'back'], ['foreheadits', 'man', 'right'], ['woman', 'sometimes', 'said', 'doctor'], ['true', 'said', 'owl', 'long', 'hair', 'make', 'quite'], ['different', 'sound', 'sh', 'make', 'fidgety', 'pig', 'keep', 'still', 'hold'], ['breath', 'moment', 'listen', 'well', 'difficult', 'im'], ['nowand', 'pesky', 'door', 'thick', 'sh', 'everybody', 'quite', 'still'], ['shut', 'eye', 'dont', 'breathe'], ['tootoo', 'leaned', 'listened', 'hard', 'long'], ['last', 'looked', 'doctor', 'face', 'said'], ['man', 'unhappy', 'weeps', 'taken', 'care'], ['blubber', 'sniffle', 'lest', 'find', 'cry', 'heard'], ['quite', 'distinctlythe', 'sound', 'tear', 'falling', 'sleeve'], ['know', 'wasnt', 'drop', 'water', 'falling', 'ceiling'], ['asked', 'gubgub', 'pshawsuch', 'ignorance', 'sniffed', 'tootoo'], ['drop', 'water', 'falling', 'ceiling', 'would', 'made', 'ten', 'time', 'much'], ['noise'], ['well', 'said', 'doctor', 'poor', 'fellow', 'unhappy', 'weve', 'got', 'get'], ['see', 'whats', 'matter', 'find', 'axe', 'ill', 'chop'], ['door'], [], ['seventeenth', 'chapter'], ['ocean', 'gossip'], ['right', 'away', 'axe', 'found', 'doctor', 'soon', 'chopped', 'hole'], ['door', 'big', 'enough', 'clamber'], ['first', 'could', 'see', 'nothing', 'dark', 'inside', 'struck'], ['match'], ['room', 'quite', 'small', 'window', 'ceiling', 'low', 'furniture'], ['one', 'little', 'stool', 'round', 'room', 'big', 'barrel', 'stood'], ['wall', 'fastened', 'bottom', 'wouldnt', 'tumble'], ['rolling', 'ship', 'barrel', 'pewter', 'jug', 'size'], ['hung', 'wooden', 'peg', 'strong', 'winey', 'smell'], ['middle', 'floor', 'sat', 'little', 'boy', 'eight', 'year', 'old', 'cry', 'bitterly'], ['declare', 'pirate', 'rumroom', 'said', 'jip', 'whisper'], ['yes', 'rum', 'said', 'gubgub', 'smell', 'make', 'giddy'], ['little', 'boy', 'seemed', 'rather', 'frightened', 'find', 'man', 'standing'], ['animal', 'staring', 'hole'], ['broken', 'door', 'soon', 'saw', 'john', 'dolittles', 'face', 'light'], ['match', 'stopped', 'cry', 'got'], ['arent', 'one', 'pirate', 'asked'], ['doctor', 'threw', 'back', 'head', 'laughed', 'long', 'loud'], ['little', 'boy', 'smiled', 'came', 'took', 'hand'], ['laugh', 'like', 'friend', 'saidnot', 'like', 'pirate', 'could', 'tell'], ['uncle'], ['afraid', 'cant', 'said', 'doctor', 'see', 'last'], ['day', 'yesterday', 'said', 'boy', 'uncle'], ['fishing', 'little', 'boat', 'pirate', 'came', 'caught', 'u'], ['sunk', 'fishingboat', 'brought', 'u', 'ship', 'told'], ['uncle', 'wanted', 'pirate', 'like', 'themfor', 'clever'], ['sailing', 'ship', 'weather', 'said', 'didnt', 'want', 'pirate'], ['killing', 'people', 'stealing', 'work', 'good', 'fisherman'], ['leader', 'ben', 'ali', 'got', 'angry', 'gnashed', 'teeth'], [], ['said', 'would', 'throw', 'uncle', 'sea', 'didnt', 'said'], ['sent', 'downstairs', 'heard', 'noise', 'fight', 'going'], ['let', 'come', 'next', 'day', 'uncle'], ['nowhere', 'seen', 'asked', 'pirate', 'wouldnt'], ['tell', 'much', 'afraid', 'threw', 'sea', 'drowned'], [], ['little', 'boy', 'began', 'cry'], ['well', 'nowwait', 'minute', 'said', 'doctor', 'dont', 'cry', 'let', 'go'], ['tea', 'diningroom', 'well', 'talk', 'maybe', 'uncle'], ['quite', 'safe', 'time', 'dont', 'know', 'drowned'], ['thats', 'something', 'perhaps', 'find', 'first', 'well', 'go'], ['teawith', 'strawberryjam', 'see'], ['done'], ['animal', 'standing', 'around', 'listening', 'great', 'curiosity'], ['gone', 'ship', 'diningroom'], ['tea', 'dabdab', 'came', 'behind', 'doctor', 'chair', 'whispered'], ['ask', 'porpoise', 'boy', 'uncle', 'drownedtheyll', 'know'], ['right', 'said', 'doctor', 'taking', 'second', 'piece', 'breadandjam'], ['funny', 'clicking', 'noise', 'making'], ['tongue', 'asked', 'boy'], ['oh', 'said', 'couple', 'word', 'ducklanguage', 'doctor'], ['answered', 'dabdab', 'one', 'pet'], ['didnt', 'even', 'know', 'duck', 'language', 'said', 'boy'], ['animal', 'pet', 'strangelooking', 'thing'], ['two', 'head'], ['sh', 'doctor', 'whispered', 'pushmipullyu', 'dont', 'let'], ['see', 'talking', 'himhe', 'get', 'dreadfully', 'embarrassed', 'tell'], ['come', 'locked', 'little', 'room'], ['pirate', 'shut', 'going', 'steal', 'thing'], ['another', 'ship', 'heard', 'one', 'chopping', 'door'], ['didnt', 'know', 'could', 'glad', 'find'], ['think', 'able', 'find', 'uncle'], [], ['well', 'going', 'try', 'hard', 'said', 'doctor'], ['uncle', 'like', 'look'], ['red', 'hair', 'boy', 'answeredvery', 'red', 'hair', 'picture'], ['anchor', 'tattooed', 'arm', 'strong', 'man', 'kind', 'uncle'], ['best', 'sailor', 'south', 'atlantic', 'fishingboat', 'called'], ['saucy', 'sallya', 'cutterrigged', 'sloop'], ['whats', 'cutterigsloop', 'whispered', 'gubgub', 'turning', 'jip'], ['shthats', 'kind', 'ship', 'man', 'said', 'jip', 'keep', 'still', 'cant'], [], ['oh', 'said', 'pig', 'thought', 'something', 'drink'], ['doctor', 'left', 'boy', 'play', 'animal', 'diningroom'], ['went', 'upstairs', 'look', 'passing', 'porpoise'], ['soon', 'whole', 'school', 'came', 'dancing', 'jumping', 'water'], ['way', 'brazil'], ['saw', 'doctor', 'leaning', 'rail', 'ship', 'came'], ['see', 'getting'], ['doctor', 'asked', 'seen', 'anything', 'man', 'red'], ['hair', 'anchor', 'tattooed', 'arm'], ['mean', 'master', 'saucy', 'sally', 'asked', 'porpoise'], ['yes', 'said', 'doctor', 'thats', 'man', 'drowned'], ['fishingsloop', 'sunk', 'said', 'porpoisesfor', 'saw', 'lying'], ['bottom', 'sea', 'nobody', 'inside'], ['went', 'looked'], ['little', 'nephew', 'ship', 'said', 'doctor'], ['terribly', 'afraid', 'pirate', 'threw', 'uncle', 'sea', 'would'], ['good', 'find', 'sure', 'whether', 'drowned'], [], ['oh', 'isnt', 'drowned', 'said', 'porpoise', 'would'], ['sure', 'heard', 'deepsea', 'decapod', 'hear'], ['saltwater', 'news', 'shellfish', 'call', 'u', 'ocean', 'gossip', 'notell'], [], ['little', 'boy', 'sorry', 'know', 'uncle'], ['quite', 'certain', 'hasnt', 'drowned', 'sea'], ['doctor', 'ran', 'downstairs', 'news', 'told', 'nephew'], ['clapped', 'hand', 'happiness', 'pushmipullyu', 'took', 'little'], ['boy', 'back', 'gave', 'ride', 'round', 'diningroom', 'table'], ['animal', 'followed', 'behind', 'beating', 'dishcovers'], ['spoon', 'pretending', 'parade'], [], ['eighteenth', 'chapter'], ['smell'], ['uncle', 'must', 'found', 'said', 'doctorthat', 'next'], ['thingnow', 'know', 'wasnt', 'thrown', 'sea'], ['dabdab', 'came', 'whispered'], ['ask', 'eagle', 'look', 'man', 'living', 'creature', 'see', 'better'], ['eagle', 'mile', 'high', 'air', 'count'], ['ant', 'crawling', 'ground', 'ask', 'eagle'], ['doctor', 'sent', 'one', 'swallow', 'get', 'eagle'], ['hour', 'little', 'bird', 'came', 'back', 'six', 'different', 'kind'], ['eagle', 'black', 'eagle', 'bald', 'eagle', 'fish', 'eagle', 'golden', 'eagle'], ['eaglevulture', 'whitetailed', 'sea', 'eagle', 'twice', 'high', 'boy'], ['one', 'stood', 'rail', 'ship', 'like'], ['roundshouldered', 'soldier', 'row', 'stern', 'still', 'stiff'], ['great', 'gleaming', 'black', 'eye', 'shot', 'darting', 'glance'], ['everywhere'], ['gubgub', 'scared', 'got', 'behind', 'barrel', 'said', 'felt'], ['though', 'terrible', 'eye', 'looking', 'right', 'inside', 'see'], ['stolen', 'lunch'], ['doctor', 'said', 'eagle'], ['man', 'losta', 'fisherman', 'red', 'hair', 'anchor', 'marked'], ['arm', 'would', 'kind', 'see', 'find', 'u'], ['boy', 'man', 'nephew'], ['eagle', 'talk', 'much', 'answered', 'husky'], ['voice'], ['may', 'sure', 'bestfor', 'john', 'dolittle'], ['flew', 'offand', 'gubgub', 'came', 'behind', 'barrel'], ['see', 'go', 'wenthigher', 'higher'], ['higher', 'still', 'doctor', 'could', 'see', 'parted'], ['company', 'started', 'going', 'different', 'waysnorth', 'east', 'south'], [], ['west', 'looking', 'like', 'tiny', 'grain', 'black', 'sand', 'creeping', 'across'], ['wide', 'blue', 'sky'], ['gracious', 'said', 'gubgub', 'hushed', 'voice', 'height'], ['wonder', 'dont', 'scorch', 'feathersso', 'near', 'sun'], ['gone', 'long', 'time', 'came', 'back', 'almost'], ['night'], ['eagle', 'said', 'doctor'], ['searched', 'sea', 'country', 'island'], ['city', 'village', 'half', 'world'], ['failed', 'main', 'street', 'gibraltar', 'saw', 'three', 'red', 'hair', 'lying'], ['wheelbarrow', 'baker', 'door', 'hair'], ['manthey', 'hair', 'furcoat', 'nowhere', 'land', 'water'], ['could', 'see', 'sign', 'boy', 'uncle', 'could', 'see'], ['seen', 'john', 'dolittlewe', 'done', 'best'], ['six', 'great', 'bird', 'flapped', 'big', 'wing', 'flew', 'back'], ['home', 'mountain', 'rock'], ['well', 'said', 'dabdab', 'gone', 'going'], ['boy', 'uncle', 'must', 'foundtheres', 'two', 'way'], ['lad', 'isnt', 'old', 'enough', 'knocking', 'around', 'world'], ['boy', 'arent', 'like', 'ducklingsthey', 'taken', 'care', 'till', 'theyre', 'quite'], ['old', 'wish', 'cheechee', 'would', 'soon', 'find', 'man', 'good'], ['old', 'cheechee', 'wonder', 'he', 'getting'], ['polynesia', 'u', 'said', 'white', 'mouse', 'would'], ['soon', 'think', 'way', 'remember', 'got', 'u'], ['prisonthe', 'second', 'time', 'clever', 'one'], ['dont', 'think', 'much', 'eaglefellows', 'said', 'jip', 'theyre'], ['conceited', 'may', 'good', 'eyesight'], ['ask', 'find', 'man', 'cant', 'itand'], ['cheek', 'come', 'back', 'say', 'nobody', 'else', 'could', 'theyre'], ['conceitedlike', 'collie', 'puddleby', 'dont', 'think', 'whole', 'lot'], ['gossipy', 'old', 'porpoise', 'either', 'could', 'tell', 'u'], [], ['man', 'isnt', 'sea', 'dont', 'want', 'know', 'isntwe', 'want'], ['know'], ['oh', 'dont', 'talk', 'much', 'said', 'gubgub', 'easy', 'talk', 'isnt'], ['easy', 'find', 'man', 'got', 'whole', 'world', 'hunt'], ['maybe', 'fisherman', 'hair', 'turned', 'white', 'worrying', 'boy'], ['eagle', 'didnt', 'find', 'dont', 'know'], ['everything', 'youre', 'talking', 'anything', 'help'], ['couldnt', 'find', 'boy', 'uncle', 'eagle', 'couldyou'], ['couldnt', 'well'], ['couldnt', 'said', 'dog', 'thats', 'know', 'stupid', 'piece'], ['warm', 'bacon', 'havent', 'begun', 'try', 'yet', 'wait', 'see'], ['jip', 'went', 'doctor', 'said'], ['ask', 'boy', 'anything', 'pocket', 'belonged', 'uncle'], ['please'], ['doctor', 'asked', 'boy', 'showed', 'gold', 'ring'], ['wore', 'piece', 'string', 'around', 'neck', 'big'], ['finger', 'said', 'uncle', 'gave', 'saw', 'pirate'], ['coming'], ['jip', 'smelt', 'ring', 'said'], ['thats', 'good', 'ask', 'anything', 'else', 'belonged'], ['uncle'], ['boy', 'took', 'pocket', 'great', 'big', 'red', 'handkerchief'], ['said', 'uncle'], ['soon', 'boy', 'pulled', 'jip', 'shouted'], ['snuff', 'jingoblack', 'rappee', 'snuff', 'dont', 'smell', 'uncle'], ['took', 'snuff', 'ask', 'doctor'], ['doctor', 'questioned', 'boy', 'said', 'yes', 'uncle', 'took'], ['lot', 'snuff'], ['fine', 'said', 'jip', 'man', 'good', 'found', 'twill', 'easy', 'stealing'], ['milk', 'kitten', 'tell', 'boy', 'ill', 'find', 'uncle', 'le'], ['week', 'let', 'u', 'go', 'upstairs', 'see', 'way', 'wind', 'blowing'], [], ['dark', 'said', 'doctor', 'cant', 'find', 'dark'], ['dont', 'need', 'light', 'look', 'man', 'smell', 'black', 'rappee'], ['snuff', 'said', 'jip', 'climbed', 'stair', 'man', 'hard', 'smell', 'like'], ['string', 'nowor', 'hot', 'water', 'would', 'different', 'snufftut', 'tut'], ['hot', 'water', 'smell', 'asked', 'doctor'], ['certainly', 'said', 'jip', 'hot', 'water', 'smell', 'quite', 'different', 'cold'], ['water', 'warm', 'wateror', 'icethat', 'really', 'difficult', 'smell'], ['followed', 'man', 'ten', 'mile', 'dark', 'night', 'smell'], ['hot', 'water', 'used', 'shave', 'withfor', 'poor', 'fellow', 'soap'], ['let', 'u', 'see', 'way', 'wind', 'blowing', 'wind'], ['important', 'longdistance', 'smelling', 'mustnt', 'fierce', 'windand'], ['course', 'must', 'blow', 'right', 'way', 'nice', 'steady', 'damp', 'breeze'], ['best', 'hathis', 'wind', 'north'], ['jip', 'went', 'front', 'ship', 'smelt', 'wind'], ['started', 'muttering'], ['tar', 'spanish', 'onion', 'kerosene', 'oil', 'wet', 'raincoat', 'crushed', 'laurelleaves'], ['rubber', 'burning', 'lacecurtains', 'washedno', 'mistake', 'lacecurtains', 'hanging', 'dry', 'foxeshundreds', 'emcubs'], ['really', 'smell', 'different', 'thing', 'one', 'wind', 'asked'], ['doctor'], ['course', 'said', 'jip', 'easy', 'smell'], ['strong', 'one', 'mongrel', 'could', 'smell', 'cold', 'head'], ['wait', 'ill', 'tell', 'harder', 'scent', 'coming'], ['winda', 'dainty', 'one'], ['dog', 'shut', 'eye', 'tight', 'poked', 'nose', 'straight', 'air'], ['sniffed', 'hard', 'mouth', 'halfopen'], ['long', 'time', 'said', 'nothing', 'kept', 'still', 'stone', 'hardly'], ['seemed', 'breathing', 'last', 'began', 'speak', 'sounded'], ['almost', 'though', 'singing', 'sadly', 'dream'], ['brick', 'whispered', 'lowold', 'yellow', 'brick', 'crumbling'], ['age', 'gardenwall', 'sweet', 'breath', 'young', 'cow', 'standing'], ['mountainstream', 'lead', 'roof', 'dovecoteor', 'perhaps', 'granary'], [], ['midday', 'sun', 'black', 'kid', 'glove', 'lying', 'bureaudrawer'], ['walnutwood', 'dusty', 'road', 'horse', 'drinkingtrough', 'beneath'], ['sycamore', 'little', 'mushroom', 'bursting', 'rotting', 'leaf'], ['andand'], ['parsnip', 'asked', 'gubgub'], ['said', 'jip', 'always', 'think', 'thing', 'eat', 'parsnip', 'whatever'], ['snuffplenty', 'pipe', 'cigarette', 'cigar'], ['snuff', 'must', 'wait', 'till', 'wind', 'change', 'south'], ['yes', 'poor', 'wind', 'said', 'gubgub', 'think', 'youre', 'fake', 'jip'], ['ever', 'heard', 'finding', 'man', 'middle', 'ocean'], ['smell', 'told', 'couldnt'], ['look', 'said', 'jip', 'getting', 'really', 'angry', 'youre', 'going', 'get', 'bite'], ['nose', 'minute', 'neednt', 'think', 'doctor'], ['wont', 'let', 'u', 'give', 'deserve', 'cheeky'], ['like'], ['stop', 'quarreling', 'said', 'doctorstop', 'life', 'short', 'tell', 'jip'], ['think', 'smell', 'coming'], ['devon', 'walesmost', 'said', 'jipthe', 'wind', 'coming'], ['way'], ['well', 'well', 'said', 'doctor', 'know', 'thats', 'really', 'quite', 'remarkable'], ['quite', 'must', 'make', 'note', 'new', 'book', 'wonder', 'could'], ['train', 'smell', 'well', 'noperhaps', 'im', 'better'], ['way', 'enough', 'good', 'feast', 'say', 'let', 'go'], ['supper', 'im', 'quite', 'hungry'], ['said', 'gubgub'], [], ['nineteenth', 'chapter'], ['rock'], ['got', 'early', 'next', 'morning', 'silken', 'bed', 'saw'], ['sun', 'shining', 'brightly', 'wind', 'blowing'], ['south'], ['jip', 'smelt', 'south', 'wind', 'half', 'hour', 'came', 'doctor'], ['shaking', 'head'], ['smell', 'snuff', 'yet', 'said', 'must', 'wait', 'till', 'wind', 'change'], ['east'], ['even', 'east', 'wind', 'came', 'three', 'oclock', 'afternoon'], ['dog', 'could', 'catch', 'smell', 'snuff'], ['little', 'boy', 'terribly', 'disappointed', 'began', 'cry', 'saying'], ['one', 'seemed', 'able', 'find', 'uncle', 'jip', 'said'], ['doctor'], ['tell', 'wind', 'change', 'west', 'ill', 'find', 'uncle'], ['even', 'though', 'chinaso', 'long', 'still', 'taking', 'black', 'rappee'], ['snuff'], ['three', 'day', 'wait', 'west', 'wind', 'came'], ['friday', 'morning', 'earlyjust', 'getting', 'light', 'fine', 'rainy', 'mist', 'lay'], ['sea', 'like', 'thin', 'fog', 'wind', 'soft', 'warm', 'wet'], ['soon', 'jip', 'awoke', 'ran', 'upstairs', 'poked', 'nose', 'air'], ['got', 'frightfully', 'excited', 'rushed', 'wake'], ['doctor'], ['doctor', 'cried', 'ive', 'got', 'doctor', 'doctor', 'wake', 'listen', 'ive', 'got'], ['wind', 'west', 'smell', 'nothing', 'snuff', 'come'], ['upstairs', 'start', 'shipquick'], ['doctor', 'tumbled', 'bed', 'went', 'rudder', 'steer'], ['ship'], ['ill', 'go', 'front', 'said', 'jip', 'watch', 'nose'], ['whichever', 'way', 'point', 'turn', 'ship', 'way', 'man'], [], ['far', 'offwith', 'smell', 'strong', 'wind'], ['lovely', 'wet', 'watch'], ['morning', 'jip', 'stood', 'front', 'part', 'ship', 'sniffing'], ['wind', 'pointing', 'way', 'doctor', 'steer', 'animal'], ['little', 'boy', 'stood', 'round', 'eye', 'wide', 'open', 'watching'], ['dog', 'wonder'], ['lunchtime', 'jip', 'asked', 'dabdab', 'tell', 'doctor'], ['getting', 'worried', 'wanted', 'speak', 'dabdab', 'went'], ['fetched', 'doctor', 'end', 'ship', 'jip', 'said'], ['boy', 'uncle', 'starving', 'must', 'make', 'ship', 'go', 'fast'], [], ['know', 'starving', 'asked', 'doctor'], ['smell', 'west', 'wind', 'snuff', 'said', 'jip'], ['man', 'cooking', 'eating', 'food', 'kind', 'would', 'bound'], ['smell', 'hasnt', 'even', 'fresh', 'water', 'drink', 'taking'], ['snuffin', 'large', 'pinch', 'getting', 'nearer', 'time'], ['smell', 'grows', 'stronger', 'every', 'minute', 'make', 'ship', 'go'], ['fast', 'certain', 'man', 'starving'], ['right', 'said', 'doctor', 'sent', 'dabdab', 'ask', 'swallow'], ['pull', 'ship', 'done', 'pirate', 'chasing'], [], ['stout', 'little', 'bird', 'came', 'harnessed'], ['ship'], ['boat', 'went', 'bounding', 'wave', 'terrible', 'speed'], ['went', 'fast', 'fish', 'sea', 'jump', 'life', 'get'], ['way', 'run'], ['animal', 'got', 'tremendously', 'excited', 'gave', 'looking'], ['jip', 'turned', 'watch', 'sea', 'front', 'spy', 'land', 'island'], ['starving', 'man', 'might'], ['hour', 'hour', 'went', 'still', 'ship', 'went', 'rushing'], ['flat', 'flat', 'sea', 'land', 'anywhere', 'came', 'sight'], [], ['animal', 'gave', 'chattering', 'sat', 'around', 'silent', 'anxious'], ['miserable', 'little', 'boy', 'grew', 'sad', 'jips', 'face'], ['worried', 'look'], ['last', 'late', 'afternoon', 'sun', 'going', 'owl'], ['tootoo', 'perched', 'tip', 'mast', 'suddenly', 'startled'], ['cry', 'top', 'voice'], ['jip', 'jip', 'see', 'great', 'great', 'rock', 'front', 'uslookway'], ['sky', 'water', 'meet', 'see', 'sun', 'shine', 'itlike', 'gold'], ['smell', 'coming'], ['jip', 'called', 'back'], ['yes', 'thats', 'man', 'last', 'last'], ['got', 'nearer', 'could', 'see', 'rock', 'large'], ['large', 'big', 'field', 'tree', 'grew', 'grassnothing', 'great'], ['rock', 'smooth', 'bare', 'back', 'tortoise'], ['doctor', 'sailed', 'ship', 'right', 'round', 'rock', 'nowhere'], ['could', 'man', 'seen', 'animal', 'screwed', 'eye', 'looked'], ['hard', 'could', 'john', 'dolittle', 'got', 'telescope', 'downstairs'], ['one', 'living', 'thing', 'could', 'spynot', 'even', 'gull', 'starfish'], ['shred', 'seaweed'], ['stood', 'still', 'listened', 'straining', 'ear', 'sound'], ['noise', 'heard', 'gentle', 'lapping', 'little', 'wave'], ['side', 'ship'], ['started', 'calling', 'hulloa', 'therehulloa', 'till', 'voice'], ['hoarse', 'echo', 'came', 'back', 'rock'], ['little', 'boy', 'burst', 'tear', 'said'], ['afraid', 'shall', 'never', 'see', 'uncle', 'shall', 'tell'], ['get', 'home'], ['jip', 'called', 'doctor'], ['must', 'therehe', 'musthe', 'must', 'smell', 'go'], ['must', 'tell', 'sail', 'ship', 'close', 'rock', 'let'], ['jump'], [], ['doctor', 'brought', 'ship', 'close', 'could', 'let'], ['anchor', 'jip', 'got', 'ship', 'rock'], ['jip', 'put', 'nose', 'close', 'ground', 'began', 'run'], ['place', 'went', 'back', 'forthzigzagging'], ['twisting', 'doubling', 'turning', 'everywhere', 'went', 'doctor'], ['ran', 'behind', 'close', 'heelstill', 'terribly', 'breath'], ['last', 'jip', 'let', 'great', 'bark', 'sat', 'doctor', 'came'], ['running', 'found', 'dog', 'staring', 'big', 'deep', 'hole'], ['middle', 'rock'], ['boy', 'uncle', 'said', 'jip', 'quietly', 'wonder', 'silly'], ['eagle', 'couldnt', 'see', 'himit', 'take', 'dog', 'find', 'man'], ['doctor', 'got', 'hole', 'seemed', 'kind', 'cave'], ['tunnel', 'running', 'long', 'way', 'ground', 'struck', 'match'], ['started', 'make', 'way', 'along', 'dark', 'passage', 'jip', 'following'], ['behind'], ['doctor', 'match', 'soon', 'went', 'strike', 'another'], ['another', 'another'], ['last', 'passage', 'came', 'end', 'doctor', 'found'], ['kind', 'tiny', 'room', 'wall', 'rock'], ['middle', 'room', 'head', 'resting', 'arm', 'lay'], ['man', 'red', 'hairfast', 'asleep'], ['jip', 'went', 'sniffed', 'something', 'lying', 'ground', 'beside'], ['doctor', 'stooped', 'picked', 'enormous', 'snuffbox'], ['full', 'black', 'rappee'], [], ['twentieth', 'chapter'], ['fisherman', 'town'], ['gently', 'thenvery', 'gently', 'doctor', 'woke', 'man'], ['moment', 'match', 'went', 'man', 'thought'], ['ben', 'ali', 'coming', 'back', 'began', 'punch', 'doctor'], ['dark'], ['john', 'dolittle', 'told', 'little'], ['nephew', 'safe', 'ship', 'man', 'tremendously', 'glad', 'said'], ['sorry', 'fought', 'doctor', 'hurt', 'much'], ['thoughbecause', 'dark', 'punch', 'properly', 'gave'], ['doctor', 'pinch', 'snuff'], ['man', 'told', 'barbary', 'dragon', 'put', 'rock'], ['left', 'wouldnt', 'promise', 'become', 'pirate'], ['used', 'sleep', 'hole', 'house'], ['rock', 'keep', 'warm'], ['said'], ['four', 'day', 'nothing', 'eat', 'drink', 'lived', 'snuff'], ['said', 'jip', 'tell'], ['struck', 'match', 'made', 'way'], ['passage', 'daylight', 'doctor', 'hurried', 'man'], ['boat', 'get', 'soup'], ['animal', 'little', 'boy', 'saw', 'doctor', 'jip', 'coming', 'back'], ['ship', 'redheaded', 'man', 'began', 'cheer', 'yell'], ['dance', 'boat', 'swallow', 'started', 'whistling'], ['top', 'voicesthousands', 'million', 'themto', 'show'], ['glad', 'boy', 'brave', 'uncle', 'found', 'noise'], ['made', 'great', 'sailor', 'far', 'sea', 'thought', 'terrible'], ['storm', 'coming', 'hark', 'gale', 'howling', 'east', 'said'], ['jip', 'awfully', 'proud', 'himselfthough', 'tried', 'hard', 'look'], ['conceited', 'dabdab', 'came', 'said', 'jip', 'idea'], ['clever', 'tossed', 'head', 'answered'], [], ['oh', 'thats', 'nothing', 'special', 'take', 'dog', 'find', 'man', 'know'], ['bird', 'good', 'game', 'like'], ['doctor', 'asked', 'redhaired', 'fisherman', 'home'], ['told', 'doctor', 'asked', 'swallow', 'guide'], ['ship', 'first'], ['come', 'land', 'man', 'spoken'], ['saw', 'little', 'fishingtown', 'foot', 'rocky', 'mountain', 'man'], ['pointed', 'house', 'lived'], ['letting', 'anchor', 'little', 'boy', 'mother'], ['also', 'man', 'sister', 'came', 'running', 'shore', 'meet'], ['laughing', 'cry', 'time', 'sitting'], ['hill', 'twenty', 'day', 'watching', 'sea', 'waiting', 'return'], ['kissed', 'doctor', 'many', 'time', 'giggled', 'blushed'], ['like', 'schoolgirl', 'tried', 'kiss', 'jip', 'ran', 'away', 'hid'], ['inside', 'ship'], ['silly', 'business', 'kissing', 'said', 'dont', 'hold', 'let', 'go'], ['kiss', 'gubgubif', 'must', 'kiss', 'something'], ['fisherman', 'sister', 'didnt', 'want', 'doctor', 'go', 'away'], ['hurry', 'begged', 'spend', 'day', 'john'], ['dolittle', 'animal', 'stay', 'house', 'whole', 'saturday'], ['sunday', 'half', 'monday'], ['little', 'boy', 'fishingvillage', 'went', 'beach'], ['pointed', 'great', 'ship', 'anchored', 'said', 'one', 'another'], ['whisper'], ['look', 'pirateshipben', 'alisthe', 'terrible', 'pirate'], ['ever', 'sailed', 'seven', 'sea', 'old', 'gentleman', 'high', 'hat', 'who'], ['staying', 'mr', 'trevelyan', 'took', 'ship', 'away', 'barbary'], ['dragonand', 'made', 'farmer', 'whod', 'thought'], ['gentlelike', 'look', 'great', 'red', 'sail', 'aint'], ['wickedlooking', 'shipand', 'fastmy'], ['two', 'day', 'half', 'doctor', 'stayed', 'little', 'fishingtown', 'people', 'kept', 'asking', 'tea', 'luncheon', 'dinner'], [], ['party', 'lady', 'sent', 'box', 'flower', 'candy'], ['villageband', 'played', 'tune', 'window', 'every', 'night'], ['last', 'doctor', 'said'], ['good', 'people', 'must', 'go', 'home', 'really', 'kind'], ['shall', 'always', 'remember', 'must', 'go', 'homefor', 'thing'], ['doctor', 'leave', 'mayor', 'town', 'came'], ['street', 'lot', 'people', 'grand', 'clothes'], ['mayor', 'stopped', 'house', 'doctor', 'living'], ['everybody', 'village', 'gathered', 'round', 'see', 'going'], ['happen'], ['six', 'pageboy', 'blown', 'shining', 'trumpet', 'make', 'people'], ['stop', 'talking', 'doctor', 'came', 'step', 'mayor', 'spoke'], ['doctor', 'john', 'dolittle', 'said', 'great', 'pleasure', 'present'], ['man', 'rid', 'sea', 'dragon', 'barbary', 'little', 'token'], ['grateful', 'people', 'worthy', 'town'], ['mayor', 'took', 'pocket', 'little', 'tissuepaper', 'packet'], ['opening', 'handed', 'doctor', 'perfectly', 'beautiful', 'watch', 'real'], ['diamond', 'back'], ['mayor', 'pulled', 'pocket', 'still', 'larger', 'parcel', 'said'], ['dog'], ['everybody', 'started', 'hunt', 'jip', 'last', 'dabdab', 'found'], ['side', 'village', 'stableyard', 'dog'], ['countryside', 'standing', 'round', 'speechless', 'admiration'], ['respect'], ['jip', 'brought', 'doctor', 'side', 'mayor', 'opened', 'larger'], ['parcel', 'inside', 'dogcollar', 'made', 'solid', 'gold', 'great'], ['murmur', 'wonder', 'went', 'villagefolk', 'mayor', 'bent'], ['fastened', 'round', 'dog', 'neck', 'hand'], ['written', 'collar', 'big', 'letter', 'word', 'jipthe'], ['cleverest', 'dog', 'world'], [], ['whole', 'crowd', 'moved', 'beach', 'see'], ['redhaired', 'fisherman', 'sister', 'little', 'boy'], ['thanked', 'doctor', 'dog', 'great'], ['swift', 'ship', 'red', 'sail', 'turned', 'towards', 'puddleby'], ['sailed', 'sea', 'villageband', 'played', 'music'], ['shore'], [], ['last', 'chapter'], ['home'], ['march', 'wind', 'come', 'gone', 'april', 'shower', 'may'], ['bud', 'opened', 'flower', 'june', 'sun', 'shining'], ['pleasant', 'field', 'john', 'dolittle', 'last', 'got', 'back', 'country'], ['yet', 'go', 'home', 'puddleby', 'first', 'went', 'traveling'], ['land', 'pushmipullyu', 'gipsywagon', 'stopping'], ['countryfairs', 'acrobat', 'one', 'side'], ['punchandjudy', 'show', 'would', 'hang', 'big', 'sign'], ['read', 'come', 'see', 'marvelous', 'twoheaded'], ['animal', 'jungle', 'africa', 'admission', 'sixpence'], ['pushmipullyu', 'would', 'stay', 'inside', 'wagon'], ['animal', 'would', 'lie', 'underneath', 'doctor', 'sat', 'chair', 'front'], ['taking', 'sixpence', 'smiling', 'people', 'went'], ['dabdab', 'kept', 'busy', 'time', 'scolding', 'would', 'let'], ['child', 'nothing', 'wasnt', 'looking'], ['menageriekeepers', 'circusmen', 'came', 'asked', 'doctor'], ['sell', 'strange', 'creature', 'saying', 'would', 'pay', 'tremendous', 'lot'], ['money', 'doctor', 'always', 'shook', 'head', 'said'], ['pushmipullyu', 'shall', 'never', 'shut', 'cage', 'shall'], ['free', 'always', 'come', 'go', 'like'], ['many', 'curious', 'sight', 'happening', 'saw', 'wandering', 'life'], ['seemed', 'quite', 'ordinary', 'great', 'thing', 'seen'], ['done', 'foreign', 'land', 'interesting', 'first', 'sort'], ['part', 'circus', 'week', 'got', 'dreadfully', 'tired'], ['doctor', 'longing', 'go', 'home'], ['many', 'people', 'came', 'flocking', 'little', 'wagon', 'paid'], ['sixpence', 'go', 'inside', 'see', 'pushmipullyu', 'soon'], ['doctor', 'able', 'give', 'showman'], ['one', 'fine', 'day', 'hollyhock', 'full', 'bloom', 'came', 'back'], ['puddleby', 'rich', 'man', 'live', 'little', 'house', 'big', 'garden'], [], ['old', 'lame', 'horse', 'stable', 'glad', 'see'], ['swallow', 'already', 'built', 'nest', 'eaves'], ['roof', 'young', 'one', 'dabdab', 'glad', 'get', 'back'], ['house', 'knew', 'wellalthough', 'terrible', 'lot', 'dusting'], ['done', 'cobweb', 'everywhere'], ['jip', 'gone', 'shown', 'golden', 'collar', 'conceited'], ['collie', 'nextdoor', 'came', 'back', 'began', 'running', 'round', 'garden', 'like'], ['crazy', 'thing', 'looking', 'bone', 'buried', 'long', 'ago', 'chasing'], ['rat', 'toolshed', 'gubgub', 'dug', 'horseradish'], ['grown', 'three', 'foot', 'high', 'corner', 'gardenwall'], ['doctor', 'went', 'saw', 'sailor', 'lent', 'boat'], ['bought', 'two', 'new', 'ship', 'rubberdoll', 'baby'], ['paid', 'grocer', 'food', 'lent', 'journey', 'africa'], ['bought', 'another', 'piano', 'put', 'white', 'mouse', 'back'], ['said', 'bureaudrawer', 'drafty'], ['even', 'doctor', 'filled', 'old', 'moneybox', 'dressershelf'], ['still', 'lot', 'money', 'left', 'get', 'three', 'moneyboxes', 'big', 'put', 'rest'], ['money', 'said', 'terrible', 'nuisance', 'nice'], ['worry'], ['yes', 'said', 'dabdab', 'toasting', 'muffin', 'tea', 'indeed'], ['winter', 'came', 'snow', 'flew'], ['kitchenwindow', 'doctor', 'animal', 'would', 'sit', 'round', 'big'], ['warm', 'fire', 'supper', 'would', 'read', 'aloud'], ['book'], ['far', 'away', 'africa', 'monkey', 'chattered', 'palmtrees'], ['went', 'bed', 'big', 'yellow', 'moon', 'would', 'say'], ['one', 'another'], ['wonder', 'good', 'man', 'nowover', 'land'], ['white', 'men', 'think', 'ever', 'come', 'back'], ['polynesia', 'would', 'squeak', 'vine'], ['think', 'willi', 'guess', 'willi', 'hope'], [], ['crocodile', 'would', 'grunt', 'black', 'mud'], ['river'], ['im', 'sure', 'willgo', 'sleep'], [], []]\n",
            "Vocabulary: ['doctor', 'said', 'ship', 'see', 'one', 'animal', 'came', 'man', 'got', 'get', 'would', 'go', 'back', 'could', 'jip', 'monkey', 'well', 'come', 'went', 'asked', 'must', 'like', 'way', 'little', 'cheechee', 'polynesia', 'king', 'know', 'dont', 'sea', 'began', 'told', 'make', 'people', 'good', 'big', 'dolittle', 'tell', 'long', 'thing', 'great', 'soon', 'boy', 'white', 'saw', 'land', 'find', 'let', 'dabdab', 'never', 'still', 'u', 'going', 'money', 'look', 'gubgub', 'men', 'parrot', 'pirate', 'time', 'boat', 'coming', 'old', 'smell', 'away', 'made', 'last', 'john', 'day', 'door', 'think', 'dog', 'house', 'uncle', 'water', 'talk', 'many', 'right', 'kind', 'africa', 'looked', 'another', 'shall', 'quite', 'always', 'prince', 'wind', 'yes', 'oh', 'even', 'much', 'cried', 'didnt', 'enough', 'bed', 'found', 'sure', 'sick', 'rock', 'used', 'hard', 'black', 'home', 'left', 'round', 'take', 'chapter', 'lot', 'ask', 'getting', 'face', 'looking', 'swallow', 'night', 'say', 'put', 'jungle', 'high', 'thats', 'first', 'eat', 'ever', 'head', 'took', 'want', 'red', 'wonder', 'behind', 'sail', 'till', 'kept', 'bumpo', 'give', 'heard', 'afraid', 'something', 'couldnt', 'side', 'gone', 'keep', 'garden', 'bird', 'tootoo', 'im', 'prison', 'eye', 'whole', 'noise', 'owl', 'sat', 'tree', 'eagle', 'pushmipullyu', 'seemed', 'hand', 'duck', 'two', 'ill', 'rat', 'talking', 'horse', 'life', 'puddleby', 'though', 'anything', 'brought', 'sailor', 'book', 'nothing', 'wanted', 'wouldnt', 'end', 'cant', 'island', 'help', 'three', 'bad', 'inside', 'sun', 'cry', 'started', 'downstairs', 'pet', 'nose', 'hair', 'stay', 'send', 'seen', 'ben', 'year', 'ali', 'course', 'place', 'along', 'different', 'hear', 'pig', 'ran', 'knew', 'turned', 'stopped', 'fast', 'lion', 'trouble', 'live', 'thought', 'snuff', 'really', 'flew', 'presently', 'poor', 'across', 'around', 'caught', 'week', 'friend', 'listen', 'isnt', 'dark', 'strong', 'front', 'window', 'may', 'crocodile', 'might', 'open', 'shore', 'far', 'shark', 'queen', 'bridge', 'glad', 'everything', 'world', 'new', 'morning', 'gave', 'six', 'run', 'catch', 'full', 'every', 'barbary', 'mouse', 'rest', 'hole', 'done', 'sitting', 'running', 'near', 'thick', 'anchor', 'ago', 'answered', 'without', 'yet', 'terribly', 'sent', 'pay', 'river', 'edge', 'mean', 'bottom', 'sister', 'stood', 'sound', 'call', 'called', 'lived', 'youre', 'mile', 'plenty', 'grew', 'sleep', 'standing', 'next', 'farmer', 'better', 'canary', 'thousand', 'tail', 'wait', 'half', 'taking', 'stop', 'hat', 'terrible', 'ground', 'nearly', 'upon', 'tried', 'matter', 'whats', 'country', 'best', 'fine', 'turn', 'creature', 'mind', 'speak', 'suddenly', 'tired', 'whispered', 'fish', 'work', 'often', 'string', 'hour', 'drowned', 'porpoise', 'jolliginki', 'palace', 'sh', 'saying', 'set', 'pocket', 'able', 'surely', 'mouth', 'grass', 'understand', 'foot', 'language', 'remember', 'catsmeatman', 'voice', 'medicine', 'he', 'close', 'drink', 'word', 'town', 'lying', 'leader', 'hot', 'easy', 'wasnt', 'wave', 'room', 'fisherman', 'everybody', 'asleep', 'nice', 'west', 'air', 'beach', 'wonderful', 'hundred', 'shouted', 'waiting', 'trunk', 'rope', 'swim', 'wall', 'leaf', 'animaldoctor', 'happy', 'angry', 'journey', 'havent', 'sink', 'bay', 'sight', 'dreadfully', 'stone', 'soldier', 'ive', 'dragon', 'fire', 'forest', 'ear', 'leave', 'wide', 'mayor', 'perhaps', 'lady', 'top', 'seashore', 'south', 'name', 'child', 'breath', 'kitchen', 'food', 'maybe', 'evening', 'clever', 'making', 'hold', 'taken', 'singing', 'nobody', 'almost', 'small', 'upstairs', 'color', 'worried', 'baby', 'father', 'light', 'sailed', 'minute', 'cow', 'beautiful', 'although', 'ha', 'besides', 'warm', 'short', 'sarah', 'indeed', 'leopard', 'listened', 'blue', 'hasnt', 'arm', 'locked', 'moment', 'ready', 'blowing', 'famous', 'winter', 'tiny', 'outside', 'gold', 'lock', 'strange', 'thinking', 'leg', 'shut', 'turning', 'change', 'moon', 'shining', 'show', 'match', 'safe', 'theyre', 'rain', 'wrong', 'wish', 'middle', 'eating', 'sad', 'start', 'song', 'bar', 'dungeon', 'captain', 'passing', 'army', 'watch', 'hurry', 'sorry', 'wing', 'ocean', 'floor', 'cooking', 'afternoon', 'write', 'sleeping', 'cliff', 'rushed', 'swift', 'excited', 'read', 'medicinebag', 'laughing', 'woke', 'threw', 'promise', 'hid', 'dear', 'need', 'watching', 'beef', 'ring', 'deep', 'climbed', 'buy', 'there', 'finished', 'broken', 'glass', 'stupid', 'kingdom', 'pleasant', 'cousin', 'bring', 'green', 'field', 'large', 'wife', 'seat', 'opened', 'part', 'rail', 'sometimes', 'cold', 'message', 'barrel', 'suppose', 'hill', 'try', 'sixpence', 'wild', 'tea', 'piece', 'care', 'happened', 'dirty', 'ermintrude', 'unhappy', 'pulled', 'among', 'nowhere', 'stayed', 'shook', 'living', 'nearer', 'else', 'cat', 'everywhere', 'travel', 'diningroom', 'busy', 'proud', 'goodby', 'felt', 'business', 'fly', 'mountain', 'wont', 'poorer', 'wondering', 'sit', 'smelling', 'heart', 'roast', 'towards', 'lost', 'gracious', 'crept', 'bigger', 'please', 'sinking', 'struck', 'dance', 'kiss', 'spoke', 'tomorrow', 'mud', 'lent', 'arent', 'bag', 'gently', 'beauty', 'interesting', 'menagerie', 'key', 'storm', 'reached', 'supper', 'swimming', 'hurried', 'gathered', 'cub', 'den', 'mother', 'cocoanut', 'following', 'mast', 'path', 'pull', 'ate', 'dancing', 'led', 'thank', 'steal', 'hope', 'carrying', 'onion', 'stair', 'walking', 'leaving', 'son', 'instead', 'grand', 'wet', 'showed', 'tonight', 'smelt', 'rushing', 'present', 'carried', 'grow', 'story', 'real', 'snow', 'starving', 'whisper', 'east', 'known', 'organgrinder', 'pipe', 'chair', 'spectacle', 'vegetable', 'flower', 'rich', 'certainly', 'le', 'nephew', 'lay', 'nuisance', 'followed', 'stealing', 'rude', 'circus', 'rappee', 'tear', 'silly', 'ought', 'table', 'use', 'become', 'em', 'woman', 'id', 'alone', 'vet', 'second', 'none', 'scared', 'frightened', 'aloud', 'street', 'weather', 'trying', 'walked', 'young', 'liked', 'sickness', 'bought', 'listening', 'hanging', 'fight', 'wood', 'ten', 'passage', 'quiet', 'lame', 'md', 'conceited', 'late', 'butcher', 'brave', 'foreign', 'altogether', 'wake', 'empty', 'ceiling', 'sniffed', 'asking', 'youve', 'carry', 'clear', 'giving', 'teeth', 'letting', 'basin', 'village', 'common', 'pretty', 'cage', 'true', 'leaned', 'fuss', 'booby', 'lie', 'pair', 'blind', 'became', 'plowhorse', 'tunnel', 'softly', 'dare', 'cure', 'kissed', 'secretly', 'ivory', 'laugh', 'bat', 'eaten', 'count', 'finger', 'hell', 'joy', 'cleverest', 'quietly', 'feeling', 'rather', 'shy', 'played', 'meet', 'farewell', 'pulling', 'blame', 'hedgehog', 'hunting', 'sort', 'anxious', 'party', 'fruit', 'keeping', 'piano', 'surprised', 'together', 'pantry', 'housekeeper', 'silent', 'whenever', 'perfectly', 'pinch', 'puddlebyonthemarsh', 'packing', 'spot', 'beast', 'bottle', 'hadnt', 'antelope', 'honey', 'proudly', 'slept', 'soft', 'putting', 'silver', 'likely', 'hidden', 'waving', 'branch', 'seven', 'quickly', 'guide', 'sign', 'steep', 'weve', 'stolen', 'theyve', 'walk', 'mistake', 'cross', 'brown', 'bureaudrawer', 'sold', 'chimpanzee', 'moneybox', 'hardly', 'falling', 'bedroom', 'opening', 'promised', 'bill', 'loud', 'family', 'packed', 'dolittles', 'coast', 'begged', 'believe', 'news', 'kitten', 'straight', 'worry', 'moved', 'idea', 'hunt', 'punch', 'later', 'sand', 'awfully', 'tight', 'thunder', 'collar', 'difficult', 'sailing', 'sky', 'nap', 'telling', 'lovely', 'birdseed', 'youll', 'shelf', 'needed', 'grocer', 'collie', 'oclock', 'reading', 'chasing', 'twoheaded', 'covered', 'milk', 'climb', 'staring', 'seem', 'passed', 'yellow', 'thin', 'tied', 'drop', 'italian', 'escape', 'dry', 'others', 'hiding', 'roof', 'palmtrees', 'safely', 'ant', 'gray', 'rose', 'dug', 'lioness', 'special', 'smiled', 'fishing', 'separate', 'fourth', 'road', 'wear', 'earth', 'humming', 'waited', 'expect', 'shake', 'row', 'saturday', 'grain', 'drove', 'rheumatism', 'hungry', 'untidy', 'bath', 'discovered', 'gardengate', 'clean', 'height', 'meal', 'least', 'sunday', 'wore', 'fist', 'yelled', 'lonely', 'trick', 'oldest', 'except', 'since', 'littler', 'baboon', 'marmosettes', 'orange', 'valley', 'killed', 'vaccinating', 'nursing', 'saved', 'bit', 'fit', 'favorite', 'calf', 'lamb', 'rolling', 'funny', 'bunch', 'rare', 'folk', 'single', 'explained', 'doctorone', 'zoo', 'okapi', 'five', 'floating', 'city', 'greek', 'rarest', 'pushmipullyus', 'proper', 'sharp', 'born', 'horn', 'spent', 'greatest', 'menageriekeepers', 'early', 'grateful', 'important', 'waste', 'itand', 'cellar', 'noticed', 'seeing', 'four', 'written', 'laughed', 'badly', 'stable', 'closed', 'catching', 'gladly', 'animallanguage', 'chief', 'pleased', 'gorilla', 'fond', 'blown', 'voyage', 'lawn', 'follow', 'handy', 'borrowed', 'badger', 'watervoles', 'board', 'husband', 'fat', 'seaweed', 'rage', 'fool', 'dragging', 'raising', 'climbing', 'raining', 'bumpos', 'search', 'slowly', 'ginger', 'escaped', 'fastand', 'hollow', 'handbag', 'searching', 'understood', 'hidingplace', 'daylight', 'dusting', 'circusmen', 'talked', 'gnashed', 'ape', 'kicked', 'telescope', 'lend', 'wheres', 'dress', 'horselanguage', 'slipped', 'third', 'coughed', 'who', 'shipwrecked', 'rolled', 'reach', 'sheep', 'lightning', 'warn', 'sir', 'darker', 'anybody', 'feather', 'learn', 'flying', 'tall', 'coat', 'question', 'gentle', 'beat', 'deer', 'cheering', 'doesnt', 'married', 'mustnt', 'jumping', 'cool', 'sneaking', 'harder', 'hardest', 'lemonade', 'sell', 'tongue', 'forward', 'picked', 'hurt', 'enjoyed', 'warmer', 'cave', 'weep', 'mending', 'golly', 'sighed', 'loose', 'reason', 'bite', 'baggage', 'nest', 'aint', 'either', 'tobacco', 'age', 'school', 'dried', 'birdlanguage', 'patient', 'stick', 'brain', 'elephant', 'youjust', 'beginning', 'happens', 'sense', 'train', 'wandered', 'flyingfishes', 'build', 'theyll', 'longer', 'alligator', 'fair', 'cheechees', 'tremendous', 'swinging', 'neck', 'fault', 'double', 'scrub', 'corner', 'kitchenfloor', 'game', 'spoken', 'chance', 'palacegarden', 'speed', 'breathing', 'fellow', 'twice', 'axe', 'whatever', 'flat', 'tremendously', 'jump', 'gossip', 'closer', 'fastened', 'faster', 'thee', 'clothes', 'natural', 'sweet', 'carved', 'remembered', 'crazy', 'guess', 'handle', 'point', 'afterwards', 'low', 'using', 'cobweb', 'lift', 'box', 'tip', 'pointed', 'picture', 'fishingtown', 'redhaired', 'anywhere', 'spring', 'vine', 'move', 'aunt', 'keyhole', 'steer', 'music', 'happily', 'ride', 'lose', 'moonlight', 'certain', 'handsome', 'awoke', 'candy', 'magician', 'golden', 'angrily', 'belonged', 'higher', 'beating', 'smiling', 'shave', 'held', 'sang', 'fidgety', 'mixture', 'lookingglass', 'filled', 'surprise', 'burning', 'lacecurtains', 'pointing', 'fairy', 'thy', 'worthy', 'thou', 'sunk', 'fishingboat', 'truth', 'ti', 'tripsitinka', 'growl', 'jipthe', 'fresh', 'bitterly', 'poked', 'magic', 'parsnip', 'tattooed', 'saucy', 'smile', 'poking', 'shine', 'gardenwall', 'prisondoor', 'brick', 'clapped', 'traveling', 'lifted', 'carpet', 'traveled', 'pirateship', 'larger', 'parcel', 'leaning', 'save', 'damp', 'lower', 'thanked', 'peered', 'rid', 'bound', 'paid', 'killing', 'sword', 'sadly', 'rubbing', 'calling', 'sugarcane', 'stout', 'wagon', 'speaking', 'murmured', 'villageband', 'willi', 'settle', 'dinner', 'account', 'sloop', 'horsevery', 'annoying', 'birdseedfarmers', 'shthats', 'peopledont', 'cutterigsloop', 'cutterrigged', 'throw', 'redfaced', 'sallya', 'lotespecially', 'bear', 'sweep', 'atlantic', 'kill', 'rule', 'sideways', 'play', 'brazil', 'master', 'safety', 'agreed', 'duckpond', 'sally', 'twould', 'anywhereon', 'mustardplaster', 'potatobug', 'eyesand', 'wed', 'fishingsloop', 'pale', 'answeredvery', 'illill', 'sicknot', 'drownedtheyll', 'disgust', 'curiosity', 'brother', 'strawberryjam', 'gibraltar', 'dogsbut', 'chopping', 'harvestmice', 'helped', 'dust', 'enoughand', 'teawith', 'nowwait', 'breadandjam', 'pain', 'groaned', 'anger', 'clicking', 'unknown', 'main', 'couple', 'wearing', 'farmanimals', 'ducklanguage', 'strangelooking', 'swiftly', 'himhe', 'fill', 'embarrassed', 'porpoisesfor', 'tuesdaygood', 'creeping', 'hushed', 'himhis', 'glance', 'darting', 'necessary', 'shot', 'gleaming', 'stiff', 'stern', 'shouldnt', 'roundshouldered', 'whitetailed', 'eaglevulture', 'weekif', 'figured', 'pill', 'bald', 'spavin', 'nowfor', 'lunch', 'offand', 'waysnorth', 'cake', 'company', 'parted', 'scorch', 'wenthigher', 'attentive', 'losta', 'bestfor', 'husky', 'marked', 'housework', 'poodle', 'treating', 'crawling', 'courseof', 'thrown', 'complain', 'troubled', 'searched', 'shellfish', 'crowded', 'saltwater', 'animalsjust', 'fact', 'notell', 'invented', 'cleverer', 'decapod', 'deepsea', 'whether', 'failed', 'offered', 'feathersso', 'horseonly', 'chased', 'arithmetic', 'thingnow', 'doctorthat', 'eighteenth', 'plowing', 'sake', 'fiftyacre', 'happiness', 'parade', 'pug', 'kitchenfire', 'pretending', 'spoon', 'dishcovers', 'outthe', 'tooth', 'linoleum', 'onand', 'charles', 'shlisteni', 'oaktreebecause', 'cured', 'pearl', 'death', 'sugarbowl', 'rim', 'themfor', 'lapdog', 'tumbling', 'turquoise', 'wineglass', 'awaythey', 'walkingstick', 'refuse', 'mistaken', 'shthere', 'dusk', 'eightytwo', 'geography', 'knowpeople', 'womanno', 'wink', 'flylike', 'hedgesparrowwe', 'wept', 'hearer', 'wise', 'earthand', 'mole', 'noiseif', 'pardon', 'againdont', 'eightythree', 'amber', 'smoking', 'simply', 'animalshe', 'lockersin', 'drawer', 'waswith', 'cupboard', 'mat', 'cheecheewhich', 'monkeylanguage', 'meaning', 'treasure', 'sardine', 'toothache', 'shop', 'drinkspecial', 'larderwell', 'crocodilelanguage', 'chest', 'kashmir', 'coral', 'dish', 'chessman', 'absolutely', 'primrose', 'savage', 'silkwith', 'violin', 'russian', 'pillow', 'cushion', 'jamaica', 'jar', 'embroidered', 'shilling', 'shawl', 'fishpond', 'push', 'foreheadits', 'teach', 'animalsall', 'hung', 'size', 'jug', 'pewter', 'mutteredbirdseed', 'writing', 'windowas', 'didlooking', 'tumble', 'promiseif', 'stool', 'furniture', 'clamber', 'chopped', 'nasty', 'worldbetter', 'wooden', 'seventeenth', 'peg', 'wrote', 'eats', 'la', 'fussy', 'dooreven', 'saidnot', 'giddy', 'patiently', 'rum', 'behaved', 'peaceful', 'rumroom', 'declare', 'eight', 'winey', 'punish', 'chop', 'nowand', 'distinctlythe', 'sixteenth', 'sniffle', 'languageand', 'blubber', 'listener', 'professor', 'weeps', 'beard', 'breathe', 'pesky', 'allowed', 'kindness', 'stand', 'leant', 'fade', 'lest', 'macaw', 'doctorits', 'ruined', 'learned', 'chiefeven', 'wag', 'peace', 'gladits', 'ignorance', 'pshawsuch', 'straw', 'annoy', 'dreadfullysuch', 'sleeve', 'ontalking', 'entirely', 'dumb', 'dumbhuh', 'yesterday', 'ami', 'wheelbarrow', 'parlor', 'blushed', 'giggled', 'return', 'twenty', 'also', 'sofa', 'rocky', 'tossed', 'oxenthorpe', 'himselfthough', 'howling', 'gale', 'hark', 'themto', 'million', 'voicesthousands', 'whistling', 'yell', 'cheer', 'schoolgirl', 'kissing', 'gubgubif', 'trevelyan', 'pigeon', 'luncheon', 'fastmy', 'shipand', 'wickedlooking', 'gentlelike', 'whod', 'dragonand', 'mr', 'spend', 'staying', 'gentleman', 'alisthe', 'pirateshipben', 'anchored', 'grumble', 'fishingvillage', 'monday', 'redheaded', 'soup', 'ageand', 'properly', 'twisting', 'forthzigzagging', 'leftexcept', 'musthe', 'therehe', 'burst', 'catsmeat', 'echo', 'hoarse', 'yearat', 'christmastime', 'therehulloa', 'hulloa', 'lapping', 'straining', 'shred', 'starfish', 'oneven', 'gull', 'doubling', 'heelstill', 'bark', 'twentieth', 'thoughbecause', 'personage', 'driven', 'fought', 'squire', 'jenkins', 'parson', 'thenvery', 'againno', 'himit', 'snuffbox', 'enormous', 'stooped', 'beside', 'hairfast', 'resting', 'strike', 'ridiculous', 'chicken', 'horsetwentyfive', 'screwed', 'punchandjudy', 'wellalthough', 'eaves', 'built', 'already', 'bloom', 'hollyhock', 'showman', 'flocking', 'longing', 'ordinary', 'wandering', 'happening', 'curious', 'everyone', 'free', 'scolding', 'underneath', 'admission', 'marvelous', 'shown', 'nextdoor', 'bone', 'moneyboxes', 'squeak', 'hugh', 'lofting', 'nowover', 'chattered', 'kitchenwindow', 'muffin', 'toasting', 'dressershelf', 'buried', 'drafty', 'grandfather', 'rubberdoll', 'childrenthere', 'grown', 'dolittlejohn', 'horseradish', 'toolshed', 'hang', 'acrobat', 'tune', 'countryfairs', 'countryside', 'stableyard', 'diamond', 'handed', 'packet', 'goldfish', 'pond', 'tissuepaper', 'rabbit', 'token', 'pleasure', 'step', 'trumpet', 'squirrel', 'linen', 'closet', 'pageboy', 'happen', 'homefor', 'speechless', 'admiration', 'respect', 'shower', 'stopping', 'gipsywagon', 'crow', 'churchtower', 'caw', 'nod', 'june', 'bud', 'april', 'dogcollar', 'march', 'crowd', 'letter', 'bent', 'villagefolk', 'murmur', 'solid', 'weepingwillows', 'spynot', 'tortoise', 'baker', 'fierce', 'raincoat', 'oil', 'kerosene', 'languagespeoples', 'spanish', 'tar', 'polly', 'muttering', 'cracker', 'north', 'hathis', 'kaka', 'oiee', 'feefee', 'breeze', 'steady', 'porridge', 'blow', 'yetin', 'crushed', 'laurelleaves', 'windowsill', 'dainty', 'weak', 'lambstheyd', 'crumbling', 'lowold', 'dream', 'sounded', 'upif', 'halfopen', 'winda', 'rubber', 'scent', 'mongrel', 'insteadtheyll', 'emcubs', 'foxeshundreds', 'washedno', 'animaldoctors', 'flowerpot', 'windand', 'crackercrumbs', 'lead', 'longdistance', 'worrying', 'isntwe', 'gossipy', 'conceitedlike', 'eyebrow', 'cheek', 'tailswith', 'eyesight', 'eaglefellows', 'prisonthe', 'twitching', 'ducklingsthey', 'knocking', 'lad', 'foundtheres', 'flapped', 'dolittlewe', 'furcoat', 'manthey', 'couldyou', 'scratching', 'bacon', 'nowor', 'soap', 'withfor', 'icethat', 'wateror', 'dresserdrawer', 'tut', 'snufftut', 'pencil', 'interestingvery', 'teatime', 'interestingsomething', 'twill', 'questioned', 'abc', 'jingoblack', 'handkerchief', 'laundress', 'begun', 'mountainstream', 'dovecoteor', 'bare', 'animalsmuch', 'fetched', 'lunchtime', 'townthe', 'sniffing', 'offwith', 'whichever', 'rudder', 'tumbled', 'stomachache', 'shipquick', 'frightfully', 'fog', 'mist', 'rainy', 'earlyjust', 'friday', 'sailorsong', 'chinaso', 'disappointed', 'snuffin', 'grows', 'stocking', 'jips', 'smooth', 'grassnothing', 'itlike', 'uslookway', 'cost', 'feed', 'startled', 'perched', 'miserable', 'stronger', 'chattering', 'spy', 'suit', 'becoming', 'bounding', 'harnessed', 'countrylook', 'nowhe', 'shaking', 'brightly', 'granary', 'silken', 'cigar', 'cigarette', 'meat', 'snuffplenty', 'andand', 'rotting', 'bursting', 'mushroom', 'sycamore', 'beneath', 'droopylike', 'reference', 'drinkingtrough', 'dusty', 'walnutwood', 'anyway', 'glove', 'kid', 'midday', 'fake', 'finding', 'neednt', 'theodosia', 'wroteabout', 'nineteenth', 'feast', 'noperhaps', 'note', 'myselfor', 'remarkable', 'walesmost', 'shes', 'deserve', 'scholar', 'wonderfulthats', 'saidwonderful', 'devon', 'doctorstop', 'quarreling', 'doctoring', 'cheeky', 'gardening', 'doglanguage', 'helpthe', 'grandmother', 'winged', 'sayest', 'restingtime', 'bower', 'yonder', 'tale', 'rang', 'historybooks', 'himtales', 'tent', 'noah', 'floodof', 'dressed', 'bearskin', 'mutton', 'raw', 'washaving', 'mammoth', 'palmleaves', 'smoke', 'methought', 'themlike', 'deed', 'mighty', 'cheecheenot', 'overhead', 'morethat', 'tiredespecially', 'wizard', 'clasping', 'date', 'themor', 'fig', 'groundnut', 'yam', 'juice', 'sweetened', 'fairyqueen', 'bee', 'rosebud', 'lizard', 'perchance', 'kingly', 'sprang', 'gingerroot', 'scold', 'tripped', 'blundered', 'fell', 'spied', 'earsthough', 'somebody', 'meant', 'swampshlook', 'blinked', 'blinking', 'flowing', 'sideacross', 'nowlook', 'firmly', 'dropped', 'boysa', 'bringing', 'hastened', 'nibbling', 'laid', 'interested', 'scurry', 'girl', 'faraway', 'dreamy', 'sigh', 'treetop', 'weary', 'swamp', 'usdont', 'watched', 'fairystories', 'gravelwalk', 'strolling', 'grunt', 'fairytale', 'greet', 'hadand', 'performed', 'languishing', 'hinge', 'jolly', 'marry', 'againloud', 'awake', 'parrotjust', 'hera', 'youi', 'laugheda', 'awaken', 'spread', 'mimic', 'foolish', 'forgotten', 'mdthe', 'invisible', 'measure', 'temporary', 'illjust', 'zincointment', 'sleepily', 'cough', 'mumps', 'tennis', 'armor', 'forget', 'manand', 'satisfy', 'blonde', 'supposing', 'thoughtfully', 'potion', 'ball', 'coughedjust', 'popped', 'snoring', 'powerful', 'tiptoed', 'peeped', 'sadness', 'somewhere', 'mebut', 'animalpigmentperhaps', 'risen', 'beforeand', 'shoe', 'twelfth', 'servant', 'toohis', 'cook', 'gardener', 'barber', 'thanks', 'tutoreven', 'fairyland', 'toothbrush', 'whitest', 'shalt', 'himwhich', 'behold', 'lingering', 'junglebetter', 'thickest', 'foresta', 'nightshirt', 'sniff', 'tremble', 'possible', 'raise', 'chlorine', 'jumped', 'liberated', 'backdoor', 'latchkey', 'tricked', 'murmuring', 'waythink', 'cookingsmells', 'impatiently', 'skin', 'seventh', 'ethiopian', 'simple', 'redyed', 'appeared', 'palacekitchen', 'quickmake', 'scrubbing', 'job', 'excuse', 'impossible', 'paying', 'orangoutang', 'paltry', 'abyssinian', 'pushmipullyuto', 'biscuit', 'related', 'boatbecause', 'owes', 'certainlyof', 'biggest', 'hereand', 'given', 'trusted', 'abroad', 'finest', 'fifty', 'gazelle', 'useless', 'erwhatdoyoucallit', 'notice', 'zebrasall', 'plainscame', 'pineapple', 'ninth', 'council', 'polite', 'eatingmostly', 'forever', 'buffon', 'traveler', 'answer', 'page', 'unicorn', 'greatgrandfather', 'monkeyservants', 'chamoison', 'himperhaps', 'asiatic', 'anothera', 'banana', 'mango', 'persuade', 'alive', 'deepest', 'scarce', 'gazing', 'knocked', 'pushmipullyubecause', 'facing', 'awakeand', 'huntsman', 'extinct', 'stared', 'peculiar', 'footprint', 'hate', 'bank', 'guessed', 'joined', 'circle', 'lord', 'pushmipullyuthe', 'heavy', 'major', 'funnylooking', 'withand', 'shocked', 'thoughtless', 'onesstupid', 'easily', 'amused', 'nail', 'iguana', 'tenth', 'london', 'sensible', 'ofunless', 'belgium', 'scrape', 'fortune', 'antwerp', 'african', 'giraffe', 'share', 'begin', 'onesall', 'convolvulusrunners', 'tangled', 'sickgorillas', 'orangoutangs', 'boggy', 'dogfaced', 'stumbled', 'cut', 'died', 'glimpse', 'vaccinated', 'pocketknife', 'madea', 'creeper', 'bush', 'strayed', 'disappeared', 'scornful', 'eighth', 'scratched', 'meme', 'narrow', 'lively', 'gazed', 'himmade', 'monkeysquick', 'flashhad', 'holding', 'overall', 'youhurry', 'dizzy', 'lain', 'backgarden', 'torn', 'blundering', 'underbrush', 'thorn', 'explorer', 'graybearded', 'naturalist', 'glaring', 'waved', 'wash', 'emptyheaded', 'mark', 'screamed', 'indian', 'isthe', 'nowwhen', 'offend', 'hairy', 'strength', 'youand', 'monkeymothers', 'eri', 'motherlion', 'ier', 'themin', 'difficulty', 'canjust', 'oblige', 'youso', 'poorly', 'cunning', 'upset', 'timid', 'brushingbadly', 'troublethey', 'stalked', 'junglepaths', 'ahead', 'smart', 'antelopesalthough', 'stile', 'lionthey', 'childrentwo', 'pawed', 'foolishly', 'nurse', 'frantic', 'tread', 'eleventh', 'islookwhere', 'nervousnessfor', 'gauntlet', 'seeill', 'thenyoull', 'herthe', 'thatand', 'seavoyages', 'skinny', 'pilotbread', 'saidhard', 'tack', 'piebald', 'cansand', 'feltyou', 'dormouse', 'bell', 'tingle', 'halfhour', 'ropeit', 'breakfast', 'feelinglike', 'tingly', 'bother', 'jaundice', 'threewith', 'rotten', 'pail', 'rattle', 'teething', 'doctordear', 'seems', 'mountainside', 'seaside', 'saucepan', 'borrow', 'seaman', 'sing', 'measles', 'regard', 'youvery', 'boatthe', 'considerate', 'tingling', 'rightthe', 'welland', 'goodness', 'wished', 'twopence', 'rounded', 'hide', 'warning', 'fourteenth', 'trip', 'smaller', 'growing', 'boiled', 'frothed', 'isle', 'bookshelf', 'wight', 'flier', 'stringall', 'unravel', 'mensix', 'greenland', 'mustache', 'barge', 'bunk', 'waterbecause', 'backno', 'loft', 'doctorvery', 'freeze', 'shutter', 'disgraceful', 'sneeras', 'doctorso', 'ahemeryou', 'hay', 'wiped', 'romp', 'luggage', 'suetpudding', 'whisker', 'suetpuddings', 'cleaned', 'nervously', 'timidly', 'stretch', 'sureof', 'penny', 'creep', 'excellent', 'fishmonger', 'hen', 'bellowed', 'egg', 'uneasy', 'omelette', 'junket', 'sarahshe', 'womanin', 'leaking', 'wayswell', 'puzzled', 'earlier', 'usual', 'joke', 'hauled', 'cracking', 'break', 'lightningmen', 'radish', 'springing', 'dreadful', 'doall', 'fear', 'snapping', 'bobbing', 'fun', 'gurgling', 'sweeping', 'rag', 'onto', 'duffer', 'broom', 'plunged', 'tidy', 'roaring', 'sliding', 'cling', 'fastertill', 'stall', 'barking', 'sharpen', 'meadow', 'shipwhich', 'andjust', 'rainbutt', 'perished', 'huddled', 'shivering', 'warmed', 'mantelpiece', 'doctorsplendid', 'africaespecially', 'saidthere', 'bitter', 'flustered', 'hurrying', 'ticket', 'squeaked', 'apple', 'dresser', 'itnot', 'laying', 'fifteenth', 'glee', 'porkchop', 'december', 'pistol', 'bitten', 'love', 'rascal', 'nightand', 'soonthe', 'trunkfull', 'gotand', 'beg', 'eh', 'entrance', 'escaping', 'mine', 'sneezed', 'carefully', 'moving', 'dying', 'souptureen', 'race', 'win', 'exhausted', 'likei', 'relative', 'serve', 'harm', 'hardtack', 'sank', 'frightenedbecause', 'swam', 'waggling', 'upit', 'joking', 'wellpoor', 'stowaway', 'prisonwindowwell', 'comfortably', 'footstep', 'kitcheni', 'dolittlem', 'toyboat', 'apologizeoh', 'ii', 'sixtynine', 'timber', 'floated', 'shelter', 'whispering', 'sandy', 'lonesome', 'appletree', 'itll', 'snooze', 'missed', 'changed', 'coursebut', 'doctorromantic', 'ugly', 'hed', 'knowshe', 'eyesshe', 'wellill', 'possibly', 'belong', 'slowest', 'lightoh', 'mixed', 'spank', 'horrible', 'dim', 'crown', 'grumbled', 'hersneaked', 'promiseby', 'skinyes', 'inright', 'thoughyou', 'bumpoand', 'pocketand', 'ruse', 'smoothing', 'beak', 'lucky', 'steel', 'dip', 'timeso', 'stranger', 'undid', 'sixth', 'worked', 'whitei', 'space', 'mirror', 'morningthats', 'feel', 'polished', 'copper', 'strongest', 'salmon', 'umbrella', 'manly', 'mudcolored', 'tusk', 'paper', 'medicinemanwith', 'label', 'louder', 'thema', 'rough', 'equator', 'curled', 'dive', 'lip', 'herring', 'tuesday', 'fridayswhen', 'sleepas', 'gravy', 'beefwith', 'growledthe', 'mumbledunderdone', 'fiftyfive', 'friendly', 'exercise', 'sunshiny', 'mischief', 'chase', 'sailingships', 'showing', 'worst', 'morewith', 'whoever', 'jane', 'pigthe', 'fifth', 'pirateswhich', 'dragged', 'fetch', 'lantern', 'miss', 'shooting', 'drinking', 'star', 'sailsall', 'barked', 'woofoowoof', 'fighting', 'shade', 'scoundrel', 'fightsix', 'desert', 'pas', 'homeward', 'streaming', 'pass', 'stormcloud', 'dived', 'blacklike', 'comingmore', 'wellwe', 'swarm', 'huge', 'fastthats', 'thirteenth', 'tie', 'palmtree', 'themflying', 'birdsmillions', 'lifeline', 'shoresome', 'poplartree', 'autumn', 'bang', 'splashed', 'torrent', 'howled', 'onwe', 'dashed', 'thoughtful', 'net', 'summer', 'anywhereall', 'ended', 'feathered', 'breast', 'treesthe', 'shipanywhere', 'greater', 'rustling', 'madeno', 'shone', 'nightsky', 'skimming', 'willgo']\n",
            "2523\n",
            "[('said', 0.9240769147872925), ('get', 0.9121502041816711), ('back', 0.9045076966285706), ('ship', 0.9029378294944763), ('go', 0.8985961675643921), ('got', 0.8942931294441223), ('made', 0.8908552527427673), ('like', 0.8875731229782104), ('one', 0.8863255381584167), ('good', 0.8852413296699524)]\n"
          ]
        }
      ]
    },
    {
      "cell_type": "markdown",
      "source": [
        "**Parts of speech tagging**\n",
        "\n",
        "\n",
        "Parts of Speech tagging is a linguistic activity in Natural Language Processing (NLP) wherein each word in a document is given a particular part of speech (adverb, adjective, verb, etc.) or grammatical category. Through the addition of a layer of syntactic and semantic information to the words, this procedure makes it easier to comprehend the sentence’s structure and meaning\n"
      ],
      "metadata": {
        "id": "x2cXoq4L-Fgc"
      }
    },
    {
      "cell_type": "code",
      "source": [
        "import nltk\n",
        "\n",
        "from nltk import ne_chunk\n",
        "nltk.download('averaged_perceptron_tagger')\n",
        "string = \"\"\"ONCE upon a time, many years ago when our grandfathers were little\n",
        "children—there was a doctor; and his name was Dolittle—John Dolittle,\n",
        "M.D. \"M.D.\" means that he was a proper doctor and knew a whole lot.\n",
        "He lived in a little town called, Puddleby-on-the-Marsh. All the folks,\n",
        "young and old, knew him well by sight. And whenever he walked down\n",
        "the street in his high hat everyone would say, \"There goes the Doctor!—\n",
        "He's a clever man.\" And the dogs and the children would all run up and\n",
        "follow behind him; and even the crows that lived in the church-tower\n",
        "would caw and nod their heads.\"\"\"\n",
        "\n",
        "tokens = nltk.word_tokenize(string)\n",
        "pos_tags = nltk.pos_tag(tokens)\n",
        "\n",
        "ner_tags = ne_chunk(pos_tags)\n",
        "print(ner_tags)"
      ],
      "metadata": {
        "colab": {
          "base_uri": "https://localhost:8080/"
        },
        "collapsed": true,
        "id": "1GgXDwxpswpt",
        "outputId": "3d4e8f6b-a071-47c6-a951-208ed6c08ff3"
      },
      "execution_count": 65,
      "outputs": [
        {
          "output_type": "stream",
          "name": "stdout",
          "text": [
            "(S\n",
            "  ONCE/RB\n",
            "  upon/IN\n",
            "  a/DT\n",
            "  time/NN\n",
            "  ,/,\n",
            "  many/JJ\n",
            "  years/NNS\n",
            "  ago/RB\n",
            "  when/WRB\n",
            "  our/PRP$\n",
            "  grandfathers/NNS\n",
            "  were/VBD\n",
            "  little/JJ\n",
            "  children—there/NN\n",
            "  was/VBD\n",
            "  a/DT\n",
            "  doctor/NN\n",
            "  ;/:\n",
            "  and/CC\n",
            "  his/PRP$\n",
            "  name/NN\n",
            "  was/VBD\n",
            "  Dolittle—John/NNP\n",
            "  Dolittle/NNP\n",
            "  ,/,\n",
            "  M.D/NNP\n",
            "  ./.\n",
            "  ``/``\n",
            "  M.D/NNP\n",
            "  ./.\n",
            "  ''/''\n",
            "  means/VBZ\n",
            "  that/IN\n",
            "  he/PRP\n",
            "  was/VBD\n",
            "  a/DT\n",
            "  proper/JJ\n",
            "  doctor/NN\n",
            "  and/CC\n",
            "  knew/VBD\n",
            "  a/DT\n",
            "  whole/JJ\n",
            "  lot/NN\n",
            "  ./.\n",
            "  He/PRP\n",
            "  lived/VBD\n",
            "  in/IN\n",
            "  a/DT\n",
            "  little/JJ\n",
            "  town/NN\n",
            "  called/VBN\n",
            "  ,/,\n",
            "  Puddleby-on-the-Marsh/NNP\n",
            "  ./.\n",
            "  All/PDT\n",
            "  the/DT\n",
            "  folks/NNS\n",
            "  ,/,\n",
            "  young/JJ\n",
            "  and/CC\n",
            "  old/JJ\n",
            "  ,/,\n",
            "  knew/VBD\n",
            "  him/PRP\n",
            "  well/RB\n",
            "  by/IN\n",
            "  sight/NN\n",
            "  ./.\n",
            "  And/CC\n",
            "  whenever/WRB\n",
            "  he/PRP\n",
            "  walked/VBD\n",
            "  down/RP\n",
            "  the/DT\n",
            "  street/NN\n",
            "  in/IN\n",
            "  his/PRP$\n",
            "  high/JJ\n",
            "  hat/NN\n",
            "  everyone/NN\n",
            "  would/MD\n",
            "  say/VB\n",
            "  ,/,\n",
            "  ``/``\n",
            "  There/EX\n",
            "  goes/VBZ\n",
            "  the/DT\n",
            "  Doctor/NN\n",
            "  !/.\n",
            "  —/NN\n",
            "  He/PRP\n",
            "  's/VBZ\n",
            "  a/DT\n",
            "  clever/JJ\n",
            "  man/NN\n",
            "  ./.\n",
            "  ''/''\n",
            "  And/CC\n",
            "  the/DT\n",
            "  dogs/NNS\n",
            "  and/CC\n",
            "  the/DT\n",
            "  children/NNS\n",
            "  would/MD\n",
            "  all/DT\n",
            "  run/VB\n",
            "  up/RP\n",
            "  and/CC\n",
            "  follow/VB\n",
            "  behind/IN\n",
            "  him/PRP\n",
            "  ;/:\n",
            "  and/CC\n",
            "  even/RB\n",
            "  the/DT\n",
            "  crows/NNS\n",
            "  that/WDT\n",
            "  lived/VBD\n",
            "  in/IN\n",
            "  the/DT\n",
            "  church-tower/NN\n",
            "  would/MD\n",
            "  caw/VB\n",
            "  and/CC\n",
            "  nod/VB\n",
            "  their/PRP$\n",
            "  heads/NNS\n",
            "  ./.)\n"
          ]
        },
        {
          "output_type": "stream",
          "name": "stderr",
          "text": [
            "[nltk_data] Downloading package maxent_ne_chunker to\n",
            "[nltk_data]     /root/nltk_data...\n",
            "[nltk_data]   Package maxent_ne_chunker is already up-to-date!\n",
            "[nltk_data] Downloading package words to /root/nltk_data...\n",
            "[nltk_data]   Package words is already up-to-date!\n",
            "[nltk_data] Downloading package averaged_perceptron_tagger to\n",
            "[nltk_data]     /root/nltk_data...\n",
            "[nltk_data]   Package averaged_perceptron_tagger is already up-to-\n",
            "[nltk_data]       date!\n"
          ]
        }
      ]
    }
  ]
}